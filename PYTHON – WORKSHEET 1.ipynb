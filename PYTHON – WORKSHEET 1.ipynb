{
 "cells": [
  {
   "cell_type": "markdown",
   "id": "d1e5d5b4",
   "metadata": {},
   "source": [
    "# ##\n",
    "...\n",
    "...\n",
    "                           PYTHON – WORKSHEET 1\n",
    "\n",
    "Q1 to Q8 have only one correct answer. Choose the correct option to answer your question.\n",
    "\n",
    "1.Which of the following operators is used to calculate remainder in a division?\n",
    "A) #        B) &\n",
    "C) %        D) $                      \n",
    "        Ans: C) % \n",
    "\n",
    "2. In python 2//3 is equal to?\n",
    "A) 0.666    B) 0\n",
    "C) 1        D) 0.67\n",
    "       Ans: B) 0\n",
    "\n",
    "3. In python, 6<<2 is equal to?\n",
    "A) 36 B) 10\n",
    "C) 24 D) 45\n",
    "       Ans: C) 24\n",
    "\n",
    "4. In python, 6&2 will give which of the following as output?\n",
    "A) 2 B) True\n",
    "C) False D) 0\n",
    "       Ans: A) 2 \n",
    "\n",
    "5. In python, 6|2 will give which of the following as output?\n",
    "A) 2 B) 4\n",
    "C) 0 D) 6\n",
    "       Ans: D) 6 \n",
    "\n",
    "6. What does the finally keyword denotes in python \n",
    "A) It is used to mark the end of the code\n",
    "B) It encloses the lines of code which will be executed if any error occurs while executing the lines of code in \n",
    "the try block.\n",
    "C) the finally block will be executed no matter if the try block raises an error or not.\n",
    "D) None of the above\n",
    "       Ans: C) the finally block will be executed no matter if the try block raises an error or not.\n",
    "  \n",
    "7. What does raise keyword is used for in python?\n",
    "A) It is used to raise an exception.  B) It is used to define lambda function\n",
    "C) it's not a keyword in python.      D) None of the above\n",
    "       Ans: A) It is used to raise an exception.\n",
    "\n",
    "8. Which of the following is a common use case of yield keyword in python?\n",
    "A) in defining an iterator            B) while defining a lambda function\n",
    "C) in defining a generator            D) in for loop.\n",
    "       Ans: C) In Defining a generator.\n",
    "\n",
    "Q9 and Q10 have multiple correct answers. Choose all the correct options to answer your question.\n",
    "9. Which of the following are the valid variable names?\n",
    "A) _abc      B) 1abc\n",
    "C) abc2      D) None of the above\n",
    "       \n",
    "       Ans: A) _abc and  C) abc2 \n",
    "\n",
    "10. Which of the following are the keywords in python?\n",
    "A) yield     B) raise\n",
    "C) look-in   D) all of the above\n",
    "       \n",
    "        Ans: A) yield and B) raise. \n",
    "...\n"
   ]
  },
  {
   "cell_type": "code",
   "execution_count": null,
   "id": "5c0bbd98",
   "metadata": {},
   "outputs": [],
   "source": []
  },
  {
   "cell_type": "markdown",
   "id": "e8fb4f42",
   "metadata": {},
   "source": [
    " # 11. Write a python program to find the factorial of a number.\n"
   ]
  },
  {
   "cell_type": "code",
   "execution_count": 2,
   "id": "9df57408",
   "metadata": {},
   "outputs": [
    {
     "name": "stdout",
     "output_type": "stream",
     "text": [
      "Enter any number :20\n",
      "2432902008176640000\n"
     ]
    }
   ],
   "source": [
    "num = int(input(\"Enter any number :\"))\n",
    "fact = 1 \n",
    "for i in range(1,num+1):\n",
    "    fact = fact*i\n",
    "print(fact)"
   ]
  },
  {
   "cell_type": "markdown",
   "id": "d2e52286",
   "metadata": {},
   "source": [
    "# 12. Write a python program to find whether a number is prime or composite."
   ]
  },
  {
   "cell_type": "code",
   "execution_count": null,
   "id": "108bf074",
   "metadata": {},
   "outputs": [],
   "source": [
    "num = int(input(\"Enter any number :\"))\n",
    "if num > 1:\n",
    "    for i in range(2, num):\n",
    "        if (num % i) == 0:\n",
    "            print(num,\"is a composite number\")\n",
    "            break\n",
    "    else:\n",
    "        print(num,\"is prime number\")\n",
    "elif num == 0 or 1: \n",
    "    print(num, \"is neither prime number nor a composite number\")\n",
    "else: \n",
    "    print(num,\"is a prime number\")"
   ]
  },
  {
   "cell_type": "markdown",
   "id": "2812ff25",
   "metadata": {},
   "source": [
    "# 13. Write a python program to check whether a given string is palindrome or not."
   ]
  },
  {
   "cell_type": "code",
   "execution_count": null,
   "id": "6b768379",
   "metadata": {},
   "outputs": [],
   "source": [
    "my_str = input(\"Enter string:\")\n",
    "if(my_str == my_str[::-1]):\n",
    "   print(\"The string is a palindrome\")\n",
    "else:\n",
    "   print(\"The string isn't a palindrome\")"
   ]
  },
  {
   "cell_type": "markdown",
   "id": "68997df2",
   "metadata": {},
   "source": [
    "# 14. Write a Python program to get the third side of right-angled triangle from two given sides.\n"
   ]
  },
  {
   "cell_type": "code",
   "execution_count": null,
   "id": "63f5768d",
   "metadata": {},
   "outputs": [],
   "source": [
    "a = int(input(\"Enter first side :\"))\n",
    "b = int(input(\"Enter second side :\"))\n",
    "\n",
    "from math import sqrt\n",
    "\n",
    "c = sqrt(a**2 + b**2)\n",
    "print(\"The length of third side is:\", c)\n"
   ]
  },
  {
   "cell_type": "markdown",
   "id": "ac05dd23",
   "metadata": {},
   "source": [
    "# 15. Write a python program to print the frequency of each of the characters present in a given string."
   ]
  },
  {
   "cell_type": "code",
   "execution_count": null,
   "id": "47842699",
   "metadata": {},
   "outputs": [],
   "source": [
    "str1 = input(\"Inter the string:\")\n",
    "char = dict()\n",
    "for i in str1:\n",
    "    char[i] = char.get(i, 0) + 1\n",
    "print (char)"
   ]
  },
  {
   "cell_type": "code",
   "execution_count": null,
   "id": "ed109c3f",
   "metadata": {},
   "outputs": [],
   "source": []
  },
  {
   "cell_type": "code",
   "execution_count": null,
   "id": "60416305",
   "metadata": {},
   "outputs": [],
   "source": []
  },
  {
   "cell_type": "code",
   "execution_count": null,
   "id": "9a0f2143",
   "metadata": {},
   "outputs": [],
   "source": []
  },
  {
   "cell_type": "code",
   "execution_count": null,
   "id": "f3b9b031",
   "metadata": {},
   "outputs": [],
   "source": []
  },
  {
   "cell_type": "code",
   "execution_count": null,
   "id": "c3af5b43",
   "metadata": {},
   "outputs": [],
   "source": []
  },
  {
   "cell_type": "code",
   "execution_count": null,
   "id": "2f6a7354",
   "metadata": {},
   "outputs": [],
   "source": []
  },
  {
   "cell_type": "code",
   "execution_count": null,
   "id": "b7cdfc6f",
   "metadata": {},
   "outputs": [],
   "source": []
  },
  {
   "cell_type": "code",
   "execution_count": null,
   "id": "ab47e595",
   "metadata": {},
   "outputs": [],
   "source": []
  },
  {
   "cell_type": "code",
   "execution_count": null,
   "id": "bf734981",
   "metadata": {},
   "outputs": [],
   "source": []
  },
  {
   "cell_type": "code",
   "execution_count": null,
   "id": "793f9e47",
   "metadata": {},
   "outputs": [],
   "source": []
  },
  {
   "cell_type": "code",
   "execution_count": null,
   "id": "60fd8309",
   "metadata": {},
   "outputs": [],
   "source": []
  },
  {
   "cell_type": "code",
   "execution_count": null,
   "id": "12bfce53",
   "metadata": {},
   "outputs": [],
   "source": []
  },
  {
   "cell_type": "code",
   "execution_count": null,
   "id": "9df4f228",
   "metadata": {},
   "outputs": [],
   "source": []
  },
  {
   "cell_type": "code",
   "execution_count": null,
   "id": "9c73b2e1",
   "metadata": {},
   "outputs": [],
   "source": []
  },
  {
   "cell_type": "code",
   "execution_count": null,
   "id": "0f141a76",
   "metadata": {},
   "outputs": [],
   "source": []
  },
  {
   "cell_type": "code",
   "execution_count": null,
   "id": "ddf6e442",
   "metadata": {},
   "outputs": [],
   "source": []
  },
  {
   "cell_type": "code",
   "execution_count": null,
   "id": "d663e5c8",
   "metadata": {},
   "outputs": [],
   "source": []
  },
  {
   "cell_type": "code",
   "execution_count": null,
   "id": "af98390c",
   "metadata": {},
   "outputs": [],
   "source": [
    "\n"
   ]
  },
  {
   "cell_type": "code",
   "execution_count": null,
   "id": "b629c009",
   "metadata": {},
   "outputs": [],
   "source": []
  },
  {
   "cell_type": "markdown",
   "id": "af4f3208",
   "metadata": {},
   "source": [
    "## 15. Write a python program to print the frequency of each of the characters present in a given string"
   ]
  },
  {
   "cell_type": "code",
   "execution_count": null,
   "id": "8c21b9f5",
   "metadata": {},
   "outputs": [],
   "source": [
    "str1 = input(\"Inter the string:\")\n",
    "ch = dict()\n",
    "for i in str1:\n",
    "    ch[i] = ch.get(i, 0) + 1\n",
    "print (ch)"
   ]
  },
  {
   "cell_type": "code",
   "execution_count": null,
   "id": "a27b760c",
   "metadata": {},
   "outputs": [],
   "source": []
  },
  {
   "cell_type": "code",
   "execution_count": null,
   "id": "4d66c975",
   "metadata": {},
   "outputs": [],
   "source": [
    "# "
   ]
  },
  {
   "cell_type": "code",
   "execution_count": null,
   "id": "5395b020",
   "metadata": {},
   "outputs": [],
   "source": []
  }
 ],
 "metadata": {
  "celltoolbar": "Raw Cell Format",
  "kernelspec": {
   "display_name": "Python 3",
   "language": "python",
   "name": "python3"
  },
  "language_info": {
   "codemirror_mode": {
    "name": "ipython",
    "version": 3
   },
   "file_extension": ".py",
   "mimetype": "text/x-python",
   "name": "python",
   "nbconvert_exporter": "python",
   "pygments_lexer": "ipython3",
   "version": "3.8.8"
  }
 },
 "nbformat": 4,
 "nbformat_minor": 5
}
