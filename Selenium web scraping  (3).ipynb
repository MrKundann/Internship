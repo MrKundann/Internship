{
 "cells": [
  {
   "cell_type": "code",
   "execution_count": 1,
   "id": "4c25aef5",
   "metadata": {},
   "outputs": [
    {
     "name": "stdout",
     "output_type": "stream",
     "text": [
      "Requirement already satisfied: selenium in c:\\users\\kunda\\anaconda3\\lib\\site-packages (4.1.0)\n",
      "Requirement already satisfied: trio-websocket~=0.9 in c:\\users\\kunda\\anaconda3\\lib\\site-packages (from selenium) (0.9.2)\n",
      "Requirement already satisfied: urllib3[secure]~=1.26 in c:\\users\\kunda\\anaconda3\\lib\\site-packages (from selenium) (1.26.4)\n",
      "Requirement already satisfied: trio~=0.17 in c:\\users\\kunda\\anaconda3\\lib\\site-packages (from selenium) (0.19.0)\n",
      "Requirement already satisfied: async-generator>=1.9 in c:\\users\\kunda\\anaconda3\\lib\\site-packages (from trio~=0.17->selenium) (1.10)\n",
      "Requirement already satisfied: cffi>=1.14 in c:\\users\\kunda\\anaconda3\\lib\\site-packages (from trio~=0.17->selenium) (1.14.5)\n",
      "Requirement already satisfied: attrs>=19.2.0 in c:\\users\\kunda\\anaconda3\\lib\\site-packages (from trio~=0.17->selenium) (20.3.0)\n",
      "Requirement already satisfied: outcome in c:\\users\\kunda\\anaconda3\\lib\\site-packages (from trio~=0.17->selenium) (1.1.0)\n",
      "Requirement already satisfied: sortedcontainers in c:\\users\\kunda\\anaconda3\\lib\\site-packages (from trio~=0.17->selenium) (2.3.0)\n",
      "Requirement already satisfied: sniffio in c:\\users\\kunda\\anaconda3\\lib\\site-packages (from trio~=0.17->selenium) (1.2.0)\n",
      "Requirement already satisfied: idna in c:\\users\\kunda\\anaconda3\\lib\\site-packages (from trio~=0.17->selenium) (2.10)\n",
      "Requirement already satisfied: pycparser in c:\\users\\kunda\\anaconda3\\lib\\site-packages (from cffi>=1.14->trio~=0.17->selenium) (2.20)\n",
      "Requirement already satisfied: wsproto>=0.14 in c:\\users\\kunda\\anaconda3\\lib\\site-packages (from trio-websocket~=0.9->selenium) (1.0.0)\n",
      "Requirement already satisfied: certifi in c:\\users\\kunda\\anaconda3\\lib\\site-packages (from urllib3[secure]~=1.26->selenium) (2020.12.5)\n",
      "Requirement already satisfied: cryptography>=1.3.4 in c:\\users\\kunda\\anaconda3\\lib\\site-packages (from urllib3[secure]~=1.26->selenium) (3.4.7)\n",
      "Requirement already satisfied: pyOpenSSL>=0.14 in c:\\users\\kunda\\anaconda3\\lib\\site-packages (from urllib3[secure]~=1.26->selenium) (20.0.1)\n",
      "Requirement already satisfied: six>=1.5.2 in c:\\users\\kunda\\anaconda3\\lib\\site-packages (from pyOpenSSL>=0.14->urllib3[secure]~=1.26->selenium) (1.15.0)\n",
      "Requirement already satisfied: h11<1,>=0.9.0 in c:\\users\\kunda\\anaconda3\\lib\\site-packages (from wsproto>=0.14->trio-websocket~=0.9->selenium) (0.13.0)\n"
     ]
    }
   ],
   "source": [
    "!pip install selenium"
   ]
  },
  {
   "cell_type": "markdown",
   "id": "4270f811",
   "metadata": {},
   "source": [
    "#### 1) Write a python program to scrape data for “Data Analyst” Job position in “Bangalore” location. You\n",
    "have to scrape the job-title, job-location, company_name, experience_required. You have to scrape first 10\n",
    "jobs data.\n",
    "This task will be done in following steps:\n",
    "1. First get the webpage https://www.naukri.com/\n",
    "2. Enter “Data Analyst” in “Skill, Designations, Companies” field and enter “Bangalore” in “enter the\n",
    "location” field.\n",
    "3. Then click the search button.\n",
    "4. Then scrape the data for the first 10 jobs results you get.\n",
    "5. Finally create a dataframe of the scraped data."
   ]
  },
  {
   "cell_type": "code",
   "execution_count": 2,
   "id": "f77840a8",
   "metadata": {},
   "outputs": [],
   "source": [
    "import selenium\n",
    "from selenium import webdriver\n",
    "import pandas as pd\n",
    "import warnings\n",
    "warnings.filterwarnings(\"ignore\")"
   ]
  },
  {
   "cell_type": "code",
   "execution_count": 3,
   "id": "4ff3666c",
   "metadata": {},
   "outputs": [],
   "source": [
    "from selenium import webdriver\n",
    "driver=webdriver.Chrome(r'C:\\Users\\kunda\\OneDrive\\Desktop\\chromedriver.exe')\n"
   ]
  },
  {
   "cell_type": "code",
   "execution_count": 4,
   "id": "03f171b1",
   "metadata": {},
   "outputs": [],
   "source": [
    "url = \"https://www.naukri.com/\"\n",
    "driver.get(url)"
   ]
  },
  {
   "cell_type": "code",
   "execution_count": 5,
   "id": "63a21792",
   "metadata": {},
   "outputs": [
    {
     "data": {
      "text/plain": [
       "<selenium.webdriver.remote.webelement.WebElement (session=\"e6dcce794184a0d2faec2023b29684df\", element=\"58f6e5f9-0b8f-4a0a-a682-e3d5da1be699\")>"
      ]
     },
     "execution_count": 5,
     "metadata": {},
     "output_type": "execute_result"
    }
   ],
   "source": [
    "## finding web element for search job bar using class name\n",
    "search_job = driver.find_element_by_class_name(\"suggestor-input\")\n",
    "search_job"
   ]
  },
  {
   "cell_type": "code",
   "execution_count": 6,
   "id": "980c4cbc",
   "metadata": {
    "scrolled": true
   },
   "outputs": [],
   "source": [
    "# write on search bar \n",
    "search_job.send_keys(\"Data Analyst\")\n"
   ]
  },
  {
   "cell_type": "code",
   "execution_count": 7,
   "id": "eb6d65c3",
   "metadata": {},
   "outputs": [
    {
     "data": {
      "text/plain": [
       "<selenium.webdriver.remote.webelement.WebElement (session=\"e6dcce794184a0d2faec2023b29684df\", element=\"204d3c3d-3685-420b-9d0e-5ce86dda06d3\")>"
      ]
     },
     "execution_count": 7,
     "metadata": {},
     "output_type": "execute_result"
    }
   ],
   "source": [
    "## Finding web element for search location bar using absolute xpath\n",
    "search_loc = driver.find_element_by_xpath('/html/body/div/div[2]/div[3]/div/div/div[3]/div/div/div/input')\n",
    "search_loc"
   ]
  },
  {
   "cell_type": "code",
   "execution_count": 8,
   "id": "a2c42f16",
   "metadata": {},
   "outputs": [],
   "source": [
    "# finding web element for job location bar\n",
    "search_loc.send_keys(\"Bangalore\")"
   ]
  },
  {
   "cell_type": "code",
   "execution_count": 9,
   "id": "0a825e87",
   "metadata": {},
   "outputs": [
    {
     "data": {
      "text/plain": [
       "<selenium.webdriver.remote.webelement.WebElement (session=\"e6dcce794184a0d2faec2023b29684df\", element=\"806724ca-96a4-4f28-9a3e-72eee257d8ba\")>"
      ]
     },
     "execution_count": 9,
     "metadata": {},
     "output_type": "execute_result"
    }
   ],
   "source": [
    "search_btn = driver.find_element_by_class_name(\"qsbSubmit\")\n",
    "search_btn "
   ]
  },
  {
   "cell_type": "code",
   "execution_count": 10,
   "id": "c417a070",
   "metadata": {},
   "outputs": [],
   "source": [
    "search_btn.click()"
   ]
  },
  {
   "cell_type": "markdown",
   "id": "7c04843d",
   "metadata": {},
   "source": [
    "## Extracting required Data:"
   ]
  },
  {
   "cell_type": "code",
   "execution_count": 11,
   "id": "ea1b7a15",
   "metadata": {},
   "outputs": [
    {
     "data": {
      "text/plain": [
       "20"
      ]
     },
     "execution_count": 11,
     "metadata": {},
     "output_type": "execute_result"
    }
   ],
   "source": [
    "## Extracting job title, exp. location \n",
    "title_tags = driver.find_elements_by_xpath('//a[@class=\"title fw500 ellipsis\"]')\n",
    "len(title_tags)"
   ]
  },
  {
   "cell_type": "code",
   "execution_count": 12,
   "id": "626d06c1",
   "metadata": {},
   "outputs": [
    {
     "data": {
      "text/plain": [
       "10"
      ]
     },
     "execution_count": 12,
     "metadata": {},
     "output_type": "execute_result"
    }
   ],
   "source": [
    "## Now the text of job title is inside the web elements extracted above\n",
    "# so will run a for loop to iterate over the tags and will extract text from them \n",
    "job_titles = []\n",
    "for i in title_tags:\n",
    "    job_titles.append(i.text)\n",
    "len('job_titles')"
   ]
  },
  {
   "cell_type": "code",
   "execution_count": 13,
   "id": "865de36a",
   "metadata": {},
   "outputs": [
    {
     "data": {
      "text/plain": [
       "20"
      ]
     },
     "execution_count": 13,
     "metadata": {},
     "output_type": "execute_result"
    }
   ],
   "source": [
    "company_tags = driver.find_elements_by_xpath('//a[@class=\"subTitle ellipsis fleft\"]')\n",
    "len(company_tags)"
   ]
  },
  {
   "cell_type": "code",
   "execution_count": 14,
   "id": "1a9e155d",
   "metadata": {},
   "outputs": [
    {
     "data": {
      "text/plain": [
       "12"
      ]
     },
     "execution_count": 14,
     "metadata": {},
     "output_type": "execute_result"
    }
   ],
   "source": [
    "company_name = []\n",
    "for i in company_tags:\n",
    "    company_name.append(i.text)\n",
    "len('company_name')"
   ]
  },
  {
   "cell_type": "code",
   "execution_count": 15,
   "id": "a3ffb0c3",
   "metadata": {},
   "outputs": [
    {
     "data": {
      "text/plain": [
       "20"
      ]
     },
     "execution_count": 15,
     "metadata": {},
     "output_type": "execute_result"
    }
   ],
   "source": [
    "exp_tags = driver.find_elements_by_xpath('//a[@class=\"title fw500 ellipsis\"]')\n",
    "len(title_tags)"
   ]
  },
  {
   "cell_type": "code",
   "execution_count": 16,
   "id": "077d6f44",
   "metadata": {},
   "outputs": [
    {
     "data": {
      "text/plain": [
       "10"
      ]
     },
     "execution_count": 16,
     "metadata": {},
     "output_type": "execute_result"
    }
   ],
   "source": [
    "experience = []\n",
    "for i in exp_tags:\n",
    "    experience.append(i.text)\n",
    "len('experience')"
   ]
  },
  {
   "cell_type": "code",
   "execution_count": 17,
   "id": "face54a5",
   "metadata": {},
   "outputs": [
    {
     "data": {
      "text/plain": [
       "20"
      ]
     },
     "execution_count": 17,
     "metadata": {},
     "output_type": "execute_result"
    }
   ],
   "source": [
    "loc_tags = driver.find_elements_by_xpath('//li[@class=\"fleft grey-text br2 placeHolderLi location\"]')\n",
    "len(loc_tags)"
   ]
  },
  {
   "cell_type": "code",
   "execution_count": 18,
   "id": "7238aeb2",
   "metadata": {},
   "outputs": [
    {
     "data": {
      "text/plain": [
       "8"
      ]
     },
     "execution_count": 18,
     "metadata": {},
     "output_type": "execute_result"
    }
   ],
   "source": [
    "location = []\n",
    "for i in loc_tags:\n",
    "    location.append(i.text)\n",
    "len('location')"
   ]
  },
  {
   "cell_type": "code",
   "execution_count": 19,
   "id": "7665419d",
   "metadata": {},
   "outputs": [
    {
     "data": {
      "text/plain": [
       "(20, 20, 20, 20)"
      ]
     },
     "execution_count": 19,
     "metadata": {},
     "output_type": "execute_result"
    }
   ],
   "source": [
    "len(job_titles), len(company_name), len(experience), len(location)"
   ]
  },
  {
   "cell_type": "code",
   "execution_count": 20,
   "id": "6ae00d6f",
   "metadata": {},
   "outputs": [
    {
     "data": {
      "text/html": [
       "<div>\n",
       "<style scoped>\n",
       "    .dataframe tbody tr th:only-of-type {\n",
       "        vertical-align: middle;\n",
       "    }\n",
       "\n",
       "    .dataframe tbody tr th {\n",
       "        vertical-align: top;\n",
       "    }\n",
       "\n",
       "    .dataframe thead th {\n",
       "        text-align: right;\n",
       "    }\n",
       "</style>\n",
       "<table border=\"1\" class=\"dataframe\">\n",
       "  <thead>\n",
       "    <tr style=\"text-align: right;\">\n",
       "      <th></th>\n",
       "      <th>Job Title</th>\n",
       "      <th>Company</th>\n",
       "      <th>Experience</th>\n",
       "      <th>Location</th>\n",
       "    </tr>\n",
       "  </thead>\n",
       "  <tbody>\n",
       "    <tr>\n",
       "      <th>0</th>\n",
       "      <td>QA Data Analyst</td>\n",
       "      <td>Ralph Lauren</td>\n",
       "      <td>QA Data Analyst</td>\n",
       "      <td>Bangalore/Bengaluru</td>\n",
       "    </tr>\n",
       "    <tr>\n",
       "      <th>1</th>\n",
       "      <td>Senior Data Analyst</td>\n",
       "      <td>Flipkart</td>\n",
       "      <td>Senior Data Analyst</td>\n",
       "      <td>Bangalore/Bengaluru</td>\n",
       "    </tr>\n",
       "    <tr>\n",
       "      <th>2</th>\n",
       "      <td>Data Analyst</td>\n",
       "      <td>Ericsson Global Services</td>\n",
       "      <td>Data Analyst</td>\n",
       "      <td>Bangalore/Bengaluru</td>\n",
       "    </tr>\n",
       "    <tr>\n",
       "      <th>3</th>\n",
       "      <td>Data Analyst</td>\n",
       "      <td>Flipkart</td>\n",
       "      <td>Data Analyst</td>\n",
       "      <td>Bangalore/Bengaluru</td>\n",
       "    </tr>\n",
       "    <tr>\n",
       "      <th>4</th>\n",
       "      <td>Senior Data Analyst - Data Modeling/Database D...</td>\n",
       "      <td>K &amp; R Enterprises</td>\n",
       "      <td>Senior Data Analyst - Data Modeling/Database D...</td>\n",
       "      <td>Bangalore/Bengaluru</td>\n",
       "    </tr>\n",
       "    <tr>\n",
       "      <th>5</th>\n",
       "      <td>Data analyst</td>\n",
       "      <td>GSK India</td>\n",
       "      <td>Data analyst</td>\n",
       "      <td>Bangalore/Bengaluru</td>\n",
       "    </tr>\n",
       "    <tr>\n",
       "      <th>6</th>\n",
       "      <td>Data Analyst</td>\n",
       "      <td>GSK India</td>\n",
       "      <td>Data Analyst</td>\n",
       "      <td>Bangalore/Bengaluru</td>\n",
       "    </tr>\n",
       "    <tr>\n",
       "      <th>7</th>\n",
       "      <td>Financial Data Analyst</td>\n",
       "      <td>Moody's</td>\n",
       "      <td>Financial Data Analyst</td>\n",
       "      <td>Bangalore/Bengaluru</td>\n",
       "    </tr>\n",
       "    <tr>\n",
       "      <th>8</th>\n",
       "      <td>Data Analyst</td>\n",
       "      <td>Aldius Consulting Services Pvt Ltd (Paramantra)</td>\n",
       "      <td>Data Analyst</td>\n",
       "      <td>Bangalore/Bengaluru</td>\n",
       "    </tr>\n",
       "    <tr>\n",
       "      <th>9</th>\n",
       "      <td>OYO Rooms - Data Analyst / Business Analyst</td>\n",
       "      <td>OyoRooms</td>\n",
       "      <td>OYO Rooms - Data Analyst / Business Analyst</td>\n",
       "      <td>Bangalore/Bengaluru, Delhi / NCR, Mumbai (All ...</td>\n",
       "    </tr>\n",
       "  </tbody>\n",
       "</table>\n",
       "</div>"
      ],
      "text/plain": [
       "                                           Job Title  \\\n",
       "0                                    QA Data Analyst   \n",
       "1                                Senior Data Analyst   \n",
       "2                                       Data Analyst   \n",
       "3                                       Data Analyst   \n",
       "4  Senior Data Analyst - Data Modeling/Database D...   \n",
       "5                                       Data analyst   \n",
       "6                                       Data Analyst   \n",
       "7                             Financial Data Analyst   \n",
       "8                                       Data Analyst   \n",
       "9        OYO Rooms - Data Analyst / Business Analyst   \n",
       "\n",
       "                                           Company  \\\n",
       "0                                     Ralph Lauren   \n",
       "1                                         Flipkart   \n",
       "2                         Ericsson Global Services   \n",
       "3                                         Flipkart   \n",
       "4                                K & R Enterprises   \n",
       "5                                        GSK India   \n",
       "6                                        GSK India   \n",
       "7                                          Moody's   \n",
       "8  Aldius Consulting Services Pvt Ltd (Paramantra)   \n",
       "9                                         OyoRooms   \n",
       "\n",
       "                                          Experience  \\\n",
       "0                                    QA Data Analyst   \n",
       "1                                Senior Data Analyst   \n",
       "2                                       Data Analyst   \n",
       "3                                       Data Analyst   \n",
       "4  Senior Data Analyst - Data Modeling/Database D...   \n",
       "5                                       Data analyst   \n",
       "6                                       Data Analyst   \n",
       "7                             Financial Data Analyst   \n",
       "8                                       Data Analyst   \n",
       "9        OYO Rooms - Data Analyst / Business Analyst   \n",
       "\n",
       "                                            Location  \n",
       "0                                Bangalore/Bengaluru  \n",
       "1                                Bangalore/Bengaluru  \n",
       "2                                Bangalore/Bengaluru  \n",
       "3                                Bangalore/Bengaluru  \n",
       "4                                Bangalore/Bengaluru  \n",
       "5                                Bangalore/Bengaluru  \n",
       "6                                Bangalore/Bengaluru  \n",
       "7                                Bangalore/Bengaluru  \n",
       "8                                Bangalore/Bengaluru  \n",
       "9  Bangalore/Bengaluru, Delhi / NCR, Mumbai (All ...  "
      ]
     },
     "execution_count": 20,
     "metadata": {},
     "output_type": "execute_result"
    }
   ],
   "source": [
    "## Creating DataFrame\n",
    "jobs = pd.DataFrame()\n",
    "jobs['Job Title'] = job_titles\n",
    "jobs['Company'] = company_name\n",
    "jobs['Experience'] = experience\n",
    "jobs['Location'] = location\n",
    "jobs.head(10)"
   ]
  },
  {
   "cell_type": "markdown",
   "id": "ea8f892a",
   "metadata": {},
   "source": [
    "#### 2) Write a python program to scrape data for “Data Scientist” Job position in “Bangalore” location. You\n",
    "have to scrape the job-title, job-location, company_name. You have to scrape first 10 jobs data.\n",
    "This task will be done in following steps:\n",
    "1. First get the webpage https://www.naukri.com/\n",
    "2. Enter “Data Scientist” in “Skill, Designations, Companies” field and enter “Bangalore” in “enter the\n",
    "location” field.\n",
    "3. Then click the search button.\n",
    "4. Then scrape the data for the first 10 jobs results you get.\n",
    "5. Finally create a dataframe of the scraped data."
   ]
  },
  {
   "cell_type": "code",
   "execution_count": 21,
   "id": "56a7df81",
   "metadata": {},
   "outputs": [],
   "source": [
    "import selenium\n",
    "from selenium import webdriver\n",
    "import pandas as pd\n",
    "import warnings\n",
    "warnings.filterwarnings(\"ignore\")\n",
    "\n",
    "from selenium import webdriver\n",
    "driver=webdriver.Chrome(r'C:\\Users\\kunda\\OneDrive\\Desktop\\chromedriver.exe')\n",
    "\n",
    "url = \"https://www.naukri.com/\"\n",
    "driver.get(url)"
   ]
  },
  {
   "cell_type": "code",
   "execution_count": 22,
   "id": "1a9a474b",
   "metadata": {},
   "outputs": [
    {
     "data": {
      "text/plain": [
       "<selenium.webdriver.remote.webelement.WebElement (session=\"0c81f9af77eb3d79f8e51e95766baedd\", element=\"1228d444-9929-46de-bc5e-0e2a80ee09bf\")>"
      ]
     },
     "execution_count": 22,
     "metadata": {},
     "output_type": "execute_result"
    }
   ],
   "source": [
    "## finding web element for search job bar using class name\n",
    "search_job = driver.find_element_by_class_name(\"suggestor-input\")\n",
    "search_job"
   ]
  },
  {
   "cell_type": "code",
   "execution_count": 23,
   "id": "87a27136",
   "metadata": {},
   "outputs": [],
   "source": [
    "# write on search bar \n",
    "search_job.send_keys(\"Data Scientist\")"
   ]
  },
  {
   "cell_type": "code",
   "execution_count": 24,
   "id": "cb550cc5",
   "metadata": {},
   "outputs": [
    {
     "data": {
      "text/plain": [
       "<selenium.webdriver.remote.webelement.WebElement (session=\"0c81f9af77eb3d79f8e51e95766baedd\", element=\"f1d7d955-7b18-4ec0-b931-21a710aaca21\")>"
      ]
     },
     "execution_count": 24,
     "metadata": {},
     "output_type": "execute_result"
    }
   ],
   "source": [
    "## Finding web element for search location bar using absolute xpath\n",
    "search_loc = driver.find_element_by_xpath('/html/body/div/div[2]/div[3]/div/div/div[3]/div/div/div/input')\n",
    "search_loc"
   ]
  },
  {
   "cell_type": "code",
   "execution_count": 25,
   "id": "fdbd036c",
   "metadata": {},
   "outputs": [],
   "source": [
    "# write on search bar \n",
    "search_loc.send_keys(\"Bangalore\")"
   ]
  },
  {
   "cell_type": "code",
   "execution_count": 26,
   "id": "0e5ce6f9",
   "metadata": {},
   "outputs": [],
   "source": [
    "search_btn = driver.find_element_by_class_name(\"qsbSubmit\")\n",
    "search_btn \n",
    "search_btn.click()"
   ]
  },
  {
   "cell_type": "code",
   "execution_count": 27,
   "id": "2eba12b1",
   "metadata": {},
   "outputs": [
    {
     "data": {
      "text/plain": [
       "20"
      ]
     },
     "execution_count": 27,
     "metadata": {},
     "output_type": "execute_result"
    }
   ],
   "source": [
    "## Extracting job title,  location and name \n",
    "title_tags = driver.find_elements_by_xpath('//a[@class=\"title fw500 ellipsis\" ]')\n",
    "len(title_tags)"
   ]
  },
  {
   "cell_type": "code",
   "execution_count": 28,
   "id": "a3ddff5a",
   "metadata": {},
   "outputs": [
    {
     "data": {
      "text/plain": [
       "10"
      ]
     },
     "execution_count": 28,
     "metadata": {},
     "output_type": "execute_result"
    }
   ],
   "source": [
    "job_titles = []\n",
    "for i in title_tags:\n",
    "    job_titles.append(i.text)\n",
    "len('job_titles')"
   ]
  },
  {
   "cell_type": "code",
   "execution_count": 29,
   "id": "82acc19b",
   "metadata": {},
   "outputs": [
    {
     "data": {
      "text/plain": [
       "12"
      ]
     },
     "execution_count": 29,
     "metadata": {},
     "output_type": "execute_result"
    }
   ],
   "source": [
    "company_tags = driver.find_elements_by_xpath('//a[@class=\"subTitle ellipsis fleft\" ]')\n",
    "len(company_tags)\n",
    "\n",
    "company_name = []\n",
    "for i in company_tags:\n",
    "    company_name.append(i.text)\n",
    "len('company_name')"
   ]
  },
  {
   "cell_type": "code",
   "execution_count": 30,
   "id": "38c8a065",
   "metadata": {},
   "outputs": [
    {
     "data": {
      "text/plain": [
       "8"
      ]
     },
     "execution_count": 30,
     "metadata": {},
     "output_type": "execute_result"
    }
   ],
   "source": [
    "loc_tags = driver.find_elements_by_xpath('//li[@class=\"fleft grey-text br2 placeHolderLi location\"]')\n",
    "len(loc_tags)\n",
    "\n",
    "location = []\n",
    "for i in loc_tags:\n",
    "    location.append(i.text)\n",
    "len('location')\n"
   ]
  },
  {
   "cell_type": "code",
   "execution_count": 31,
   "id": "72b7893a",
   "metadata": {},
   "outputs": [
    {
     "data": {
      "text/html": [
       "<div>\n",
       "<style scoped>\n",
       "    .dataframe tbody tr th:only-of-type {\n",
       "        vertical-align: middle;\n",
       "    }\n",
       "\n",
       "    .dataframe tbody tr th {\n",
       "        vertical-align: top;\n",
       "    }\n",
       "\n",
       "    .dataframe thead th {\n",
       "        text-align: right;\n",
       "    }\n",
       "</style>\n",
       "<table border=\"1\" class=\"dataframe\">\n",
       "  <thead>\n",
       "    <tr style=\"text-align: right;\">\n",
       "      <th></th>\n",
       "      <th>Job Title</th>\n",
       "      <th>Company</th>\n",
       "      <th>Location</th>\n",
       "    </tr>\n",
       "  </thead>\n",
       "  <tbody>\n",
       "    <tr>\n",
       "      <th>0</th>\n",
       "      <td>Global Tax Automation &amp; Operations - Data Scie...</td>\n",
       "      <td>Dell</td>\n",
       "      <td>Bangalore/Bengaluru</td>\n",
       "    </tr>\n",
       "    <tr>\n",
       "      <th>1</th>\n",
       "      <td>Analyst / Data Scientist</td>\n",
       "      <td>MilliporeSigma</td>\n",
       "      <td>Bangalore/Bengaluru</td>\n",
       "    </tr>\n",
       "    <tr>\n",
       "      <th>2</th>\n",
       "      <td>Data Scientist: Advanced Analytics</td>\n",
       "      <td>IBM</td>\n",
       "      <td>Bangalore/Bengaluru</td>\n",
       "    </tr>\n",
       "    <tr>\n",
       "      <th>3</th>\n",
       "      <td>Data Scientist: Advanced Analytics</td>\n",
       "      <td>IBM</td>\n",
       "      <td>Bangalore/Bengaluru</td>\n",
       "    </tr>\n",
       "    <tr>\n",
       "      <th>4</th>\n",
       "      <td>Senior Data Scientist</td>\n",
       "      <td>Siemens</td>\n",
       "      <td>Bangalore/Bengaluru</td>\n",
       "    </tr>\n",
       "    <tr>\n",
       "      <th>5</th>\n",
       "      <td>Senior Data Scientist</td>\n",
       "      <td>Sabre</td>\n",
       "      <td>Bangalore/Bengaluru</td>\n",
       "    </tr>\n",
       "    <tr>\n",
       "      <th>6</th>\n",
       "      <td>Senior Data Scientist (Fintech)</td>\n",
       "      <td>NIRA</td>\n",
       "      <td>Bangalore/Bengaluru</td>\n",
       "    </tr>\n",
       "    <tr>\n",
       "      <th>7</th>\n",
       "      <td>Senior Data Scientist</td>\n",
       "      <td>Shell</td>\n",
       "      <td>Chennai, Bangalore/Bengaluru</td>\n",
       "    </tr>\n",
       "    <tr>\n",
       "      <th>8</th>\n",
       "      <td>Data Scientist - Lead / Architect - Looking Fo...</td>\n",
       "      <td>Wipro</td>\n",
       "      <td>Kochi/Cochin, Kolkata, Pune, Gurgaon/Gurugram,...</td>\n",
       "    </tr>\n",
       "    <tr>\n",
       "      <th>9</th>\n",
       "      <td>Data Scientist - Lead / Architect - Looking Fo...</td>\n",
       "      <td>Wipro</td>\n",
       "      <td>Hyderabad/Secunderabad, Pune, Chennai, Bangalo...</td>\n",
       "    </tr>\n",
       "  </tbody>\n",
       "</table>\n",
       "</div>"
      ],
      "text/plain": [
       "                                           Job Title         Company  \\\n",
       "0  Global Tax Automation & Operations - Data Scie...            Dell   \n",
       "1                           Analyst / Data Scientist  MilliporeSigma   \n",
       "2                 Data Scientist: Advanced Analytics             IBM   \n",
       "3                 Data Scientist: Advanced Analytics             IBM   \n",
       "4                              Senior Data Scientist         Siemens   \n",
       "5                              Senior Data Scientist           Sabre   \n",
       "6                    Senior Data Scientist (Fintech)            NIRA   \n",
       "7                              Senior Data Scientist           Shell   \n",
       "8  Data Scientist - Lead / Architect - Looking Fo...           Wipro   \n",
       "9  Data Scientist - Lead / Architect - Looking Fo...           Wipro   \n",
       "\n",
       "                                            Location  \n",
       "0                                Bangalore/Bengaluru  \n",
       "1                                Bangalore/Bengaluru  \n",
       "2                                Bangalore/Bengaluru  \n",
       "3                                Bangalore/Bengaluru  \n",
       "4                                Bangalore/Bengaluru  \n",
       "5                                Bangalore/Bengaluru  \n",
       "6                                Bangalore/Bengaluru  \n",
       "7                       Chennai, Bangalore/Bengaluru  \n",
       "8  Kochi/Cochin, Kolkata, Pune, Gurgaon/Gurugram,...  \n",
       "9  Hyderabad/Secunderabad, Pune, Chennai, Bangalo...  "
      ]
     },
     "execution_count": 31,
     "metadata": {},
     "output_type": "execute_result"
    }
   ],
   "source": [
    "## Creating DataFrame\n",
    "job = pd.DataFrame()\n",
    "job['Job Title'] = job_titles\n",
    "job['Company'] = company_name\n",
    "job['Location'] = location\n",
    "job.head(10)"
   ]
  },
  {
   "cell_type": "markdown",
   "id": "3fa791b8",
   "metadata": {},
   "source": [
    "#### 3) : In this question you have to scrape data using the filters available on the webpage as shown below: \n",
    "You have to use the location and salary filter.\n",
    "You have to scrape data for “Data Scientist” designation for first 10 job results.\n",
    "You have to scrape the job-title, job-location, company name, experience required.\n",
    "The location filter to be used is “Delhi/NCR”. The salary filter to be used is “3-6” lakhs\n",
    "The task will be done as shown in the below steps:\n",
    "1. first get the webpage https://www.naukri.com/\n",
    "2. Enter “Data Scientist” in “Skill, Designations, and Companies” field.\n",
    "3. Then click the search button.\n",
    "4. Then apply the location filter and salary filter by checking the respective boxes\n",
    "5. Then scrape the data for the first 10 jobs results you get.\n",
    "6. Finally create a dataframe of the scraped data"
   ]
  },
  {
   "cell_type": "code",
   "execution_count": 32,
   "id": "96692361",
   "metadata": {},
   "outputs": [],
   "source": [
    "import selenium\n",
    "from selenium import webdriver\n",
    "import pandas as pd\n",
    "import warnings\n",
    "warnings.filterwarnings(\"ignore\")\n",
    "\n",
    "from selenium import webdriver\n",
    "driver=webdriver.Chrome(r'C:\\Users\\kunda\\OneDrive\\Desktop\\chromedriver.exe')\n",
    "\n",
    "url = \"https://www.naukri.com/\"\n",
    "driver.get(url)"
   ]
  },
  {
   "cell_type": "code",
   "execution_count": 33,
   "id": "37eb2eca",
   "metadata": {},
   "outputs": [],
   "source": [
    "## finding web element for search job bar using class name\n",
    "search_job = driver.find_element_by_class_name(\"suggestor-input\")\n",
    "search_job\n",
    "\n",
    "# write on search bar \n",
    "search_job.send_keys(\"Data Scientist\")"
   ]
  },
  {
   "cell_type": "code",
   "execution_count": 34,
   "id": "e771ce06",
   "metadata": {},
   "outputs": [],
   "source": [
    "## Finding web element for search location bar using absolute xpath\n",
    "search_loc = driver.find_element_by_xpath('/html/body/div/div[2]/div[3]/div/div/div[3]/div/div/div/input')\n",
    "search_loc\n",
    "\n",
    "# write on search bar \n",
    "search_loc.send_keys(\"Delhi/NCR\")"
   ]
  },
  {
   "cell_type": "code",
   "execution_count": 35,
   "id": "367b9fb8",
   "metadata": {},
   "outputs": [],
   "source": [
    "search_btn = driver.find_element_by_class_name(\"qsbSubmit\")\n",
    "search_btn \n",
    "search_btn.click()"
   ]
  },
  {
   "cell_type": "markdown",
   "id": "08c6072b",
   "metadata": {},
   "source": [
    "#### will scrape the job-title, job-location, company name, experience. "
   ]
  },
  {
   "cell_type": "code",
   "execution_count": 36,
   "id": "51580edc",
   "metadata": {},
   "outputs": [
    {
     "data": {
      "text/plain": [
       "10"
      ]
     },
     "execution_count": 36,
     "metadata": {},
     "output_type": "execute_result"
    }
   ],
   "source": [
    "\n",
    "title_tags = driver.find_elements_by_xpath('//a[@class=\"title fw500 ellipsis\" ]')\n",
    "len(title_tags)\n",
    "\n",
    "job_titles = []\n",
    "for i in title_tags:\n",
    "    job_titles.append(i.text)\n",
    "len('job_titles')\n"
   ]
  },
  {
   "cell_type": "code",
   "execution_count": 37,
   "id": "8a040b59",
   "metadata": {},
   "outputs": [
    {
     "data": {
      "text/plain": [
       "12"
      ]
     },
     "execution_count": 37,
     "metadata": {},
     "output_type": "execute_result"
    }
   ],
   "source": [
    "company_tags = driver.find_elements_by_xpath('//a[@class=\"subTitle ellipsis fleft\" ]')\n",
    "len(company_tags)\n",
    "\n",
    "company_name = []\n",
    "for i in company_tags:\n",
    "    company_name.append(i.text)\n",
    "len('company_name')"
   ]
  },
  {
   "cell_type": "code",
   "execution_count": 38,
   "id": "3341e337",
   "metadata": {},
   "outputs": [
    {
     "data": {
      "text/plain": [
       "8"
      ]
     },
     "execution_count": 38,
     "metadata": {},
     "output_type": "execute_result"
    }
   ],
   "source": [
    "loc_tags = driver.find_elements_by_xpath('//li[@class=\"fleft grey-text br2 placeHolderLi location\"]')\n",
    "len(loc_tags)\n",
    "\n",
    "location = []\n",
    "for i in loc_tags:\n",
    "    location.append(i.text)\n",
    "len('location')"
   ]
  },
  {
   "cell_type": "code",
   "execution_count": 39,
   "id": "02d4105b",
   "metadata": {},
   "outputs": [
    {
     "data": {
      "text/plain": [
       "10"
      ]
     },
     "execution_count": 39,
     "metadata": {},
     "output_type": "execute_result"
    }
   ],
   "source": [
    "exp_tags = driver.find_elements_by_xpath('//li[@class=\"fleft grey-text br2 placeHolderLi experience\"]')\n",
    "len(title_tags)\n",
    "\n",
    "experience = []\n",
    "for i in exp_tags:\n",
    "    experience.append(i.text)\n",
    "len('experience')"
   ]
  },
  {
   "cell_type": "code",
   "execution_count": 40,
   "id": "4d46a65f",
   "metadata": {},
   "outputs": [
    {
     "data": {
      "text/html": [
       "<div>\n",
       "<style scoped>\n",
       "    .dataframe tbody tr th:only-of-type {\n",
       "        vertical-align: middle;\n",
       "    }\n",
       "\n",
       "    .dataframe tbody tr th {\n",
       "        vertical-align: top;\n",
       "    }\n",
       "\n",
       "    .dataframe thead th {\n",
       "        text-align: right;\n",
       "    }\n",
       "</style>\n",
       "<table border=\"1\" class=\"dataframe\">\n",
       "  <thead>\n",
       "    <tr style=\"text-align: right;\">\n",
       "      <th></th>\n",
       "      <th>Job Title</th>\n",
       "      <th>Company</th>\n",
       "      <th>Experience</th>\n",
       "      <th>Location</th>\n",
       "    </tr>\n",
       "  </thead>\n",
       "  <tbody>\n",
       "  </tbody>\n",
       "</table>\n",
       "</div>"
      ],
      "text/plain": [
       "Empty DataFrame\n",
       "Columns: [Job Title, Company, Experience, Location]\n",
       "Index: []"
      ]
     },
     "execution_count": 40,
     "metadata": {},
     "output_type": "execute_result"
    }
   ],
   "source": [
    "## Creating DataFrame:\n",
    "jobs = pd.DataFrame()\n",
    "jobs['Job Title'] = job_titles\n",
    "jobs['Company'] = company_name\n",
    "jobs['Experience'] = experience\n",
    "jobs['Location'] = location\n",
    "jobs.head(10)"
   ]
  },
  {
   "cell_type": "markdown",
   "id": "898d14f0",
   "metadata": {},
   "source": [
    "#### 4) Scrape data of first 100 sunglasses listings on flipkart.com. You have to scrape four attributes:\n",
    "1. Brand\n",
    "2. Product Description\n",
    "3. Price\n",
    "The attributes which you have to scrape is ticked marked in the below image.\n",
    "To scrape the data you have to go through following steps:\n",
    "1. Go to Flipkart webpage by url : https://www.flipkart.com/\n",
    "2. Enter “sunglasses” in the search field where “search for products, brands andmore” is written and\n",
    "click the search icon\n",
    "3. After that you will reach to the page having a lot of sunglasses. From this pageyou can scrap the\n",
    "required data as usual.\n",
    "4. After scraping data from the first page, go to the “Next” Button at the bottom ofthe page , then\n",
    "click on it.\n",
    "5. Now scrape data from this page as usual\n",
    "6. Repeat this until you get data for 100 sunglasses."
   ]
  },
  {
   "cell_type": "code",
   "execution_count": 46,
   "id": "47bc5ca4",
   "metadata": {},
   "outputs": [],
   "source": [
    "import selenium\n",
    "from selenium import webdriver\n",
    "import pandas as pd\n",
    "import warnings\n",
    "warnings.filterwarnings(\"ignore\")\n",
    "\n",
    "from selenium import webdriver\n",
    "driver=webdriver.Chrome(r'C:\\Users\\kunda\\OneDrive\\Desktop\\chromedriver.exe')\n",
    "\n"
   ]
  },
  {
   "cell_type": "code",
   "execution_count": 47,
   "id": "b64971ec",
   "metadata": {},
   "outputs": [],
   "source": [
    "url = \"https://www.flipkart.com/\"\n",
    "driver.get(url)"
   ]
  },
  {
   "cell_type": "code",
   "execution_count": 48,
   "id": "da77fd45",
   "metadata": {},
   "outputs": [
    {
     "data": {
      "text/plain": [
       "<selenium.webdriver.remote.webelement.WebElement (session=\"ea2747895102748719bd5c3f66f87933\", element=\"7a15b5c6-b64f-4f5a-8163-fc731341b4b8\")>"
      ]
     },
     "execution_count": 48,
     "metadata": {},
     "output_type": "execute_result"
    }
   ],
   "source": [
    "## finding web element for search job bar using class name\n",
    "search_product = driver.find_element_by_class_name(\"_3704LK\")\n",
    "search_product\n",
    "\n"
   ]
  },
  {
   "cell_type": "code",
   "execution_count": 49,
   "id": "bcbcd19d",
   "metadata": {},
   "outputs": [],
   "source": [
    "# write on search bar \n",
    "search_product.send_keys(\"sunglasses\")"
   ]
  },
  {
   "cell_type": "code",
   "execution_count": 50,
   "id": "3cdbe22c",
   "metadata": {},
   "outputs": [],
   "source": [
    "search_btn = driver.find_element_by_class_name(\"L0Z3Pu\")\n",
    "search_btn \n",
    "search_btn.click()"
   ]
  },
  {
   "cell_type": "markdown",
   "id": "49a26c80",
   "metadata": {},
   "source": [
    "#### Now we will Scrape 100 sunglasses with:\n",
    "Brand\n",
    "Product Description\n",
    "Price "
   ]
  },
  {
   "cell_type": "code",
   "execution_count": 51,
   "id": "a2e2cbb3",
   "metadata": {},
   "outputs": [
    {
     "data": {
      "text/plain": [
       "5"
      ]
     },
     "execution_count": 51,
     "metadata": {},
     "output_type": "execute_result"
    }
   ],
   "source": [
    "# Screping data from 1st page 1- 40products:\n",
    "\n",
    "brand_tags = driver.find_elements_by_xpath('//div[@class=\"_2WkVRV\"]')\n",
    "len(brand_tags)\n",
    "\n",
    "brand = []\n",
    "for i in brand_tags:\n",
    "    brand.append(i.text)\n",
    "len('brand')"
   ]
  },
  {
   "cell_type": "code",
   "execution_count": 52,
   "id": "1bec0227",
   "metadata": {},
   "outputs": [
    {
     "data": {
      "text/plain": [
       "11"
      ]
     },
     "execution_count": 52,
     "metadata": {},
     "output_type": "execute_result"
    }
   ],
   "source": [
    "description_tags = driver.find_elements_by_xpath('//div[@class=\"_2B099V\"]')\n",
    "len(description_tags)\n",
    "\n",
    "description = []\n",
    "for i in description_tags:\n",
    "    description.append(i.text)\n",
    "len('description')"
   ]
  },
  {
   "cell_type": "code",
   "execution_count": 53,
   "id": "b9b0ddfb",
   "metadata": {},
   "outputs": [
    {
     "data": {
      "text/plain": [
       "5"
      ]
     },
     "execution_count": 53,
     "metadata": {},
     "output_type": "execute_result"
    }
   ],
   "source": [
    "price_tags = driver.find_elements_by_xpath('//div[@class=\"_30jeq3\"]')\n",
    "len(description_tags)\n",
    "price = []\n",
    "for i in price_tags:\n",
    "    price.append(i.text)\n",
    "len('price')"
   ]
  },
  {
   "cell_type": "code",
   "execution_count": 54,
   "id": "36b74d22",
   "metadata": {},
   "outputs": [
    {
     "data": {
      "text/html": [
       "<div>\n",
       "<style scoped>\n",
       "    .dataframe tbody tr th:only-of-type {\n",
       "        vertical-align: middle;\n",
       "    }\n",
       "\n",
       "    .dataframe tbody tr th {\n",
       "        vertical-align: top;\n",
       "    }\n",
       "\n",
       "    .dataframe thead th {\n",
       "        text-align: right;\n",
       "    }\n",
       "</style>\n",
       "<table border=\"1\" class=\"dataframe\">\n",
       "  <thead>\n",
       "    <tr style=\"text-align: right;\">\n",
       "      <th></th>\n",
       "      <th>Brand</th>\n",
       "      <th>Price</th>\n",
       "      <th>Description</th>\n",
       "    </tr>\n",
       "  </thead>\n",
       "  <tbody>\n",
       "    <tr>\n",
       "      <th>0</th>\n",
       "      <td>VINCENT CHASE</td>\n",
       "      <td>₹1,365</td>\n",
       "      <td>VINCENT CHASE\\nby Lenskart Polarized, UV Prote...</td>\n",
       "    </tr>\n",
       "    <tr>\n",
       "      <th>1</th>\n",
       "      <td>VINCENT CHASE</td>\n",
       "      <td>₹1,483</td>\n",
       "      <td>VINCENT CHASE\\nby Lenskart Polarized, UV Prote...</td>\n",
       "    </tr>\n",
       "    <tr>\n",
       "      <th>2</th>\n",
       "      <td>GANSTA</td>\n",
       "      <td>₹159</td>\n",
       "      <td>GANSTA\\nUV Protection, Riding Glasses Wayfarer...</td>\n",
       "    </tr>\n",
       "    <tr>\n",
       "      <th>3</th>\n",
       "      <td>GANSTA</td>\n",
       "      <td>₹234</td>\n",
       "      <td>GANSTA\\nUV Protection Aviator Sunglasses (57)\\...</td>\n",
       "    </tr>\n",
       "    <tr>\n",
       "      <th>4</th>\n",
       "      <td>Elligator</td>\n",
       "      <td>₹198</td>\n",
       "      <td>Elligator\\nUV Protection Round Sunglasses (54)...</td>\n",
       "    </tr>\n",
       "    <tr>\n",
       "      <th>5</th>\n",
       "      <td>SUNBEE</td>\n",
       "      <td>₹193</td>\n",
       "      <td>SUNBEE\\nUV Protection, Polarized Wayfarer Sung...</td>\n",
       "    </tr>\n",
       "    <tr>\n",
       "      <th>6</th>\n",
       "      <td>SRPM</td>\n",
       "      <td>₹138</td>\n",
       "      <td>SRPM\\nUV Protection Wayfarer Sunglasses (50)\\n...</td>\n",
       "    </tr>\n",
       "    <tr>\n",
       "      <th>7</th>\n",
       "      <td>VINCENT CHASE</td>\n",
       "      <td>₹1,129</td>\n",
       "      <td>VINCENT CHASE\\nby Lenskart Polarized, UV Prote...</td>\n",
       "    </tr>\n",
       "    <tr>\n",
       "      <th>8</th>\n",
       "      <td>Fastrack</td>\n",
       "      <td>₹729</td>\n",
       "      <td>Fastrack\\nUV Protection Wayfarer Sunglasses (F...</td>\n",
       "    </tr>\n",
       "    <tr>\n",
       "      <th>9</th>\n",
       "      <td>New Specs</td>\n",
       "      <td>₹184</td>\n",
       "      <td>New Specs\\nUV Protection Rectangular Sunglasse...</td>\n",
       "    </tr>\n",
       "    <tr>\n",
       "      <th>10</th>\n",
       "      <td>SHAAH COLLECTIONS</td>\n",
       "      <td>₹115</td>\n",
       "      <td>SHAAH COLLECTIONS\\nUV Protection, Polarized, M...</td>\n",
       "    </tr>\n",
       "    <tr>\n",
       "      <th>11</th>\n",
       "      <td>VINCENT CHASE</td>\n",
       "      <td>₹1,365</td>\n",
       "      <td>VINCENT CHASE\\nby Lenskart Polarized, UV Prote...</td>\n",
       "    </tr>\n",
       "    <tr>\n",
       "      <th>12</th>\n",
       "      <td>SHAAH COLLECTIONS</td>\n",
       "      <td>₹131</td>\n",
       "      <td>SHAAH COLLECTIONS\\nUV Protection, Polarized, M...</td>\n",
       "    </tr>\n",
       "    <tr>\n",
       "      <th>13</th>\n",
       "      <td>SUNBEE</td>\n",
       "      <td>₹221</td>\n",
       "      <td>SUNBEE\\nUV Protection, Polarized, Mirrored Rou...</td>\n",
       "    </tr>\n",
       "    <tr>\n",
       "      <th>14</th>\n",
       "      <td>PIRASO</td>\n",
       "      <td>₹179</td>\n",
       "      <td>PIRASO\\nUV Protection Aviator Sunglasses (54)\\...</td>\n",
       "    </tr>\n",
       "    <tr>\n",
       "      <th>15</th>\n",
       "      <td>ROZZETTA CRAFT</td>\n",
       "      <td>₹399</td>\n",
       "      <td>ROZZETTA CRAFT\\nUV Protection, Riding Glasses ...</td>\n",
       "    </tr>\n",
       "    <tr>\n",
       "      <th>16</th>\n",
       "      <td>kingsunglasses</td>\n",
       "      <td>₹136</td>\n",
       "      <td>kingsunglasses\\nUV Protection Round Sunglasses...</td>\n",
       "    </tr>\n",
       "    <tr>\n",
       "      <th>17</th>\n",
       "      <td>Fastrack</td>\n",
       "      <td>₹579</td>\n",
       "      <td>Fastrack\\nUV Protection Rectangular Sunglasses...</td>\n",
       "    </tr>\n",
       "    <tr>\n",
       "      <th>18</th>\n",
       "      <td>GANSTA</td>\n",
       "      <td>₹199</td>\n",
       "      <td>GANSTA\\nUV Protection, Riding Glasses Wayfarer...</td>\n",
       "    </tr>\n",
       "    <tr>\n",
       "      <th>19</th>\n",
       "      <td>VINCENT CHASE</td>\n",
       "      <td>₹1,365</td>\n",
       "      <td>VINCENT CHASE\\nby Lenskart Polarized, UV Prote...</td>\n",
       "    </tr>\n",
       "    <tr>\n",
       "      <th>20</th>\n",
       "      <td>GANSTA</td>\n",
       "      <td>₹183</td>\n",
       "      <td>GANSTA\\nUV Protection Aviator Sunglasses (57)\\...</td>\n",
       "    </tr>\n",
       "    <tr>\n",
       "      <th>21</th>\n",
       "      <td>ROZZETTA CRAFT</td>\n",
       "      <td>₹349</td>\n",
       "      <td>ROZZETTA CRAFT\\nUV Protection, Gradient Rectan...</td>\n",
       "    </tr>\n",
       "    <tr>\n",
       "      <th>22</th>\n",
       "      <td>GANSTA</td>\n",
       "      <td>₹174</td>\n",
       "      <td>GANSTA\\nUV Protection Rectangular Sunglasses (...</td>\n",
       "    </tr>\n",
       "    <tr>\n",
       "      <th>23</th>\n",
       "      <td>ROZZETTA CRAFT</td>\n",
       "      <td>₹299</td>\n",
       "      <td>ROZZETTA CRAFT\\nUV Protection, Gradient Retro ...</td>\n",
       "    </tr>\n",
       "    <tr>\n",
       "      <th>24</th>\n",
       "      <td>ROZZETTA CRAFT</td>\n",
       "      <td>₹449</td>\n",
       "      <td>ROZZETTA CRAFT\\nPolarized, Night Vision, Ridin...</td>\n",
       "    </tr>\n",
       "    <tr>\n",
       "      <th>25</th>\n",
       "      <td>GANSTA</td>\n",
       "      <td>₹170</td>\n",
       "      <td>GANSTA\\nUV Protection Aviator Sunglasses (57)\\...</td>\n",
       "    </tr>\n",
       "    <tr>\n",
       "      <th>26</th>\n",
       "      <td>agera</td>\n",
       "      <td>₹186</td>\n",
       "      <td>agera\\nGradient Aviator Sunglasses (55)\\n₹186₹...</td>\n",
       "    </tr>\n",
       "    <tr>\n",
       "      <th>27</th>\n",
       "      <td>VINCENT CHASE</td>\n",
       "      <td>₹1,365</td>\n",
       "      <td>VINCENT CHASE\\nby Lenskart Polarized, UV Prote...</td>\n",
       "    </tr>\n",
       "    <tr>\n",
       "      <th>28</th>\n",
       "      <td>Elligator</td>\n",
       "      <td>₹117</td>\n",
       "      <td>Elligator\\nUV Protection Wayfarer Sunglasses (...</td>\n",
       "    </tr>\n",
       "    <tr>\n",
       "      <th>29</th>\n",
       "      <td>PIRASO</td>\n",
       "      <td>₹150</td>\n",
       "      <td>PIRASO\\nUV Protection Aviator Sunglasses (54)\\...</td>\n",
       "    </tr>\n",
       "    <tr>\n",
       "      <th>30</th>\n",
       "      <td>Johaena</td>\n",
       "      <td>₹102</td>\n",
       "      <td>Johaena\\nRiding Glasses, UV Protection Oval Su...</td>\n",
       "    </tr>\n",
       "    <tr>\n",
       "      <th>31</th>\n",
       "      <td>GANSTA</td>\n",
       "      <td>₹214</td>\n",
       "      <td>GANSTA\\nUV Protection, Night Vision, Riding Gl...</td>\n",
       "    </tr>\n",
       "    <tr>\n",
       "      <th>32</th>\n",
       "      <td>New Specs</td>\n",
       "      <td>₹209</td>\n",
       "      <td>New Specs\\nMirrored, UV Protection, Riding Gla...</td>\n",
       "    </tr>\n",
       "    <tr>\n",
       "      <th>33</th>\n",
       "      <td>PIRASO</td>\n",
       "      <td>₹150</td>\n",
       "      <td>PIRASO\\nUV Protection Aviator Sunglasses (54)\\...</td>\n",
       "    </tr>\n",
       "    <tr>\n",
       "      <th>34</th>\n",
       "      <td>GANSTA</td>\n",
       "      <td>₹165</td>\n",
       "      <td>GANSTA\\nUV Protection, Mirrored Wayfarer Sungl...</td>\n",
       "    </tr>\n",
       "    <tr>\n",
       "      <th>35</th>\n",
       "      <td>VINCENT CHASE</td>\n",
       "      <td>₹1,365</td>\n",
       "      <td>VINCENT CHASE\\nby Lenskart UV Protection Round...</td>\n",
       "    </tr>\n",
       "    <tr>\n",
       "      <th>36</th>\n",
       "      <td>Elligator</td>\n",
       "      <td>₹139</td>\n",
       "      <td>Elligator\\nUV Protection Round Sunglasses (53)...</td>\n",
       "    </tr>\n",
       "    <tr>\n",
       "      <th>37</th>\n",
       "      <td>PHENOMENAL</td>\n",
       "      <td>₹259</td>\n",
       "      <td>PHENOMENAL\\nUV Protection Retro Square Sunglas...</td>\n",
       "    </tr>\n",
       "    <tr>\n",
       "      <th>38</th>\n",
       "      <td>Elligator</td>\n",
       "      <td>₹215</td>\n",
       "      <td>Elligator\\nUV Protection Round Sunglasses (54)...</td>\n",
       "    </tr>\n",
       "    <tr>\n",
       "      <th>39</th>\n",
       "      <td>ROZZETTA CRAFT</td>\n",
       "      <td>₹298</td>\n",
       "      <td>ROZZETTA CRAFT\\nUV Protection, Gradient Rectan...</td>\n",
       "    </tr>\n",
       "  </tbody>\n",
       "</table>\n",
       "</div>"
      ],
      "text/plain": [
       "                Brand   Price  \\\n",
       "0       VINCENT CHASE  ₹1,365   \n",
       "1       VINCENT CHASE  ₹1,483   \n",
       "2              GANSTA    ₹159   \n",
       "3              GANSTA    ₹234   \n",
       "4           Elligator    ₹198   \n",
       "5              SUNBEE    ₹193   \n",
       "6                SRPM    ₹138   \n",
       "7       VINCENT CHASE  ₹1,129   \n",
       "8            Fastrack    ₹729   \n",
       "9           New Specs    ₹184   \n",
       "10  SHAAH COLLECTIONS    ₹115   \n",
       "11      VINCENT CHASE  ₹1,365   \n",
       "12  SHAAH COLLECTIONS    ₹131   \n",
       "13             SUNBEE    ₹221   \n",
       "14             PIRASO    ₹179   \n",
       "15     ROZZETTA CRAFT    ₹399   \n",
       "16     kingsunglasses    ₹136   \n",
       "17           Fastrack    ₹579   \n",
       "18             GANSTA    ₹199   \n",
       "19      VINCENT CHASE  ₹1,365   \n",
       "20             GANSTA    ₹183   \n",
       "21     ROZZETTA CRAFT    ₹349   \n",
       "22             GANSTA    ₹174   \n",
       "23     ROZZETTA CRAFT    ₹299   \n",
       "24     ROZZETTA CRAFT    ₹449   \n",
       "25             GANSTA    ₹170   \n",
       "26              agera    ₹186   \n",
       "27      VINCENT CHASE  ₹1,365   \n",
       "28          Elligator    ₹117   \n",
       "29             PIRASO    ₹150   \n",
       "30            Johaena    ₹102   \n",
       "31             GANSTA    ₹214   \n",
       "32          New Specs    ₹209   \n",
       "33             PIRASO    ₹150   \n",
       "34             GANSTA    ₹165   \n",
       "35      VINCENT CHASE  ₹1,365   \n",
       "36          Elligator    ₹139   \n",
       "37         PHENOMENAL    ₹259   \n",
       "38          Elligator    ₹215   \n",
       "39     ROZZETTA CRAFT    ₹298   \n",
       "\n",
       "                                          Description  \n",
       "0   VINCENT CHASE\\nby Lenskart Polarized, UV Prote...  \n",
       "1   VINCENT CHASE\\nby Lenskart Polarized, UV Prote...  \n",
       "2   GANSTA\\nUV Protection, Riding Glasses Wayfarer...  \n",
       "3   GANSTA\\nUV Protection Aviator Sunglasses (57)\\...  \n",
       "4   Elligator\\nUV Protection Round Sunglasses (54)...  \n",
       "5   SUNBEE\\nUV Protection, Polarized Wayfarer Sung...  \n",
       "6   SRPM\\nUV Protection Wayfarer Sunglasses (50)\\n...  \n",
       "7   VINCENT CHASE\\nby Lenskart Polarized, UV Prote...  \n",
       "8   Fastrack\\nUV Protection Wayfarer Sunglasses (F...  \n",
       "9   New Specs\\nUV Protection Rectangular Sunglasse...  \n",
       "10  SHAAH COLLECTIONS\\nUV Protection, Polarized, M...  \n",
       "11  VINCENT CHASE\\nby Lenskart Polarized, UV Prote...  \n",
       "12  SHAAH COLLECTIONS\\nUV Protection, Polarized, M...  \n",
       "13  SUNBEE\\nUV Protection, Polarized, Mirrored Rou...  \n",
       "14  PIRASO\\nUV Protection Aviator Sunglasses (54)\\...  \n",
       "15  ROZZETTA CRAFT\\nUV Protection, Riding Glasses ...  \n",
       "16  kingsunglasses\\nUV Protection Round Sunglasses...  \n",
       "17  Fastrack\\nUV Protection Rectangular Sunglasses...  \n",
       "18  GANSTA\\nUV Protection, Riding Glasses Wayfarer...  \n",
       "19  VINCENT CHASE\\nby Lenskart Polarized, UV Prote...  \n",
       "20  GANSTA\\nUV Protection Aviator Sunglasses (57)\\...  \n",
       "21  ROZZETTA CRAFT\\nUV Protection, Gradient Rectan...  \n",
       "22  GANSTA\\nUV Protection Rectangular Sunglasses (...  \n",
       "23  ROZZETTA CRAFT\\nUV Protection, Gradient Retro ...  \n",
       "24  ROZZETTA CRAFT\\nPolarized, Night Vision, Ridin...  \n",
       "25  GANSTA\\nUV Protection Aviator Sunglasses (57)\\...  \n",
       "26  agera\\nGradient Aviator Sunglasses (55)\\n₹186₹...  \n",
       "27  VINCENT CHASE\\nby Lenskart Polarized, UV Prote...  \n",
       "28  Elligator\\nUV Protection Wayfarer Sunglasses (...  \n",
       "29  PIRASO\\nUV Protection Aviator Sunglasses (54)\\...  \n",
       "30  Johaena\\nRiding Glasses, UV Protection Oval Su...  \n",
       "31  GANSTA\\nUV Protection, Night Vision, Riding Gl...  \n",
       "32  New Specs\\nMirrored, UV Protection, Riding Gla...  \n",
       "33  PIRASO\\nUV Protection Aviator Sunglasses (54)\\...  \n",
       "34  GANSTA\\nUV Protection, Mirrored Wayfarer Sungl...  \n",
       "35  VINCENT CHASE\\nby Lenskart UV Protection Round...  \n",
       "36  Elligator\\nUV Protection Round Sunglasses (53)...  \n",
       "37  PHENOMENAL\\nUV Protection Retro Square Sunglas...  \n",
       "38  Elligator\\nUV Protection Round Sunglasses (54)...  \n",
       "39  ROZZETTA CRAFT\\nUV Protection, Gradient Rectan...  "
      ]
     },
     "execution_count": 54,
     "metadata": {},
     "output_type": "execute_result"
    }
   ],
   "source": [
    "## Creating DataFrame:\n",
    "df1 = pd.DataFrame()\n",
    "df1['Brand'] = brand\n",
    "df1['Price'] = price\n",
    "df1['Description'] = description\n",
    "df1"
   ]
  },
  {
   "cell_type": "code",
   "execution_count": 55,
   "id": "4c410860",
   "metadata": {},
   "outputs": [
    {
     "data": {
      "text/plain": [
       "5"
      ]
     },
     "execution_count": 55,
     "metadata": {},
     "output_type": "execute_result"
    }
   ],
   "source": [
    "## 2nd page data from 41 to 80: \n",
    "brand_tags = driver.find_elements_by_xpath('//div[@class=\"_2WkVRV\"]')\n",
    "len(brand_tags)\n",
    "\n",
    "brand = []\n",
    "for i in brand_tags:\n",
    "    brand.append(i.text)\n",
    "len('brand')"
   ]
  },
  {
   "cell_type": "code",
   "execution_count": 56,
   "id": "0c5ae7dc",
   "metadata": {},
   "outputs": [
    {
     "data": {
      "text/plain": [
       "11"
      ]
     },
     "execution_count": 56,
     "metadata": {},
     "output_type": "execute_result"
    }
   ],
   "source": [
    "description_tags = driver.find_elements_by_xpath('//div[@class=\"_2B099V\" ]')\n",
    "len(description_tags)\n",
    "\n",
    "\n",
    "description = []\n",
    "for i in description_tags:\n",
    "    description.append(i.text)\n",
    "len('description')"
   ]
  },
  {
   "cell_type": "code",
   "execution_count": 57,
   "id": "76b8c192",
   "metadata": {},
   "outputs": [
    {
     "data": {
      "text/plain": [
       "5"
      ]
     },
     "execution_count": 57,
     "metadata": {},
     "output_type": "execute_result"
    }
   ],
   "source": [
    "price_tags = driver.find_elements_by_xpath('//div[@class=\"_30jeq3\"]')\n",
    "len(description_tags)\n",
    "price = []\n",
    "for i in price_tags:\n",
    "    price.append(i.text)\n",
    "len('price')"
   ]
  },
  {
   "cell_type": "code",
   "execution_count": 58,
   "id": "4d774dd0",
   "metadata": {},
   "outputs": [
    {
     "data": {
      "text/html": [
       "<div>\n",
       "<style scoped>\n",
       "    .dataframe tbody tr th:only-of-type {\n",
       "        vertical-align: middle;\n",
       "    }\n",
       "\n",
       "    .dataframe tbody tr th {\n",
       "        vertical-align: top;\n",
       "    }\n",
       "\n",
       "    .dataframe thead th {\n",
       "        text-align: right;\n",
       "    }\n",
       "</style>\n",
       "<table border=\"1\" class=\"dataframe\">\n",
       "  <thead>\n",
       "    <tr style=\"text-align: right;\">\n",
       "      <th></th>\n",
       "      <th>Brand</th>\n",
       "      <th>Price</th>\n",
       "      <th>Description</th>\n",
       "    </tr>\n",
       "  </thead>\n",
       "  <tbody>\n",
       "    <tr>\n",
       "      <th>0</th>\n",
       "      <td>VINCENT CHASE</td>\n",
       "      <td>₹1,365</td>\n",
       "      <td>VINCENT CHASE\\nby Lenskart Polarized, UV Prote...</td>\n",
       "    </tr>\n",
       "    <tr>\n",
       "      <th>1</th>\n",
       "      <td>VINCENT CHASE</td>\n",
       "      <td>₹1,483</td>\n",
       "      <td>VINCENT CHASE\\nby Lenskart Polarized, UV Prote...</td>\n",
       "    </tr>\n",
       "    <tr>\n",
       "      <th>2</th>\n",
       "      <td>GANSTA</td>\n",
       "      <td>₹159</td>\n",
       "      <td>GANSTA\\nUV Protection, Riding Glasses Wayfarer...</td>\n",
       "    </tr>\n",
       "    <tr>\n",
       "      <th>3</th>\n",
       "      <td>GANSTA</td>\n",
       "      <td>₹234</td>\n",
       "      <td>GANSTA\\nUV Protection Aviator Sunglasses (57)\\...</td>\n",
       "    </tr>\n",
       "    <tr>\n",
       "      <th>4</th>\n",
       "      <td>Elligator</td>\n",
       "      <td>₹198</td>\n",
       "      <td>Elligator\\nUV Protection Round Sunglasses (54)...</td>\n",
       "    </tr>\n",
       "    <tr>\n",
       "      <th>5</th>\n",
       "      <td>SUNBEE</td>\n",
       "      <td>₹193</td>\n",
       "      <td>SUNBEE\\nUV Protection, Polarized Wayfarer Sung...</td>\n",
       "    </tr>\n",
       "    <tr>\n",
       "      <th>6</th>\n",
       "      <td>SRPM</td>\n",
       "      <td>₹138</td>\n",
       "      <td>SRPM\\nUV Protection Wayfarer Sunglasses (50)\\n...</td>\n",
       "    </tr>\n",
       "    <tr>\n",
       "      <th>7</th>\n",
       "      <td>VINCENT CHASE</td>\n",
       "      <td>₹1,129</td>\n",
       "      <td>VINCENT CHASE\\nby Lenskart Polarized, UV Prote...</td>\n",
       "    </tr>\n",
       "    <tr>\n",
       "      <th>8</th>\n",
       "      <td>Fastrack</td>\n",
       "      <td>₹729</td>\n",
       "      <td>Fastrack\\nUV Protection Wayfarer Sunglasses (F...</td>\n",
       "    </tr>\n",
       "    <tr>\n",
       "      <th>9</th>\n",
       "      <td>New Specs</td>\n",
       "      <td>₹184</td>\n",
       "      <td>New Specs\\nUV Protection Rectangular Sunglasse...</td>\n",
       "    </tr>\n",
       "    <tr>\n",
       "      <th>10</th>\n",
       "      <td>SHAAH COLLECTIONS</td>\n",
       "      <td>₹115</td>\n",
       "      <td>SHAAH COLLECTIONS\\nUV Protection, Polarized, M...</td>\n",
       "    </tr>\n",
       "    <tr>\n",
       "      <th>11</th>\n",
       "      <td>VINCENT CHASE</td>\n",
       "      <td>₹1,365</td>\n",
       "      <td>VINCENT CHASE\\nby Lenskart Polarized, UV Prote...</td>\n",
       "    </tr>\n",
       "    <tr>\n",
       "      <th>12</th>\n",
       "      <td>SHAAH COLLECTIONS</td>\n",
       "      <td>₹131</td>\n",
       "      <td>SHAAH COLLECTIONS\\nUV Protection, Polarized, M...</td>\n",
       "    </tr>\n",
       "    <tr>\n",
       "      <th>13</th>\n",
       "      <td>SUNBEE</td>\n",
       "      <td>₹221</td>\n",
       "      <td>SUNBEE\\nUV Protection, Polarized, Mirrored Rou...</td>\n",
       "    </tr>\n",
       "    <tr>\n",
       "      <th>14</th>\n",
       "      <td>PIRASO</td>\n",
       "      <td>₹179</td>\n",
       "      <td>PIRASO\\nUV Protection Aviator Sunglasses (54)\\...</td>\n",
       "    </tr>\n",
       "    <tr>\n",
       "      <th>15</th>\n",
       "      <td>ROZZETTA CRAFT</td>\n",
       "      <td>₹399</td>\n",
       "      <td>ROZZETTA CRAFT\\nUV Protection, Riding Glasses ...</td>\n",
       "    </tr>\n",
       "    <tr>\n",
       "      <th>16</th>\n",
       "      <td>kingsunglasses</td>\n",
       "      <td>₹136</td>\n",
       "      <td>kingsunglasses\\nUV Protection Round Sunglasses...</td>\n",
       "    </tr>\n",
       "    <tr>\n",
       "      <th>17</th>\n",
       "      <td>Fastrack</td>\n",
       "      <td>₹579</td>\n",
       "      <td>Fastrack\\nUV Protection Rectangular Sunglasses...</td>\n",
       "    </tr>\n",
       "    <tr>\n",
       "      <th>18</th>\n",
       "      <td>GANSTA</td>\n",
       "      <td>₹199</td>\n",
       "      <td>GANSTA\\nUV Protection, Riding Glasses Wayfarer...</td>\n",
       "    </tr>\n",
       "    <tr>\n",
       "      <th>19</th>\n",
       "      <td>VINCENT CHASE</td>\n",
       "      <td>₹1,365</td>\n",
       "      <td>VINCENT CHASE\\nby Lenskart Polarized, UV Prote...</td>\n",
       "    </tr>\n",
       "    <tr>\n",
       "      <th>20</th>\n",
       "      <td>GANSTA</td>\n",
       "      <td>₹183</td>\n",
       "      <td>GANSTA\\nUV Protection Aviator Sunglasses (57)\\...</td>\n",
       "    </tr>\n",
       "    <tr>\n",
       "      <th>21</th>\n",
       "      <td>ROZZETTA CRAFT</td>\n",
       "      <td>₹349</td>\n",
       "      <td>ROZZETTA CRAFT\\nUV Protection, Gradient Rectan...</td>\n",
       "    </tr>\n",
       "    <tr>\n",
       "      <th>22</th>\n",
       "      <td>GANSTA</td>\n",
       "      <td>₹174</td>\n",
       "      <td>GANSTA\\nUV Protection Rectangular Sunglasses (...</td>\n",
       "    </tr>\n",
       "    <tr>\n",
       "      <th>23</th>\n",
       "      <td>ROZZETTA CRAFT</td>\n",
       "      <td>₹299</td>\n",
       "      <td>ROZZETTA CRAFT\\nUV Protection, Gradient Retro ...</td>\n",
       "    </tr>\n",
       "    <tr>\n",
       "      <th>24</th>\n",
       "      <td>ROZZETTA CRAFT</td>\n",
       "      <td>₹449</td>\n",
       "      <td>ROZZETTA CRAFT\\nPolarized, Night Vision, Ridin...</td>\n",
       "    </tr>\n",
       "    <tr>\n",
       "      <th>25</th>\n",
       "      <td>GANSTA</td>\n",
       "      <td>₹170</td>\n",
       "      <td>GANSTA\\nUV Protection Aviator Sunglasses (57)\\...</td>\n",
       "    </tr>\n",
       "    <tr>\n",
       "      <th>26</th>\n",
       "      <td>agera</td>\n",
       "      <td>₹186</td>\n",
       "      <td>agera\\nGradient Aviator Sunglasses (55)\\n₹186₹...</td>\n",
       "    </tr>\n",
       "    <tr>\n",
       "      <th>27</th>\n",
       "      <td>VINCENT CHASE</td>\n",
       "      <td>₹1,365</td>\n",
       "      <td>VINCENT CHASE\\nby Lenskart Polarized, UV Prote...</td>\n",
       "    </tr>\n",
       "    <tr>\n",
       "      <th>28</th>\n",
       "      <td>Elligator</td>\n",
       "      <td>₹117</td>\n",
       "      <td>Elligator\\nUV Protection Wayfarer Sunglasses (...</td>\n",
       "    </tr>\n",
       "    <tr>\n",
       "      <th>29</th>\n",
       "      <td>PIRASO</td>\n",
       "      <td>₹150</td>\n",
       "      <td>PIRASO\\nUV Protection Aviator Sunglasses (54)\\...</td>\n",
       "    </tr>\n",
       "    <tr>\n",
       "      <th>30</th>\n",
       "      <td>Johaena</td>\n",
       "      <td>₹102</td>\n",
       "      <td>Johaena\\nRiding Glasses, UV Protection Oval Su...</td>\n",
       "    </tr>\n",
       "    <tr>\n",
       "      <th>31</th>\n",
       "      <td>GANSTA</td>\n",
       "      <td>₹214</td>\n",
       "      <td>GANSTA\\nUV Protection, Night Vision, Riding Gl...</td>\n",
       "    </tr>\n",
       "    <tr>\n",
       "      <th>32</th>\n",
       "      <td>New Specs</td>\n",
       "      <td>₹209</td>\n",
       "      <td>New Specs\\nMirrored, UV Protection, Riding Gla...</td>\n",
       "    </tr>\n",
       "    <tr>\n",
       "      <th>33</th>\n",
       "      <td>PIRASO</td>\n",
       "      <td>₹150</td>\n",
       "      <td>PIRASO\\nUV Protection Aviator Sunglasses (54)\\...</td>\n",
       "    </tr>\n",
       "    <tr>\n",
       "      <th>34</th>\n",
       "      <td>GANSTA</td>\n",
       "      <td>₹165</td>\n",
       "      <td>GANSTA\\nUV Protection, Mirrored Wayfarer Sungl...</td>\n",
       "    </tr>\n",
       "    <tr>\n",
       "      <th>35</th>\n",
       "      <td>VINCENT CHASE</td>\n",
       "      <td>₹1,365</td>\n",
       "      <td>VINCENT CHASE\\nby Lenskart UV Protection Round...</td>\n",
       "    </tr>\n",
       "    <tr>\n",
       "      <th>36</th>\n",
       "      <td>Elligator</td>\n",
       "      <td>₹139</td>\n",
       "      <td>Elligator\\nUV Protection Round Sunglasses (53)...</td>\n",
       "    </tr>\n",
       "    <tr>\n",
       "      <th>37</th>\n",
       "      <td>PHENOMENAL</td>\n",
       "      <td>₹259</td>\n",
       "      <td>PHENOMENAL\\nUV Protection Retro Square Sunglas...</td>\n",
       "    </tr>\n",
       "    <tr>\n",
       "      <th>38</th>\n",
       "      <td>Elligator</td>\n",
       "      <td>₹215</td>\n",
       "      <td>Elligator\\nUV Protection Round Sunglasses (54)...</td>\n",
       "    </tr>\n",
       "    <tr>\n",
       "      <th>39</th>\n",
       "      <td>ROZZETTA CRAFT</td>\n",
       "      <td>₹298</td>\n",
       "      <td>ROZZETTA CRAFT\\nUV Protection, Gradient Rectan...</td>\n",
       "    </tr>\n",
       "  </tbody>\n",
       "</table>\n",
       "</div>"
      ],
      "text/plain": [
       "                Brand   Price  \\\n",
       "0       VINCENT CHASE  ₹1,365   \n",
       "1       VINCENT CHASE  ₹1,483   \n",
       "2              GANSTA    ₹159   \n",
       "3              GANSTA    ₹234   \n",
       "4           Elligator    ₹198   \n",
       "5              SUNBEE    ₹193   \n",
       "6                SRPM    ₹138   \n",
       "7       VINCENT CHASE  ₹1,129   \n",
       "8            Fastrack    ₹729   \n",
       "9           New Specs    ₹184   \n",
       "10  SHAAH COLLECTIONS    ₹115   \n",
       "11      VINCENT CHASE  ₹1,365   \n",
       "12  SHAAH COLLECTIONS    ₹131   \n",
       "13             SUNBEE    ₹221   \n",
       "14             PIRASO    ₹179   \n",
       "15     ROZZETTA CRAFT    ₹399   \n",
       "16     kingsunglasses    ₹136   \n",
       "17           Fastrack    ₹579   \n",
       "18             GANSTA    ₹199   \n",
       "19      VINCENT CHASE  ₹1,365   \n",
       "20             GANSTA    ₹183   \n",
       "21     ROZZETTA CRAFT    ₹349   \n",
       "22             GANSTA    ₹174   \n",
       "23     ROZZETTA CRAFT    ₹299   \n",
       "24     ROZZETTA CRAFT    ₹449   \n",
       "25             GANSTA    ₹170   \n",
       "26              agera    ₹186   \n",
       "27      VINCENT CHASE  ₹1,365   \n",
       "28          Elligator    ₹117   \n",
       "29             PIRASO    ₹150   \n",
       "30            Johaena    ₹102   \n",
       "31             GANSTA    ₹214   \n",
       "32          New Specs    ₹209   \n",
       "33             PIRASO    ₹150   \n",
       "34             GANSTA    ₹165   \n",
       "35      VINCENT CHASE  ₹1,365   \n",
       "36          Elligator    ₹139   \n",
       "37         PHENOMENAL    ₹259   \n",
       "38          Elligator    ₹215   \n",
       "39     ROZZETTA CRAFT    ₹298   \n",
       "\n",
       "                                          Description  \n",
       "0   VINCENT CHASE\\nby Lenskart Polarized, UV Prote...  \n",
       "1   VINCENT CHASE\\nby Lenskart Polarized, UV Prote...  \n",
       "2   GANSTA\\nUV Protection, Riding Glasses Wayfarer...  \n",
       "3   GANSTA\\nUV Protection Aviator Sunglasses (57)\\...  \n",
       "4   Elligator\\nUV Protection Round Sunglasses (54)...  \n",
       "5   SUNBEE\\nUV Protection, Polarized Wayfarer Sung...  \n",
       "6   SRPM\\nUV Protection Wayfarer Sunglasses (50)\\n...  \n",
       "7   VINCENT CHASE\\nby Lenskart Polarized, UV Prote...  \n",
       "8   Fastrack\\nUV Protection Wayfarer Sunglasses (F...  \n",
       "9   New Specs\\nUV Protection Rectangular Sunglasse...  \n",
       "10  SHAAH COLLECTIONS\\nUV Protection, Polarized, M...  \n",
       "11  VINCENT CHASE\\nby Lenskart Polarized, UV Prote...  \n",
       "12  SHAAH COLLECTIONS\\nUV Protection, Polarized, M...  \n",
       "13  SUNBEE\\nUV Protection, Polarized, Mirrored Rou...  \n",
       "14  PIRASO\\nUV Protection Aviator Sunglasses (54)\\...  \n",
       "15  ROZZETTA CRAFT\\nUV Protection, Riding Glasses ...  \n",
       "16  kingsunglasses\\nUV Protection Round Sunglasses...  \n",
       "17  Fastrack\\nUV Protection Rectangular Sunglasses...  \n",
       "18  GANSTA\\nUV Protection, Riding Glasses Wayfarer...  \n",
       "19  VINCENT CHASE\\nby Lenskart Polarized, UV Prote...  \n",
       "20  GANSTA\\nUV Protection Aviator Sunglasses (57)\\...  \n",
       "21  ROZZETTA CRAFT\\nUV Protection, Gradient Rectan...  \n",
       "22  GANSTA\\nUV Protection Rectangular Sunglasses (...  \n",
       "23  ROZZETTA CRAFT\\nUV Protection, Gradient Retro ...  \n",
       "24  ROZZETTA CRAFT\\nPolarized, Night Vision, Ridin...  \n",
       "25  GANSTA\\nUV Protection Aviator Sunglasses (57)\\...  \n",
       "26  agera\\nGradient Aviator Sunglasses (55)\\n₹186₹...  \n",
       "27  VINCENT CHASE\\nby Lenskart Polarized, UV Prote...  \n",
       "28  Elligator\\nUV Protection Wayfarer Sunglasses (...  \n",
       "29  PIRASO\\nUV Protection Aviator Sunglasses (54)\\...  \n",
       "30  Johaena\\nRiding Glasses, UV Protection Oval Su...  \n",
       "31  GANSTA\\nUV Protection, Night Vision, Riding Gl...  \n",
       "32  New Specs\\nMirrored, UV Protection, Riding Gla...  \n",
       "33  PIRASO\\nUV Protection Aviator Sunglasses (54)\\...  \n",
       "34  GANSTA\\nUV Protection, Mirrored Wayfarer Sungl...  \n",
       "35  VINCENT CHASE\\nby Lenskart UV Protection Round...  \n",
       "36  Elligator\\nUV Protection Round Sunglasses (53)...  \n",
       "37  PHENOMENAL\\nUV Protection Retro Square Sunglas...  \n",
       "38  Elligator\\nUV Protection Round Sunglasses (54)...  \n",
       "39  ROZZETTA CRAFT\\nUV Protection, Gradient Rectan...  "
      ]
     },
     "execution_count": 58,
     "metadata": {},
     "output_type": "execute_result"
    }
   ],
   "source": [
    "## Creating DataFrame:\n",
    "df2 = pd.DataFrame()\n",
    "df2['Brand'] = brand\n",
    "df2['Price'] = price\n",
    "df2['Description'] = description\n",
    "df2"
   ]
  },
  {
   "cell_type": "code",
   "execution_count": 59,
   "id": "d7ddaec6",
   "metadata": {},
   "outputs": [
    {
     "data": {
      "text/plain": [
       "5"
      ]
     },
     "execution_count": 59,
     "metadata": {},
     "output_type": "execute_result"
    }
   ],
   "source": [
    "## 3rd page data from 81 to 100: \n",
    "brand_tags = driver.find_elements_by_xpath('//div[@class=\"_2WkVRV\"]')\n",
    "len(brand_tags)\n",
    "\n",
    "brand = []\n",
    "for i in brand_tags:\n",
    "    brand.append(i.text)\n",
    "len('brand')"
   ]
  },
  {
   "cell_type": "code",
   "execution_count": 60,
   "id": "8d97e932",
   "metadata": {},
   "outputs": [
    {
     "data": {
      "text/plain": [
       "11"
      ]
     },
     "execution_count": 60,
     "metadata": {},
     "output_type": "execute_result"
    }
   ],
   "source": [
    "description_tags = driver.find_elements_by_xpath('//div[@class=\"_2B099V\" ]')\n",
    "len(description_tags)\n",
    "\n",
    "\n",
    "description = []\n",
    "for i in description_tags:\n",
    "    description.append(i.text)\n",
    "len('description')"
   ]
  },
  {
   "cell_type": "code",
   "execution_count": 61,
   "id": "58edd56a",
   "metadata": {},
   "outputs": [
    {
     "data": {
      "text/html": [
       "<div>\n",
       "<style scoped>\n",
       "    .dataframe tbody tr th:only-of-type {\n",
       "        vertical-align: middle;\n",
       "    }\n",
       "\n",
       "    .dataframe tbody tr th {\n",
       "        vertical-align: top;\n",
       "    }\n",
       "\n",
       "    .dataframe thead th {\n",
       "        text-align: right;\n",
       "    }\n",
       "</style>\n",
       "<table border=\"1\" class=\"dataframe\">\n",
       "  <thead>\n",
       "    <tr style=\"text-align: right;\">\n",
       "      <th></th>\n",
       "      <th>Brand</th>\n",
       "      <th>Price</th>\n",
       "      <th>Description</th>\n",
       "    </tr>\n",
       "  </thead>\n",
       "  <tbody>\n",
       "    <tr>\n",
       "      <th>0</th>\n",
       "      <td>VINCENT CHASE</td>\n",
       "      <td>₹1,365</td>\n",
       "      <td>VINCENT CHASE\\nby Lenskart Polarized, UV Prote...</td>\n",
       "    </tr>\n",
       "    <tr>\n",
       "      <th>1</th>\n",
       "      <td>VINCENT CHASE</td>\n",
       "      <td>₹1,483</td>\n",
       "      <td>VINCENT CHASE\\nby Lenskart Polarized, UV Prote...</td>\n",
       "    </tr>\n",
       "    <tr>\n",
       "      <th>2</th>\n",
       "      <td>GANSTA</td>\n",
       "      <td>₹159</td>\n",
       "      <td>GANSTA\\nUV Protection, Riding Glasses Wayfarer...</td>\n",
       "    </tr>\n",
       "    <tr>\n",
       "      <th>3</th>\n",
       "      <td>GANSTA</td>\n",
       "      <td>₹234</td>\n",
       "      <td>GANSTA\\nUV Protection Aviator Sunglasses (57)\\...</td>\n",
       "    </tr>\n",
       "    <tr>\n",
       "      <th>4</th>\n",
       "      <td>Elligator</td>\n",
       "      <td>₹198</td>\n",
       "      <td>Elligator\\nUV Protection Round Sunglasses (54)...</td>\n",
       "    </tr>\n",
       "    <tr>\n",
       "      <th>5</th>\n",
       "      <td>SUNBEE</td>\n",
       "      <td>₹193</td>\n",
       "      <td>SUNBEE\\nUV Protection, Polarized Wayfarer Sung...</td>\n",
       "    </tr>\n",
       "    <tr>\n",
       "      <th>6</th>\n",
       "      <td>SRPM</td>\n",
       "      <td>₹138</td>\n",
       "      <td>SRPM\\nUV Protection Wayfarer Sunglasses (50)\\n...</td>\n",
       "    </tr>\n",
       "    <tr>\n",
       "      <th>7</th>\n",
       "      <td>VINCENT CHASE</td>\n",
       "      <td>₹1,129</td>\n",
       "      <td>VINCENT CHASE\\nby Lenskart Polarized, UV Prote...</td>\n",
       "    </tr>\n",
       "    <tr>\n",
       "      <th>8</th>\n",
       "      <td>Fastrack</td>\n",
       "      <td>₹729</td>\n",
       "      <td>Fastrack\\nUV Protection Wayfarer Sunglasses (F...</td>\n",
       "    </tr>\n",
       "    <tr>\n",
       "      <th>9</th>\n",
       "      <td>New Specs</td>\n",
       "      <td>₹184</td>\n",
       "      <td>New Specs\\nUV Protection Rectangular Sunglasse...</td>\n",
       "    </tr>\n",
       "    <tr>\n",
       "      <th>10</th>\n",
       "      <td>SHAAH COLLECTIONS</td>\n",
       "      <td>₹115</td>\n",
       "      <td>SHAAH COLLECTIONS\\nUV Protection, Polarized, M...</td>\n",
       "    </tr>\n",
       "    <tr>\n",
       "      <th>11</th>\n",
       "      <td>VINCENT CHASE</td>\n",
       "      <td>₹1,365</td>\n",
       "      <td>VINCENT CHASE\\nby Lenskart Polarized, UV Prote...</td>\n",
       "    </tr>\n",
       "    <tr>\n",
       "      <th>12</th>\n",
       "      <td>SHAAH COLLECTIONS</td>\n",
       "      <td>₹131</td>\n",
       "      <td>SHAAH COLLECTIONS\\nUV Protection, Polarized, M...</td>\n",
       "    </tr>\n",
       "    <tr>\n",
       "      <th>13</th>\n",
       "      <td>SUNBEE</td>\n",
       "      <td>₹221</td>\n",
       "      <td>SUNBEE\\nUV Protection, Polarized, Mirrored Rou...</td>\n",
       "    </tr>\n",
       "    <tr>\n",
       "      <th>14</th>\n",
       "      <td>PIRASO</td>\n",
       "      <td>₹179</td>\n",
       "      <td>PIRASO\\nUV Protection Aviator Sunglasses (54)\\...</td>\n",
       "    </tr>\n",
       "    <tr>\n",
       "      <th>15</th>\n",
       "      <td>ROZZETTA CRAFT</td>\n",
       "      <td>₹399</td>\n",
       "      <td>ROZZETTA CRAFT\\nUV Protection, Riding Glasses ...</td>\n",
       "    </tr>\n",
       "    <tr>\n",
       "      <th>16</th>\n",
       "      <td>kingsunglasses</td>\n",
       "      <td>₹136</td>\n",
       "      <td>kingsunglasses\\nUV Protection Round Sunglasses...</td>\n",
       "    </tr>\n",
       "    <tr>\n",
       "      <th>17</th>\n",
       "      <td>Fastrack</td>\n",
       "      <td>₹579</td>\n",
       "      <td>Fastrack\\nUV Protection Rectangular Sunglasses...</td>\n",
       "    </tr>\n",
       "    <tr>\n",
       "      <th>18</th>\n",
       "      <td>GANSTA</td>\n",
       "      <td>₹199</td>\n",
       "      <td>GANSTA\\nUV Protection, Riding Glasses Wayfarer...</td>\n",
       "    </tr>\n",
       "    <tr>\n",
       "      <th>19</th>\n",
       "      <td>VINCENT CHASE</td>\n",
       "      <td>₹1,365</td>\n",
       "      <td>VINCENT CHASE\\nby Lenskart Polarized, UV Prote...</td>\n",
       "    </tr>\n",
       "  </tbody>\n",
       "</table>\n",
       "</div>"
      ],
      "text/plain": [
       "                Brand   Price  \\\n",
       "0       VINCENT CHASE  ₹1,365   \n",
       "1       VINCENT CHASE  ₹1,483   \n",
       "2              GANSTA    ₹159   \n",
       "3              GANSTA    ₹234   \n",
       "4           Elligator    ₹198   \n",
       "5              SUNBEE    ₹193   \n",
       "6                SRPM    ₹138   \n",
       "7       VINCENT CHASE  ₹1,129   \n",
       "8            Fastrack    ₹729   \n",
       "9           New Specs    ₹184   \n",
       "10  SHAAH COLLECTIONS    ₹115   \n",
       "11      VINCENT CHASE  ₹1,365   \n",
       "12  SHAAH COLLECTIONS    ₹131   \n",
       "13             SUNBEE    ₹221   \n",
       "14             PIRASO    ₹179   \n",
       "15     ROZZETTA CRAFT    ₹399   \n",
       "16     kingsunglasses    ₹136   \n",
       "17           Fastrack    ₹579   \n",
       "18             GANSTA    ₹199   \n",
       "19      VINCENT CHASE  ₹1,365   \n",
       "\n",
       "                                          Description  \n",
       "0   VINCENT CHASE\\nby Lenskart Polarized, UV Prote...  \n",
       "1   VINCENT CHASE\\nby Lenskart Polarized, UV Prote...  \n",
       "2   GANSTA\\nUV Protection, Riding Glasses Wayfarer...  \n",
       "3   GANSTA\\nUV Protection Aviator Sunglasses (57)\\...  \n",
       "4   Elligator\\nUV Protection Round Sunglasses (54)...  \n",
       "5   SUNBEE\\nUV Protection, Polarized Wayfarer Sung...  \n",
       "6   SRPM\\nUV Protection Wayfarer Sunglasses (50)\\n...  \n",
       "7   VINCENT CHASE\\nby Lenskart Polarized, UV Prote...  \n",
       "8   Fastrack\\nUV Protection Wayfarer Sunglasses (F...  \n",
       "9   New Specs\\nUV Protection Rectangular Sunglasse...  \n",
       "10  SHAAH COLLECTIONS\\nUV Protection, Polarized, M...  \n",
       "11  VINCENT CHASE\\nby Lenskart Polarized, UV Prote...  \n",
       "12  SHAAH COLLECTIONS\\nUV Protection, Polarized, M...  \n",
       "13  SUNBEE\\nUV Protection, Polarized, Mirrored Rou...  \n",
       "14  PIRASO\\nUV Protection Aviator Sunglasses (54)\\...  \n",
       "15  ROZZETTA CRAFT\\nUV Protection, Riding Glasses ...  \n",
       "16  kingsunglasses\\nUV Protection Round Sunglasses...  \n",
       "17  Fastrack\\nUV Protection Rectangular Sunglasses...  \n",
       "18  GANSTA\\nUV Protection, Riding Glasses Wayfarer...  \n",
       "19  VINCENT CHASE\\nby Lenskart Polarized, UV Prote...  "
      ]
     },
     "execution_count": 61,
     "metadata": {},
     "output_type": "execute_result"
    }
   ],
   "source": [
    "## Creating DataFrame:\n",
    "df3 = pd.DataFrame()\n",
    "df3['Brand'] = brand\n",
    "df3['Price'] = price\n",
    "df3['Description'] = description\n",
    "df3.head(20)"
   ]
  },
  {
   "cell_type": "code",
   "execution_count": 62,
   "id": "3662fb66",
   "metadata": {},
   "outputs": [],
   "source": [
    "## now we will merge all the 3 dataframes and create one dataframe with 100 Sunglasses details.\n",
    "df4 = pd.concat([df1, df2, df3], axis=0)"
   ]
  },
  {
   "cell_type": "code",
   "execution_count": 63,
   "id": "7ae02d73",
   "metadata": {},
   "outputs": [
    {
     "data": {
      "text/html": [
       "<div>\n",
       "<style scoped>\n",
       "    .dataframe tbody tr th:only-of-type {\n",
       "        vertical-align: middle;\n",
       "    }\n",
       "\n",
       "    .dataframe tbody tr th {\n",
       "        vertical-align: top;\n",
       "    }\n",
       "\n",
       "    .dataframe thead th {\n",
       "        text-align: right;\n",
       "    }\n",
       "</style>\n",
       "<table border=\"1\" class=\"dataframe\">\n",
       "  <thead>\n",
       "    <tr style=\"text-align: right;\">\n",
       "      <th></th>\n",
       "      <th>Brand</th>\n",
       "      <th>Price</th>\n",
       "      <th>Description</th>\n",
       "    </tr>\n",
       "  </thead>\n",
       "  <tbody>\n",
       "    <tr>\n",
       "      <th>0</th>\n",
       "      <td>VINCENT CHASE</td>\n",
       "      <td>₹1,365</td>\n",
       "      <td>VINCENT CHASE\\nby Lenskart Polarized, UV Prote...</td>\n",
       "    </tr>\n",
       "    <tr>\n",
       "      <th>1</th>\n",
       "      <td>VINCENT CHASE</td>\n",
       "      <td>₹1,483</td>\n",
       "      <td>VINCENT CHASE\\nby Lenskart Polarized, UV Prote...</td>\n",
       "    </tr>\n",
       "    <tr>\n",
       "      <th>2</th>\n",
       "      <td>GANSTA</td>\n",
       "      <td>₹159</td>\n",
       "      <td>GANSTA\\nUV Protection, Riding Glasses Wayfarer...</td>\n",
       "    </tr>\n",
       "    <tr>\n",
       "      <th>3</th>\n",
       "      <td>GANSTA</td>\n",
       "      <td>₹234</td>\n",
       "      <td>GANSTA\\nUV Protection Aviator Sunglasses (57)\\...</td>\n",
       "    </tr>\n",
       "    <tr>\n",
       "      <th>4</th>\n",
       "      <td>Elligator</td>\n",
       "      <td>₹198</td>\n",
       "      <td>Elligator\\nUV Protection Round Sunglasses (54)...</td>\n",
       "    </tr>\n",
       "    <tr>\n",
       "      <th>...</th>\n",
       "      <td>...</td>\n",
       "      <td>...</td>\n",
       "      <td>...</td>\n",
       "    </tr>\n",
       "    <tr>\n",
       "      <th>15</th>\n",
       "      <td>ROZZETTA CRAFT</td>\n",
       "      <td>₹399</td>\n",
       "      <td>ROZZETTA CRAFT\\nUV Protection, Riding Glasses ...</td>\n",
       "    </tr>\n",
       "    <tr>\n",
       "      <th>16</th>\n",
       "      <td>kingsunglasses</td>\n",
       "      <td>₹136</td>\n",
       "      <td>kingsunglasses\\nUV Protection Round Sunglasses...</td>\n",
       "    </tr>\n",
       "    <tr>\n",
       "      <th>17</th>\n",
       "      <td>Fastrack</td>\n",
       "      <td>₹579</td>\n",
       "      <td>Fastrack\\nUV Protection Rectangular Sunglasses...</td>\n",
       "    </tr>\n",
       "    <tr>\n",
       "      <th>18</th>\n",
       "      <td>GANSTA</td>\n",
       "      <td>₹199</td>\n",
       "      <td>GANSTA\\nUV Protection, Riding Glasses Wayfarer...</td>\n",
       "    </tr>\n",
       "    <tr>\n",
       "      <th>19</th>\n",
       "      <td>VINCENT CHASE</td>\n",
       "      <td>₹1,365</td>\n",
       "      <td>VINCENT CHASE\\nby Lenskart Polarized, UV Prote...</td>\n",
       "    </tr>\n",
       "  </tbody>\n",
       "</table>\n",
       "<p>100 rows × 3 columns</p>\n",
       "</div>"
      ],
      "text/plain": [
       "             Brand   Price                                        Description\n",
       "0    VINCENT CHASE  ₹1,365  VINCENT CHASE\\nby Lenskart Polarized, UV Prote...\n",
       "1    VINCENT CHASE  ₹1,483  VINCENT CHASE\\nby Lenskart Polarized, UV Prote...\n",
       "2           GANSTA    ₹159  GANSTA\\nUV Protection, Riding Glasses Wayfarer...\n",
       "3           GANSTA    ₹234  GANSTA\\nUV Protection Aviator Sunglasses (57)\\...\n",
       "4        Elligator    ₹198  Elligator\\nUV Protection Round Sunglasses (54)...\n",
       "..             ...     ...                                                ...\n",
       "15  ROZZETTA CRAFT    ₹399  ROZZETTA CRAFT\\nUV Protection, Riding Glasses ...\n",
       "16  kingsunglasses    ₹136  kingsunglasses\\nUV Protection Round Sunglasses...\n",
       "17        Fastrack    ₹579  Fastrack\\nUV Protection Rectangular Sunglasses...\n",
       "18          GANSTA    ₹199  GANSTA\\nUV Protection, Riding Glasses Wayfarer...\n",
       "19   VINCENT CHASE  ₹1,365  VINCENT CHASE\\nby Lenskart Polarized, UV Prote...\n",
       "\n",
       "[100 rows x 3 columns]"
      ]
     },
     "execution_count": 63,
     "metadata": {},
     "output_type": "execute_result"
    }
   ],
   "source": [
    "df4.head(100)"
   ]
  },
  {
   "cell_type": "markdown",
   "id": "f817993e",
   "metadata": {},
   "source": [
    "#### 5) Scrape 100 reviews data from flipkart.com for iphone11 phone. You have to go the link:\n",
    "https://www.flipkart.com/apple-iphone-11-black-64-gb-includes- earpods-poweradapter/p/itm0f37c2240b217?pid=MOBFKCTSVZAXUHGR&lid=LSTMOBFKC\n",
    "TSVZAXUHGREPBFGI&marketplace.\n",
    "When you will open the above link you will reach to the below shown webpage .\n",
    "As shown in the above page you have to scrape the tick marked attributes.These are:\n",
    "1. Rating\n",
    "2. Review summary\n",
    "3. Full review\n",
    "4. You have to scrape this data for first 100 reviews"
   ]
  },
  {
   "cell_type": "code",
   "execution_count": 64,
   "id": "a8c48083",
   "metadata": {},
   "outputs": [],
   "source": [
    "import selenium\n",
    "from selenium import webdriver\n",
    "import pandas as pd\n",
    "import warnings\n",
    "warnings.filterwarnings(\"ignore\")\n",
    "\n",
    "from selenium import webdriver\n",
    "driver=webdriver.Chrome(r'C:\\Users\\kunda\\OneDrive\\Desktop\\chromedriver.exe')\n",
    "\n"
   ]
  },
  {
   "cell_type": "code",
   "execution_count": 65,
   "id": "af6a0c9f",
   "metadata": {},
   "outputs": [],
   "source": [
    "url = \"https://www.flipkart.com/apple-iphone-11-black-64-gb-includes-%20earpods-poweradapter/p/itm0f37c2240b217?pid=MOBFKCTSVZAXUHGR&lid=LSTMOBFKC%20%20TSVZAXUHGREPBFGI&marketplace\"\n",
    "driver.get(url)"
   ]
  },
  {
   "cell_type": "markdown",
   "id": "29c55e28",
   "metadata": {},
   "source": [
    "#### Now we will scrape the first 100\n",
    "Rating\n",
    "Review summary\n",
    "Full review\n"
   ]
  },
  {
   "cell_type": "code",
   "execution_count": 66,
   "id": "74a6f967",
   "metadata": {},
   "outputs": [
    {
     "data": {
      "text/plain": [
       "6"
      ]
     },
     "execution_count": 66,
     "metadata": {},
     "output_type": "execute_result"
    }
   ],
   "source": [
    "rating_tags = driver.find_elements_by_xpath('//div[@class=\"_3LWZlK _1BLPMq\"]')\n",
    "len(rating_tags)\n",
    "\n",
    "rating = []\n",
    "for i in rating_tags:\n",
    "    rating.append(i.text)\n",
    "len('rating')"
   ]
  },
  {
   "cell_type": "code",
   "execution_count": 67,
   "id": "096390ba",
   "metadata": {},
   "outputs": [
    {
     "data": {
      "text/plain": [
       "6"
      ]
     },
     "execution_count": 67,
     "metadata": {},
     "output_type": "execute_result"
    }
   ],
   "source": [
    "review_tags = driver.find_elements_by_xpath('//p[@class=\"_2-N8zT\"]')\n",
    "len(review_tags)\n",
    "\n",
    "review = []\n",
    "for i in rating_tags:\n",
    "    review.append(i.text)\n",
    "len('review')"
   ]
  },
  {
   "cell_type": "code",
   "execution_count": 68,
   "id": "88d57105",
   "metadata": {},
   "outputs": [
    {
     "data": {
      "text/plain": [
       "14"
      ]
     },
     "execution_count": 68,
     "metadata": {},
     "output_type": "execute_result"
    }
   ],
   "source": [
    "summary_tags = driver.find_elements_by_xpath('//div[@class=\"t-ZTKy\"]')\n",
    "len(summary_tags)\n",
    "\n",
    "review_summary = []\n",
    "for i in summary_tags:\n",
    "    review_summary.append(i.text)\n",
    "len('review_summary')"
   ]
  },
  {
   "cell_type": "code",
   "execution_count": 69,
   "id": "79fd59cc",
   "metadata": {},
   "outputs": [
    {
     "data": {
      "text/html": [
       "<div>\n",
       "<style scoped>\n",
       "    .dataframe tbody tr th:only-of-type {\n",
       "        vertical-align: middle;\n",
       "    }\n",
       "\n",
       "    .dataframe tbody tr th {\n",
       "        vertical-align: top;\n",
       "    }\n",
       "\n",
       "    .dataframe thead th {\n",
       "        text-align: right;\n",
       "    }\n",
       "</style>\n",
       "<table border=\"1\" class=\"dataframe\">\n",
       "  <thead>\n",
       "    <tr style=\"text-align: right;\">\n",
       "      <th></th>\n",
       "      <th>Rating</th>\n",
       "      <th>Review</th>\n",
       "      <th>Review Summary</th>\n",
       "    </tr>\n",
       "  </thead>\n",
       "  <tbody>\n",
       "    <tr>\n",
       "      <th>0</th>\n",
       "      <td>5</td>\n",
       "      <td>5</td>\n",
       "      <td>The Best Phone for the Money\\n\\nThe iPhone 11 ...</td>\n",
       "    </tr>\n",
       "    <tr>\n",
       "      <th>1</th>\n",
       "      <td>5</td>\n",
       "      <td>5</td>\n",
       "      <td>Really satisfied with the Product I received.....</td>\n",
       "    </tr>\n",
       "    <tr>\n",
       "      <th>2</th>\n",
       "      <td>5</td>\n",
       "      <td>5</td>\n",
       "      <td>Great iPhone very snappy experience as apple k...</td>\n",
       "    </tr>\n",
       "    <tr>\n",
       "      <th>3</th>\n",
       "      <td></td>\n",
       "      <td></td>\n",
       "      <td></td>\n",
       "    </tr>\n",
       "    <tr>\n",
       "      <th>4</th>\n",
       "      <td></td>\n",
       "      <td></td>\n",
       "      <td></td>\n",
       "    </tr>\n",
       "    <tr>\n",
       "      <th>5</th>\n",
       "      <td></td>\n",
       "      <td></td>\n",
       "      <td></td>\n",
       "    </tr>\n",
       "    <tr>\n",
       "      <th>6</th>\n",
       "      <td></td>\n",
       "      <td></td>\n",
       "      <td></td>\n",
       "    </tr>\n",
       "    <tr>\n",
       "      <th>7</th>\n",
       "      <td></td>\n",
       "      <td></td>\n",
       "      <td></td>\n",
       "    </tr>\n",
       "    <tr>\n",
       "      <th>8</th>\n",
       "      <td></td>\n",
       "      <td></td>\n",
       "      <td></td>\n",
       "    </tr>\n",
       "    <tr>\n",
       "      <th>9</th>\n",
       "      <td></td>\n",
       "      <td></td>\n",
       "      <td></td>\n",
       "    </tr>\n",
       "  </tbody>\n",
       "</table>\n",
       "</div>"
      ],
      "text/plain": [
       "  Rating Review                                     Review Summary\n",
       "0      5      5  The Best Phone for the Money\\n\\nThe iPhone 11 ...\n",
       "1      5      5  Really satisfied with the Product I received.....\n",
       "2      5      5  Great iPhone very snappy experience as apple k...\n",
       "3                                                                 \n",
       "4                                                                 \n",
       "5                                                                 \n",
       "6                                                                 \n",
       "7                                                                 \n",
       "8                                                                 \n",
       "9                                                                 "
      ]
     },
     "execution_count": 69,
     "metadata": {},
     "output_type": "execute_result"
    }
   ],
   "source": [
    "## Creating DataFrame:\n",
    "df = pd.DataFrame()\n",
    "df['Rating'] = rating\n",
    "df['Review'] = review\n",
    "df['Review Summary'] = review_summary\n",
    "df"
   ]
  },
  {
   "cell_type": "code",
   "execution_count": 70,
   "id": "43bf1c79",
   "metadata": {},
   "outputs": [
    {
     "data": {
      "text/plain": [
       "6"
      ]
     },
     "execution_count": 70,
     "metadata": {},
     "output_type": "execute_result"
    }
   ],
   "source": [
    "rating_tags = driver.find_elements_by_xpath('//div[@class=\"_3LWZlK _1BLPMq\"]')\n",
    "len(rating_tags)\n",
    "\n",
    "rating = []\n",
    "for i in rating_tags:\n",
    "    rating.append(i.text)\n",
    "len('rating')"
   ]
  },
  {
   "cell_type": "code",
   "execution_count": 71,
   "id": "4be8afe4",
   "metadata": {},
   "outputs": [
    {
     "data": {
      "text/plain": [
       "6"
      ]
     },
     "execution_count": 71,
     "metadata": {},
     "output_type": "execute_result"
    }
   ],
   "source": [
    "review_tags = driver.find_elements_by_xpath('//p[@class=\"_2-N8zT\"]')\n",
    "len(review_tags)\n",
    "\n",
    "review = []\n",
    "for i in rating_tags:\n",
    "    review.append(i.text)\n",
    "len('review')\n"
   ]
  },
  {
   "cell_type": "code",
   "execution_count": 72,
   "id": "a5b7ee07",
   "metadata": {},
   "outputs": [
    {
     "data": {
      "text/plain": [
       "14"
      ]
     },
     "execution_count": 72,
     "metadata": {},
     "output_type": "execute_result"
    }
   ],
   "source": [
    "summary_tags = driver.find_elements_by_xpath('//div[@class=\"t-ZTKy\"]')\n",
    "len(summary_tags)\n",
    "\n",
    "review_summary = []\n",
    "for i in summary_tags:\n",
    "    review_summary.append(i.text)\n",
    "len('review_summary')"
   ]
  },
  {
   "cell_type": "code",
   "execution_count": 73,
   "id": "885e9359",
   "metadata": {},
   "outputs": [
    {
     "data": {
      "text/html": [
       "<div>\n",
       "<style scoped>\n",
       "    .dataframe tbody tr th:only-of-type {\n",
       "        vertical-align: middle;\n",
       "    }\n",
       "\n",
       "    .dataframe tbody tr th {\n",
       "        vertical-align: top;\n",
       "    }\n",
       "\n",
       "    .dataframe thead th {\n",
       "        text-align: right;\n",
       "    }\n",
       "</style>\n",
       "<table border=\"1\" class=\"dataframe\">\n",
       "  <thead>\n",
       "    <tr style=\"text-align: right;\">\n",
       "      <th></th>\n",
       "      <th>Rating</th>\n",
       "      <th>Review</th>\n",
       "      <th>Review Summary</th>\n",
       "    </tr>\n",
       "  </thead>\n",
       "  <tbody>\n",
       "    <tr>\n",
       "      <th>0</th>\n",
       "      <td>5</td>\n",
       "      <td>5</td>\n",
       "      <td>The Best Phone for the Money\\n\\nThe iPhone 11 ...</td>\n",
       "    </tr>\n",
       "    <tr>\n",
       "      <th>1</th>\n",
       "      <td>5</td>\n",
       "      <td>5</td>\n",
       "      <td>Really satisfied with the Product I received.....</td>\n",
       "    </tr>\n",
       "    <tr>\n",
       "      <th>2</th>\n",
       "      <td>5</td>\n",
       "      <td>5</td>\n",
       "      <td>Great iPhone very snappy experience as apple k...</td>\n",
       "    </tr>\n",
       "    <tr>\n",
       "      <th>3</th>\n",
       "      <td></td>\n",
       "      <td></td>\n",
       "      <td></td>\n",
       "    </tr>\n",
       "    <tr>\n",
       "      <th>4</th>\n",
       "      <td></td>\n",
       "      <td></td>\n",
       "      <td></td>\n",
       "    </tr>\n",
       "    <tr>\n",
       "      <th>5</th>\n",
       "      <td></td>\n",
       "      <td></td>\n",
       "      <td></td>\n",
       "    </tr>\n",
       "    <tr>\n",
       "      <th>6</th>\n",
       "      <td></td>\n",
       "      <td></td>\n",
       "      <td></td>\n",
       "    </tr>\n",
       "    <tr>\n",
       "      <th>7</th>\n",
       "      <td></td>\n",
       "      <td></td>\n",
       "      <td></td>\n",
       "    </tr>\n",
       "    <tr>\n",
       "      <th>8</th>\n",
       "      <td></td>\n",
       "      <td></td>\n",
       "      <td></td>\n",
       "    </tr>\n",
       "    <tr>\n",
       "      <th>9</th>\n",
       "      <td></td>\n",
       "      <td></td>\n",
       "      <td></td>\n",
       "    </tr>\n",
       "  </tbody>\n",
       "</table>\n",
       "</div>"
      ],
      "text/plain": [
       "  Rating Review                                     Review Summary\n",
       "0      5      5  The Best Phone for the Money\\n\\nThe iPhone 11 ...\n",
       "1      5      5  Really satisfied with the Product I received.....\n",
       "2      5      5  Great iPhone very snappy experience as apple k...\n",
       "3                                                                 \n",
       "4                                                                 \n",
       "5                                                                 \n",
       "6                                                                 \n",
       "7                                                                 \n",
       "8                                                                 \n",
       "9                                                                 "
      ]
     },
     "execution_count": 73,
     "metadata": {},
     "output_type": "execute_result"
    }
   ],
   "source": [
    "## Creating DataFrame:\n",
    "df = pd.DataFrame()\n",
    "df['Rating'] = rating\n",
    "df['Review'] = review\n",
    "df['Review Summary'] = review_summary\n",
    "df"
   ]
  },
  {
   "cell_type": "code",
   "execution_count": null,
   "id": "3eec6b6a",
   "metadata": {},
   "outputs": [],
   "source": []
  },
  {
   "cell_type": "markdown",
   "id": "9879d9fe",
   "metadata": {},
   "source": [
    "#### 6) Scrape data for first 100 sneakers you find when you visit flipkart.com andsearch for “sneakers” in the search field.\n",
    "#### You have to scrape 4 attributes of each sneaker: 1. Brand 2. Product Description 3. Price As shown in the below image, you have to scrape the tick marked attributes."
   ]
  },
  {
   "cell_type": "code",
   "execution_count": 76,
   "id": "9e27806f",
   "metadata": {},
   "outputs": [],
   "source": [
    "import selenium\n",
    "from selenium import webdriver\n",
    "import pandas as pd\n",
    "import warnings\n",
    "warnings.filterwarnings(\"ignore\")\n",
    "\n",
    "from selenium import webdriver\n",
    "driver=webdriver.Chrome(r'C:\\Users\\kunda\\OneDrive\\Desktop\\chromedriver.exe')"
   ]
  },
  {
   "cell_type": "code",
   "execution_count": 77,
   "id": "3e03210a",
   "metadata": {},
   "outputs": [],
   "source": [
    "url = \"http://www.flipkart.com/\"\n",
    "driver.get(url)"
   ]
  },
  {
   "cell_type": "code",
   "execution_count": 78,
   "id": "098fa1ab",
   "metadata": {},
   "outputs": [
    {
     "data": {
      "text/plain": [
       "<selenium.webdriver.remote.webelement.WebElement (session=\"0b2593b4867048e9268c7f13817c2250\", element=\"eb0f39d6-3a68-4be3-bb8e-0cf56fb09679\")>"
      ]
     },
     "execution_count": 78,
     "metadata": {},
     "output_type": "execute_result"
    }
   ],
   "source": [
    "## finding web element for search job bar using class name\n",
    "search_product = driver.find_element_by_class_name(\"_3704LK\")\n",
    "search_product\n"
   ]
  },
  {
   "cell_type": "code",
   "execution_count": 79,
   "id": "d336fe8f",
   "metadata": {},
   "outputs": [],
   "source": [
    "\n",
    "# write on search bar \n",
    "search_product.send_keys(\"sneakers\")"
   ]
  },
  {
   "cell_type": "code",
   "execution_count": 80,
   "id": "f40e8d85",
   "metadata": {},
   "outputs": [],
   "source": [
    "search_btn = driver.find_element_by_class_name(\"_34RNph\")\n",
    "search_btn \n",
    "search_btn.click()"
   ]
  },
  {
   "cell_type": "code",
   "execution_count": 81,
   "id": "ce5f5d60",
   "metadata": {},
   "outputs": [
    {
     "data": {
      "text/plain": [
       "5"
      ]
     },
     "execution_count": 81,
     "metadata": {},
     "output_type": "execute_result"
    }
   ],
   "source": [
    "## Now we will scrape  1. Brand 2. Product Description 3. Price\n",
    "brand_tags = driver.find_elements_by_xpath('//div[@class=\"_2WkVRV\"]')\n",
    "len(brand_tags)\n",
    "\n",
    "brand= []\n",
    "for i in brand_tags:\n",
    "    brand.append(i.text)\n",
    "len('brand')\n"
   ]
  },
  {
   "cell_type": "code",
   "execution_count": 82,
   "id": "59ae85e0",
   "metadata": {},
   "outputs": [
    {
     "data": {
      "text/plain": [
       "7"
      ]
     },
     "execution_count": 82,
     "metadata": {},
     "output_type": "execute_result"
    }
   ],
   "source": [
    "product_tags = driver.find_elements_by_xpath('//div[@class=\"_2B099V\"] ')\n",
    "len(product_tags)\n",
    "\n",
    "product = []\n",
    "for i in product_tags:\n",
    "    product.append(i.text)\n",
    "len('product')"
   ]
  },
  {
   "cell_type": "code",
   "execution_count": 94,
   "id": "94419d0a",
   "metadata": {},
   "outputs": [
    {
     "data": {
      "text/plain": [
       "5"
      ]
     },
     "execution_count": 94,
     "metadata": {},
     "output_type": "execute_result"
    }
   ],
   "source": [
    "price_tags = driver.find_elements_by_xpath('//a[@class=\"_3bPFwb\"]')\n",
    "len(price_tags)\n",
    "\n",
    "price = []\n",
    "for i in price_tags:\n",
    "    price.append(i.text)\n",
    "len('price')"
   ]
  },
  {
   "cell_type": "code",
   "execution_count": 95,
   "id": "a60a0533",
   "metadata": {},
   "outputs": [
    {
     "data": {
      "text/html": [
       "<div>\n",
       "<style scoped>\n",
       "    .dataframe tbody tr th:only-of-type {\n",
       "        vertical-align: middle;\n",
       "    }\n",
       "\n",
       "    .dataframe tbody tr th {\n",
       "        vertical-align: top;\n",
       "    }\n",
       "\n",
       "    .dataframe thead th {\n",
       "        text-align: right;\n",
       "    }\n",
       "</style>\n",
       "<table border=\"1\" class=\"dataframe\">\n",
       "  <thead>\n",
       "    <tr style=\"text-align: right;\">\n",
       "      <th></th>\n",
       "      <th>Brand</th>\n",
       "      <th>Description</th>\n",
       "      <th>Price</th>\n",
       "    </tr>\n",
       "  </thead>\n",
       "  <tbody>\n",
       "    <tr>\n",
       "      <th>0</th>\n",
       "      <td>Echor</td>\n",
       "      <td>Echor\\nMen's casual shoe Black sneaker shoe fo...</td>\n",
       "      <td>₹449₹1,49970% off</td>\n",
       "    </tr>\n",
       "    <tr>\n",
       "      <th>1</th>\n",
       "      <td>BRUTON</td>\n",
       "      <td>BRUTON\\nCombo Pack Of 3 Latest Casual Shoes Sn...</td>\n",
       "      <td>₹423₹2,99985% off</td>\n",
       "    </tr>\n",
       "    <tr>\n",
       "      <th>2</th>\n",
       "      <td>BRUTON</td>\n",
       "      <td>BRUTON\\nModern Trendy Sneakers Shoes Sneakers ...</td>\n",
       "      <td>₹209₹1,29983% off</td>\n",
       "    </tr>\n",
       "    <tr>\n",
       "      <th>3</th>\n",
       "      <td>Elevarse</td>\n",
       "      <td>Elevarse\\nSneakers For Men\\n₹299₹99970% off</td>\n",
       "      <td>₹299₹99970% off</td>\n",
       "    </tr>\n",
       "    <tr>\n",
       "      <th>4</th>\n",
       "      <td>BRUTON</td>\n",
       "      <td>BRUTON\\nCombo Pack Of 4 Casual Shoes Loafer Sh...</td>\n",
       "      <td>₹449₹3,49987% off</td>\n",
       "    </tr>\n",
       "    <tr>\n",
       "      <th>5</th>\n",
       "      <td>corsac</td>\n",
       "      <td>corsac\\nSTYLISH MENS BLACK AND WHITE SNEAKER S...</td>\n",
       "      <td>₹449₹1,49970% off</td>\n",
       "    </tr>\n",
       "    <tr>\n",
       "      <th>6</th>\n",
       "      <td>BRUTON</td>\n",
       "      <td>BRUTON\\nCombo Pack Of 2 Latest Stylish Casual ...</td>\n",
       "      <td>₹449₹2,49982% off</td>\n",
       "    </tr>\n",
       "    <tr>\n",
       "      <th>7</th>\n",
       "      <td>AERAMBOL</td>\n",
       "      <td>AERAMBOL\\nMen's Stylish Sports &amp; Casual Shoes ...</td>\n",
       "      <td>₹210₹85075% off</td>\n",
       "    </tr>\n",
       "    <tr>\n",
       "      <th>8</th>\n",
       "      <td>World Wear Footwear</td>\n",
       "      <td>World Wear Footwear\\n5011-Latest Collection St...</td>\n",
       "      <td>₹149₹49970% off</td>\n",
       "    </tr>\n",
       "    <tr>\n",
       "      <th>9</th>\n",
       "      <td>URBANBOX</td>\n",
       "      <td>URBANBOX\\nSneakers Sneakers For Men\\n₹170₹9998...</td>\n",
       "      <td>₹170₹99982% off</td>\n",
       "    </tr>\n",
       "    <tr>\n",
       "      <th>10</th>\n",
       "      <td>Labbin</td>\n",
       "      <td>Labbin\\nSneakers For Men\\n₹424₹99957% off</td>\n",
       "      <td>₹424₹99957% off</td>\n",
       "    </tr>\n",
       "    <tr>\n",
       "      <th>11</th>\n",
       "      <td>Nilatin</td>\n",
       "      <td>Nilatin\\nSneakers For Men\\n₹449₹1,99977% off</td>\n",
       "      <td>₹449₹1,99977% off</td>\n",
       "    </tr>\n",
       "    <tr>\n",
       "      <th>12</th>\n",
       "      <td>DUNKASTON</td>\n",
       "      <td>DUNKASTON\\nSneakers For Men\\n₹349₹1,49976% off</td>\n",
       "      <td>₹349₹1,49976% off</td>\n",
       "    </tr>\n",
       "    <tr>\n",
       "      <th>13</th>\n",
       "      <td>Trendmode</td>\n",
       "      <td>Trendmode\\nSneakers For Men\\n₹249₹69964% off</td>\n",
       "      <td>₹249₹69964% off</td>\n",
       "    </tr>\n",
       "    <tr>\n",
       "      <th>14</th>\n",
       "      <td>RapidBox</td>\n",
       "      <td>RapidBox\\nSneakers For Men\\n₹630₹99936% off</td>\n",
       "      <td>₹630₹99936% off</td>\n",
       "    </tr>\n",
       "    <tr>\n",
       "      <th>15</th>\n",
       "      <td>Strollin</td>\n",
       "      <td>Strollin\\nSneakers For Men\\n₹348₹99965% off</td>\n",
       "      <td>₹348₹99965% off</td>\n",
       "    </tr>\n",
       "    <tr>\n",
       "      <th>16</th>\n",
       "      <td>SCATCHITE</td>\n",
       "      <td>SCATCHITE\\nSneakers Sneakers For Men\\n₹327₹999...</td>\n",
       "      <td>₹327₹99967% off</td>\n",
       "    </tr>\n",
       "    <tr>\n",
       "      <th>17</th>\n",
       "      <td>World Wear Footwear</td>\n",
       "      <td>World Wear Footwear\\nSneakers For Men\\n₹199₹49...</td>\n",
       "      <td>₹199₹49960% off</td>\n",
       "    </tr>\n",
       "    <tr>\n",
       "      <th>18</th>\n",
       "      <td>Chevit</td>\n",
       "      <td>Chevit\\nSuper Stylish &amp; Trendy Combo Pack of 0...</td>\n",
       "      <td>₹599₹1,59862% off</td>\n",
       "    </tr>\n",
       "    <tr>\n",
       "      <th>19</th>\n",
       "      <td>Airland</td>\n",
       "      <td>Airland\\nsneaker men red 1258 - 8 Sneakers For...</td>\n",
       "      <td>₹188₹49962% off</td>\n",
       "    </tr>\n",
       "    <tr>\n",
       "      <th>20</th>\n",
       "      <td>D-SNEAKERZ</td>\n",
       "      <td>D-SNEAKERZ\\nCasual , Partywear Sneakers Shoes ...</td>\n",
       "      <td>₹249₹65962% off</td>\n",
       "    </tr>\n",
       "    <tr>\n",
       "      <th>21</th>\n",
       "      <td>Shoes Bank</td>\n",
       "      <td>Shoes Bank\\nWhite Sneaker For Men's/Boy's Snea...</td>\n",
       "      <td>₹295₹99970% off</td>\n",
       "    </tr>\n",
       "    <tr>\n",
       "      <th>22</th>\n",
       "      <td>luxury fashion</td>\n",
       "      <td>luxury fashion\\nLuxury Fashionable casual snea...</td>\n",
       "      <td>₹399₹1,29969% off</td>\n",
       "    </tr>\n",
       "    <tr>\n",
       "      <th>23</th>\n",
       "      <td>MAFLO</td>\n",
       "      <td>MAFLO\\nNEW ATTRACTIVE WHITE SPORTS SHOE Sneake...</td>\n",
       "      <td>₹549₹1,29957% off</td>\n",
       "    </tr>\n",
       "    <tr>\n",
       "      <th>24</th>\n",
       "      <td>ASTEROID</td>\n",
       "      <td>ASTEROID\\nOriginal Luxury Branded Fashionable ...</td>\n",
       "      <td>₹424₹1,99978% off</td>\n",
       "    </tr>\n",
       "    <tr>\n",
       "      <th>25</th>\n",
       "      <td>Noztile</td>\n",
       "      <td>Noztile\\nSneakers For Men\\n₹349₹1,99982% off</td>\n",
       "      <td>₹349₹1,99982% off</td>\n",
       "    </tr>\n",
       "    <tr>\n",
       "      <th>26</th>\n",
       "      <td>Rzisbo</td>\n",
       "      <td>Rzisbo\\nSneakers For Men\\n₹499₹99950% off\\nBuy...</td>\n",
       "      <td>₹499₹99950% off</td>\n",
       "    </tr>\n",
       "    <tr>\n",
       "      <th>27</th>\n",
       "      <td>Neeman's</td>\n",
       "      <td>Neeman's\\nSneakers For Men\\n₹2,349₹2,99921% of...</td>\n",
       "      <td>₹2,349₹2,99921% off</td>\n",
       "    </tr>\n",
       "    <tr>\n",
       "      <th>28</th>\n",
       "      <td>RapidBox</td>\n",
       "      <td>RapidBox\\nRapidBox Men Shoes Sneakers For Men\\...</td>\n",
       "      <td>₹640₹99935% off</td>\n",
       "    </tr>\n",
       "    <tr>\n",
       "      <th>29</th>\n",
       "      <td>CLYMB</td>\n",
       "      <td>CLYMB\\nSneakers For Men\\n₹566₹1,49962% off\\nFr...</td>\n",
       "      <td>₹566₹1,49962% off</td>\n",
       "    </tr>\n",
       "    <tr>\n",
       "      <th>30</th>\n",
       "      <td>Numenzo</td>\n",
       "      <td>Numenzo\\n411 Casual Sneakers For Men\\n₹376₹1,9...</td>\n",
       "      <td>₹376₹1,99981% off</td>\n",
       "    </tr>\n",
       "    <tr>\n",
       "      <th>31</th>\n",
       "      <td>Zixer</td>\n",
       "      <td>Zixer\\nMen's Streetwear Pro Style High Top Pla...</td>\n",
       "      <td>₹549₹1,99972% off</td>\n",
       "    </tr>\n",
       "    <tr>\n",
       "      <th>32</th>\n",
       "      <td>Xtoon</td>\n",
       "      <td>Xtoon\\nwhite Casual shoes,Sneakers for men's S...</td>\n",
       "      <td>₹429₹1,49971% off</td>\n",
       "    </tr>\n",
       "    <tr>\n",
       "      <th>33</th>\n",
       "      <td>BIRDE</td>\n",
       "      <td>BIRDE\\nSports Running Shoes Sneakers For Men\\n...</td>\n",
       "      <td>₹249₹49950% off</td>\n",
       "    </tr>\n",
       "    <tr>\n",
       "      <th>34</th>\n",
       "      <td>BRUTON</td>\n",
       "      <td>BRUTON\\nLattest Sneakers Shoe Sneakers For Men...</td>\n",
       "      <td>₹209₹1,29983% off</td>\n",
       "    </tr>\n",
       "    <tr>\n",
       "      <th>35</th>\n",
       "      <td>CLYMB</td>\n",
       "      <td>CLYMB\\nPerfect Casual Loafer Shoes for Men's R...</td>\n",
       "      <td>₹471₹99952% off</td>\n",
       "    </tr>\n",
       "    <tr>\n",
       "      <th>36</th>\n",
       "      <td>HOTSTYLE</td>\n",
       "      <td>HOTSTYLE\\nSneakers For Men\\n₹199₹99880% off</td>\n",
       "      <td>₹199₹99880% off</td>\n",
       "    </tr>\n",
       "    <tr>\n",
       "      <th>37</th>\n",
       "      <td>Robbie jones</td>\n",
       "      <td>Robbie jones\\nSneakers For Men\\n₹449₹99955% off</td>\n",
       "      <td>₹449₹99955% off</td>\n",
       "    </tr>\n",
       "    <tr>\n",
       "      <th>38</th>\n",
       "      <td>aadi</td>\n",
       "      <td>aadi\\nSneakers For Men\\n₹349₹99965% off</td>\n",
       "      <td>₹349₹99965% off</td>\n",
       "    </tr>\n",
       "    <tr>\n",
       "      <th>39</th>\n",
       "      <td>Echor</td>\n",
       "      <td>Echor\\nMen's Fashion Sneakers - Lightweight Br...</td>\n",
       "      <td>₹348₹99965% off</td>\n",
       "    </tr>\n",
       "  </tbody>\n",
       "</table>\n",
       "</div>"
      ],
      "text/plain": [
       "                  Brand                                        Description  \\\n",
       "0                 Echor  Echor\\nMen's casual shoe Black sneaker shoe fo...   \n",
       "1                BRUTON  BRUTON\\nCombo Pack Of 3 Latest Casual Shoes Sn...   \n",
       "2                BRUTON  BRUTON\\nModern Trendy Sneakers Shoes Sneakers ...   \n",
       "3              Elevarse        Elevarse\\nSneakers For Men\\n₹299₹99970% off   \n",
       "4                BRUTON  BRUTON\\nCombo Pack Of 4 Casual Shoes Loafer Sh...   \n",
       "5                corsac  corsac\\nSTYLISH MENS BLACK AND WHITE SNEAKER S...   \n",
       "6                BRUTON  BRUTON\\nCombo Pack Of 2 Latest Stylish Casual ...   \n",
       "7              AERAMBOL  AERAMBOL\\nMen's Stylish Sports & Casual Shoes ...   \n",
       "8   World Wear Footwear  World Wear Footwear\\n5011-Latest Collection St...   \n",
       "9              URBANBOX  URBANBOX\\nSneakers Sneakers For Men\\n₹170₹9998...   \n",
       "10               Labbin          Labbin\\nSneakers For Men\\n₹424₹99957% off   \n",
       "11              Nilatin       Nilatin\\nSneakers For Men\\n₹449₹1,99977% off   \n",
       "12            DUNKASTON     DUNKASTON\\nSneakers For Men\\n₹349₹1,49976% off   \n",
       "13            Trendmode       Trendmode\\nSneakers For Men\\n₹249₹69964% off   \n",
       "14             RapidBox        RapidBox\\nSneakers For Men\\n₹630₹99936% off   \n",
       "15             Strollin        Strollin\\nSneakers For Men\\n₹348₹99965% off   \n",
       "16            SCATCHITE  SCATCHITE\\nSneakers Sneakers For Men\\n₹327₹999...   \n",
       "17  World Wear Footwear  World Wear Footwear\\nSneakers For Men\\n₹199₹49...   \n",
       "18               Chevit  Chevit\\nSuper Stylish & Trendy Combo Pack of 0...   \n",
       "19              Airland  Airland\\nsneaker men red 1258 - 8 Sneakers For...   \n",
       "20           D-SNEAKERZ  D-SNEAKERZ\\nCasual , Partywear Sneakers Shoes ...   \n",
       "21           Shoes Bank  Shoes Bank\\nWhite Sneaker For Men's/Boy's Snea...   \n",
       "22       luxury fashion  luxury fashion\\nLuxury Fashionable casual snea...   \n",
       "23                MAFLO  MAFLO\\nNEW ATTRACTIVE WHITE SPORTS SHOE Sneake...   \n",
       "24             ASTEROID  ASTEROID\\nOriginal Luxury Branded Fashionable ...   \n",
       "25              Noztile       Noztile\\nSneakers For Men\\n₹349₹1,99982% off   \n",
       "26               Rzisbo  Rzisbo\\nSneakers For Men\\n₹499₹99950% off\\nBuy...   \n",
       "27             Neeman's  Neeman's\\nSneakers For Men\\n₹2,349₹2,99921% of...   \n",
       "28             RapidBox  RapidBox\\nRapidBox Men Shoes Sneakers For Men\\...   \n",
       "29                CLYMB  CLYMB\\nSneakers For Men\\n₹566₹1,49962% off\\nFr...   \n",
       "30              Numenzo  Numenzo\\n411 Casual Sneakers For Men\\n₹376₹1,9...   \n",
       "31                Zixer  Zixer\\nMen's Streetwear Pro Style High Top Pla...   \n",
       "32                Xtoon  Xtoon\\nwhite Casual shoes,Sneakers for men's S...   \n",
       "33                BIRDE  BIRDE\\nSports Running Shoes Sneakers For Men\\n...   \n",
       "34               BRUTON  BRUTON\\nLattest Sneakers Shoe Sneakers For Men...   \n",
       "35                CLYMB  CLYMB\\nPerfect Casual Loafer Shoes for Men's R...   \n",
       "36             HOTSTYLE        HOTSTYLE\\nSneakers For Men\\n₹199₹99880% off   \n",
       "37         Robbie jones    Robbie jones\\nSneakers For Men\\n₹449₹99955% off   \n",
       "38                 aadi            aadi\\nSneakers For Men\\n₹349₹99965% off   \n",
       "39                Echor  Echor\\nMen's Fashion Sneakers - Lightweight Br...   \n",
       "\n",
       "                  Price  \n",
       "0     ₹449₹1,49970% off  \n",
       "1     ₹423₹2,99985% off  \n",
       "2     ₹209₹1,29983% off  \n",
       "3       ₹299₹99970% off  \n",
       "4     ₹449₹3,49987% off  \n",
       "5     ₹449₹1,49970% off  \n",
       "6     ₹449₹2,49982% off  \n",
       "7       ₹210₹85075% off  \n",
       "8       ₹149₹49970% off  \n",
       "9       ₹170₹99982% off  \n",
       "10      ₹424₹99957% off  \n",
       "11    ₹449₹1,99977% off  \n",
       "12    ₹349₹1,49976% off  \n",
       "13      ₹249₹69964% off  \n",
       "14      ₹630₹99936% off  \n",
       "15      ₹348₹99965% off  \n",
       "16      ₹327₹99967% off  \n",
       "17      ₹199₹49960% off  \n",
       "18    ₹599₹1,59862% off  \n",
       "19      ₹188₹49962% off  \n",
       "20      ₹249₹65962% off  \n",
       "21      ₹295₹99970% off  \n",
       "22    ₹399₹1,29969% off  \n",
       "23    ₹549₹1,29957% off  \n",
       "24    ₹424₹1,99978% off  \n",
       "25    ₹349₹1,99982% off  \n",
       "26      ₹499₹99950% off  \n",
       "27  ₹2,349₹2,99921% off  \n",
       "28      ₹640₹99935% off  \n",
       "29    ₹566₹1,49962% off  \n",
       "30    ₹376₹1,99981% off  \n",
       "31    ₹549₹1,99972% off  \n",
       "32    ₹429₹1,49971% off  \n",
       "33      ₹249₹49950% off  \n",
       "34    ₹209₹1,29983% off  \n",
       "35      ₹471₹99952% off  \n",
       "36      ₹199₹99880% off  \n",
       "37      ₹449₹99955% off  \n",
       "38      ₹349₹99965% off  \n",
       "39      ₹348₹99965% off  "
      ]
     },
     "execution_count": 95,
     "metadata": {},
     "output_type": "execute_result"
    }
   ],
   "source": [
    "## Creating DataFrame:\n",
    "df = pd.DataFrame()\n",
    "df['Brand'] = brand\n",
    "df['Description'] = product\n",
    "df['Price'] = price\n",
    "df"
   ]
  },
  {
   "cell_type": "code",
   "execution_count": 96,
   "id": "a5954a01",
   "metadata": {},
   "outputs": [
    {
     "data": {
      "text/plain": [
       "<selenium.webdriver.remote.webelement.WebElement (session=\"0b2593b4867048e9268c7f13817c2250\", element=\"bac79998-3055-4ce8-9c38-746d7f45e238\")>"
      ]
     },
     "execution_count": 96,
     "metadata": {},
     "output_type": "execute_result"
    }
   ],
   "source": [
    "## scraping data from 2nd page.\n",
    "next_btn = driver.find_element_by_class_name(\"_1LKTO3\")\n",
    "next_btn \n"
   ]
  },
  {
   "cell_type": "code",
   "execution_count": 97,
   "id": "3eb4b585",
   "metadata": {},
   "outputs": [],
   "source": [
    "next_btn.click()"
   ]
  },
  {
   "cell_type": "code",
   "execution_count": 98,
   "id": "ffc97f17",
   "metadata": {},
   "outputs": [
    {
     "ename": "StaleElementReferenceException",
     "evalue": "Message: stale element reference: element is not attached to the page document\n  (Session info: chrome=98.0.4758.102)\nStacktrace:\nBacktrace:\n\tOrdinal0 [0x004B69A3+2582947]\n\tOrdinal0 [0x0044A6D1+2139857]\n\tOrdinal0 [0x00343A98+1063576]\n\tOrdinal0 [0x003462B7+1073847]\n\tOrdinal0 [0x0034617E+1073534]\n\tOrdinal0 [0x003463F0+1074160]\n\tOrdinal0 [0x0036B8E0+1226976]\n\tOrdinal0 [0x0038854C+1344844]\n\tOrdinal0 [0x00366524+1205540]\n\tOrdinal0 [0x003886A4+1345188]\n\tOrdinal0 [0x0039834A+1409866]\n\tOrdinal0 [0x00388366+1344358]\n\tOrdinal0 [0x00365176+1200502]\n\tOrdinal0 [0x00366066+1204326]\n\tGetHandleVerifier [0x0065BE02+1675858]\n\tGetHandleVerifier [0x0071036C+2414524]\n\tGetHandleVerifier [0x0054BB01+560977]\n\tGetHandleVerifier [0x0054A8D3+556323]\n\tOrdinal0 [0x0045020E+2163214]\n\tOrdinal0 [0x00455078+2183288]\n\tOrdinal0 [0x004551C0+2183616]\n\tOrdinal0 [0x0045EE1C+2223644]\n\tBaseThreadInitThunk [0x766CFA29+25]\n\tRtlGetAppContainerNamedObjectPath [0x77B87A9E+286]\n\tRtlGetAppContainerNamedObjectPath [0x77B87A6E+238]\n",
     "output_type": "error",
     "traceback": [
      "\u001b[1;31m---------------------------------------------------------------------------\u001b[0m",
      "\u001b[1;31mStaleElementReferenceException\u001b[0m            Traceback (most recent call last)",
      "\u001b[1;32m<ipython-input-98-b3ad847c44cd>\u001b[0m in \u001b[0;36m<module>\u001b[1;34m\u001b[0m\n\u001b[0;32m     21\u001b[0m \u001b[0mproduct\u001b[0m \u001b[1;33m=\u001b[0m \u001b[1;33m[\u001b[0m\u001b[1;33m]\u001b[0m\u001b[1;33m\u001b[0m\u001b[1;33m\u001b[0m\u001b[0m\n\u001b[0;32m     22\u001b[0m \u001b[1;32mfor\u001b[0m \u001b[0mi\u001b[0m \u001b[1;32min\u001b[0m \u001b[0mproduct_tags\u001b[0m\u001b[1;33m:\u001b[0m\u001b[1;33m\u001b[0m\u001b[1;33m\u001b[0m\u001b[0m\n\u001b[1;32m---> 23\u001b[1;33m     \u001b[0mproduct\u001b[0m\u001b[1;33m.\u001b[0m\u001b[0mappend\u001b[0m\u001b[1;33m(\u001b[0m\u001b[0mi\u001b[0m\u001b[1;33m.\u001b[0m\u001b[0mtext\u001b[0m\u001b[1;33m)\u001b[0m\u001b[1;33m\u001b[0m\u001b[1;33m\u001b[0m\u001b[0m\n\u001b[0m\u001b[0;32m     24\u001b[0m \u001b[0mlen\u001b[0m\u001b[1;33m(\u001b[0m\u001b[1;34m'product'\u001b[0m\u001b[1;33m)\u001b[0m\u001b[1;33m\u001b[0m\u001b[1;33m\u001b[0m\u001b[0m\n",
      "\u001b[1;32m~\\anaconda3\\lib\\site-packages\\selenium\\webdriver\\remote\\webelement.py\u001b[0m in \u001b[0;36mtext\u001b[1;34m(self)\u001b[0m\n\u001b[0;32m     75\u001b[0m     \u001b[1;32mdef\u001b[0m \u001b[0mtext\u001b[0m\u001b[1;33m(\u001b[0m\u001b[0mself\u001b[0m\u001b[1;33m)\u001b[0m \u001b[1;33m->\u001b[0m \u001b[0mstr\u001b[0m\u001b[1;33m:\u001b[0m\u001b[1;33m\u001b[0m\u001b[1;33m\u001b[0m\u001b[0m\n\u001b[0;32m     76\u001b[0m         \u001b[1;34m\"\"\"The text of the element.\"\"\"\u001b[0m\u001b[1;33m\u001b[0m\u001b[1;33m\u001b[0m\u001b[0m\n\u001b[1;32m---> 77\u001b[1;33m         \u001b[1;32mreturn\u001b[0m \u001b[0mself\u001b[0m\u001b[1;33m.\u001b[0m\u001b[0m_execute\u001b[0m\u001b[1;33m(\u001b[0m\u001b[0mCommand\u001b[0m\u001b[1;33m.\u001b[0m\u001b[0mGET_ELEMENT_TEXT\u001b[0m\u001b[1;33m)\u001b[0m\u001b[1;33m[\u001b[0m\u001b[1;34m'value'\u001b[0m\u001b[1;33m]\u001b[0m\u001b[1;33m\u001b[0m\u001b[1;33m\u001b[0m\u001b[0m\n\u001b[0m\u001b[0;32m     78\u001b[0m \u001b[1;33m\u001b[0m\u001b[0m\n\u001b[0;32m     79\u001b[0m     \u001b[1;32mdef\u001b[0m \u001b[0mclick\u001b[0m\u001b[1;33m(\u001b[0m\u001b[0mself\u001b[0m\u001b[1;33m)\u001b[0m \u001b[1;33m->\u001b[0m \u001b[1;32mNone\u001b[0m\u001b[1;33m:\u001b[0m\u001b[1;33m\u001b[0m\u001b[1;33m\u001b[0m\u001b[0m\n",
      "\u001b[1;32m~\\anaconda3\\lib\\site-packages\\selenium\\webdriver\\remote\\webelement.py\u001b[0m in \u001b[0;36m_execute\u001b[1;34m(self, command, params)\u001b[0m\n\u001b[0;32m    708\u001b[0m             \u001b[0mparams\u001b[0m \u001b[1;33m=\u001b[0m \u001b[1;33m{\u001b[0m\u001b[1;33m}\u001b[0m\u001b[1;33m\u001b[0m\u001b[1;33m\u001b[0m\u001b[0m\n\u001b[0;32m    709\u001b[0m         \u001b[0mparams\u001b[0m\u001b[1;33m[\u001b[0m\u001b[1;34m'id'\u001b[0m\u001b[1;33m]\u001b[0m \u001b[1;33m=\u001b[0m \u001b[0mself\u001b[0m\u001b[1;33m.\u001b[0m\u001b[0m_id\u001b[0m\u001b[1;33m\u001b[0m\u001b[1;33m\u001b[0m\u001b[0m\n\u001b[1;32m--> 710\u001b[1;33m         \u001b[1;32mreturn\u001b[0m \u001b[0mself\u001b[0m\u001b[1;33m.\u001b[0m\u001b[0m_parent\u001b[0m\u001b[1;33m.\u001b[0m\u001b[0mexecute\u001b[0m\u001b[1;33m(\u001b[0m\u001b[0mcommand\u001b[0m\u001b[1;33m,\u001b[0m \u001b[0mparams\u001b[0m\u001b[1;33m)\u001b[0m\u001b[1;33m\u001b[0m\u001b[1;33m\u001b[0m\u001b[0m\n\u001b[0m\u001b[0;32m    711\u001b[0m \u001b[1;33m\u001b[0m\u001b[0m\n\u001b[0;32m    712\u001b[0m     \u001b[1;32mdef\u001b[0m \u001b[0mfind_element\u001b[0m\u001b[1;33m(\u001b[0m\u001b[0mself\u001b[0m\u001b[1;33m,\u001b[0m \u001b[0mby\u001b[0m\u001b[1;33m=\u001b[0m\u001b[0mBy\u001b[0m\u001b[1;33m.\u001b[0m\u001b[0mID\u001b[0m\u001b[1;33m,\u001b[0m \u001b[0mvalue\u001b[0m\u001b[1;33m=\u001b[0m\u001b[1;32mNone\u001b[0m\u001b[1;33m)\u001b[0m\u001b[1;33m:\u001b[0m\u001b[1;33m\u001b[0m\u001b[1;33m\u001b[0m\u001b[0m\n",
      "\u001b[1;32m~\\anaconda3\\lib\\site-packages\\selenium\\webdriver\\remote\\webdriver.py\u001b[0m in \u001b[0;36mexecute\u001b[1;34m(self, driver_command, params)\u001b[0m\n\u001b[0;32m    422\u001b[0m         \u001b[0mresponse\u001b[0m \u001b[1;33m=\u001b[0m \u001b[0mself\u001b[0m\u001b[1;33m.\u001b[0m\u001b[0mcommand_executor\u001b[0m\u001b[1;33m.\u001b[0m\u001b[0mexecute\u001b[0m\u001b[1;33m(\u001b[0m\u001b[0mdriver_command\u001b[0m\u001b[1;33m,\u001b[0m \u001b[0mparams\u001b[0m\u001b[1;33m)\u001b[0m\u001b[1;33m\u001b[0m\u001b[1;33m\u001b[0m\u001b[0m\n\u001b[0;32m    423\u001b[0m         \u001b[1;32mif\u001b[0m \u001b[0mresponse\u001b[0m\u001b[1;33m:\u001b[0m\u001b[1;33m\u001b[0m\u001b[1;33m\u001b[0m\u001b[0m\n\u001b[1;32m--> 424\u001b[1;33m             \u001b[0mself\u001b[0m\u001b[1;33m.\u001b[0m\u001b[0merror_handler\u001b[0m\u001b[1;33m.\u001b[0m\u001b[0mcheck_response\u001b[0m\u001b[1;33m(\u001b[0m\u001b[0mresponse\u001b[0m\u001b[1;33m)\u001b[0m\u001b[1;33m\u001b[0m\u001b[1;33m\u001b[0m\u001b[0m\n\u001b[0m\u001b[0;32m    425\u001b[0m             response['value'] = self._unwrap_value(\n\u001b[0;32m    426\u001b[0m                 response.get('value', None))\n",
      "\u001b[1;32m~\\anaconda3\\lib\\site-packages\\selenium\\webdriver\\remote\\errorhandler.py\u001b[0m in \u001b[0;36mcheck_response\u001b[1;34m(self, response)\u001b[0m\n\u001b[0;32m    245\u001b[0m                 \u001b[0malert_text\u001b[0m \u001b[1;33m=\u001b[0m \u001b[0mvalue\u001b[0m\u001b[1;33m[\u001b[0m\u001b[1;34m'alert'\u001b[0m\u001b[1;33m]\u001b[0m\u001b[1;33m.\u001b[0m\u001b[0mget\u001b[0m\u001b[1;33m(\u001b[0m\u001b[1;34m'text'\u001b[0m\u001b[1;33m)\u001b[0m\u001b[1;33m\u001b[0m\u001b[1;33m\u001b[0m\u001b[0m\n\u001b[0;32m    246\u001b[0m             \u001b[1;32mraise\u001b[0m \u001b[0mexception_class\u001b[0m\u001b[1;33m(\u001b[0m\u001b[0mmessage\u001b[0m\u001b[1;33m,\u001b[0m \u001b[0mscreen\u001b[0m\u001b[1;33m,\u001b[0m \u001b[0mstacktrace\u001b[0m\u001b[1;33m,\u001b[0m \u001b[0malert_text\u001b[0m\u001b[1;33m)\u001b[0m  \u001b[1;31m# type: ignore[call-arg]  # mypy is not smart enough here\u001b[0m\u001b[1;33m\u001b[0m\u001b[1;33m\u001b[0m\u001b[0m\n\u001b[1;32m--> 247\u001b[1;33m         \u001b[1;32mraise\u001b[0m \u001b[0mexception_class\u001b[0m\u001b[1;33m(\u001b[0m\u001b[0mmessage\u001b[0m\u001b[1;33m,\u001b[0m \u001b[0mscreen\u001b[0m\u001b[1;33m,\u001b[0m \u001b[0mstacktrace\u001b[0m\u001b[1;33m)\u001b[0m\u001b[1;33m\u001b[0m\u001b[1;33m\u001b[0m\u001b[0m\n\u001b[0m\u001b[0;32m    248\u001b[0m \u001b[1;33m\u001b[0m\u001b[0m\n\u001b[0;32m    249\u001b[0m     \u001b[1;32mdef\u001b[0m \u001b[0m_value_or_default\u001b[0m\u001b[1;33m(\u001b[0m\u001b[0mself\u001b[0m\u001b[1;33m,\u001b[0m \u001b[0mobj\u001b[0m\u001b[1;33m:\u001b[0m \u001b[0mMapping\u001b[0m\u001b[1;33m[\u001b[0m\u001b[0m_KT\u001b[0m\u001b[1;33m,\u001b[0m \u001b[0m_VT\u001b[0m\u001b[1;33m]\u001b[0m\u001b[1;33m,\u001b[0m \u001b[0mkey\u001b[0m\u001b[1;33m:\u001b[0m \u001b[0m_KT\u001b[0m\u001b[1;33m,\u001b[0m \u001b[0mdefault\u001b[0m\u001b[1;33m:\u001b[0m \u001b[0m_VT\u001b[0m\u001b[1;33m)\u001b[0m \u001b[1;33m->\u001b[0m \u001b[0m_VT\u001b[0m\u001b[1;33m:\u001b[0m\u001b[1;33m\u001b[0m\u001b[1;33m\u001b[0m\u001b[0m\n",
      "\u001b[1;31mStaleElementReferenceException\u001b[0m: Message: stale element reference: element is not attached to the page document\n  (Session info: chrome=98.0.4758.102)\nStacktrace:\nBacktrace:\n\tOrdinal0 [0x004B69A3+2582947]\n\tOrdinal0 [0x0044A6D1+2139857]\n\tOrdinal0 [0x00343A98+1063576]\n\tOrdinal0 [0x003462B7+1073847]\n\tOrdinal0 [0x0034617E+1073534]\n\tOrdinal0 [0x003463F0+1074160]\n\tOrdinal0 [0x0036B8E0+1226976]\n\tOrdinal0 [0x0038854C+1344844]\n\tOrdinal0 [0x00366524+1205540]\n\tOrdinal0 [0x003886A4+1345188]\n\tOrdinal0 [0x0039834A+1409866]\n\tOrdinal0 [0x00388366+1344358]\n\tOrdinal0 [0x00365176+1200502]\n\tOrdinal0 [0x00366066+1204326]\n\tGetHandleVerifier [0x0065BE02+1675858]\n\tGetHandleVerifier [0x0071036C+2414524]\n\tGetHandleVerifier [0x0054BB01+560977]\n\tGetHandleVerifier [0x0054A8D3+556323]\n\tOrdinal0 [0x0045020E+2163214]\n\tOrdinal0 [0x00455078+2183288]\n\tOrdinal0 [0x004551C0+2183616]\n\tOrdinal0 [0x0045EE1C+2223644]\n\tBaseThreadInitThunk [0x766CFA29+25]\n\tRtlGetAppContainerNamedObjectPath [0x77B87A9E+286]\n\tRtlGetAppContainerNamedObjectPath [0x77B87A6E+238]\n"
     ]
    }
   ],
   "source": [
    "## Now we will scrape 2nd page from 41- 80.  1. Brand 2. Product Description 3. Price 4. Discount\n",
    "brand_tags = driver.find_elements_by_xpath('//div[@class=\"_2WkVRV\"]')\n",
    "len(brand_tags)\n",
    "\n",
    "brand= []\n",
    "for i in brand_tags:\n",
    "    brand.append(i.text)\n",
    "len('brand')\n",
    "\n",
    "price_tags = driver.find_elements_by_xpath('//div[@class=\"_30jeq3\"]')\n",
    "len(price_tags)\n",
    "\n",
    "price = []\n",
    "for i in price_tags:\n",
    "    price.append(i.text)\n",
    "len('price')\n",
    "\n",
    "product_tags = driver.find_elements_by_xpath('//div[@class=\"_2B099V\"]')\n",
    "len(product_tags)\n",
    "\n",
    "product = []\n",
    "for i in product_tags:\n",
    "    product.append(i.text)\n",
    "len('product')\n"
   ]
  },
  {
   "cell_type": "code",
   "execution_count": null,
   "id": "d47d22e3",
   "metadata": {},
   "outputs": [],
   "source": [
    "## Creating DataFrame:\n",
    "df1 = pd.DataFrame()\n",
    "df1['Brand'] = brand\n",
    "df1['Description'] = product\n",
    "df1['Price'] = price\n",
    "df1"
   ]
  },
  {
   "cell_type": "code",
   "execution_count": null,
   "id": "0b2da98c",
   "metadata": {},
   "outputs": [],
   "source": [
    "## scraping data from 3rd page.\n",
    "next_btn = driver.find_element_by_class_name(\"_1LKTO3\")\n",
    "next_btn \n"
   ]
  },
  {
   "cell_type": "code",
   "execution_count": null,
   "id": "890d0344",
   "metadata": {},
   "outputs": [],
   "source": [
    "next_btn.click()"
   ]
  },
  {
   "cell_type": "code",
   "execution_count": null,
   "id": "fe721328",
   "metadata": {},
   "outputs": [],
   "source": [
    "## Now we will scrape 2nd page from 41- 80.  1. Brand 2. Product Description 3. Price 4. Discount\n",
    "brand_tags = driver.find_elements_by_xpath('//div[@class=\"_2WkVRV\"]')\n",
    "len(brand_tags)\n",
    "\n",
    "brand= []\n",
    "for i in brand_tags:\n",
    "    brand.append(i.text)\n",
    "len('brand')\n",
    "\n",
    "price_tags = driver.find_elements_by_xpath('//div[@class=\"_30jeq3\"]')\n",
    "len(price_tags)\n",
    "\n",
    "price = []\n",
    "for i in price_tags:\n",
    "    price.append(i.text)\n",
    "len('price')\n",
    "\n",
    "product_tags = driver.find_elements_by_xpath('//div[@class=\"_2B099V\" ]')\n",
    "len(product_tags)\n",
    "\n",
    "product = []\n",
    "for i in product_tags:\n",
    "    product.append(i.text)\n",
    "len('product')\n"
   ]
  },
  {
   "cell_type": "code",
   "execution_count": null,
   "id": "54de1290",
   "metadata": {},
   "outputs": [],
   "source": [
    "## Creating DataFrame:\n",
    "df2 = pd.DataFrame()\n",
    "df2['Brand'] = brand\n",
    "df2['Description'] = product\n",
    "df2['Price'] = price\n",
    "df2"
   ]
  },
  {
   "cell_type": "code",
   "execution_count": 99,
   "id": "58c328b7",
   "metadata": {},
   "outputs": [
    {
     "data": {
      "text/html": [
       "<div>\n",
       "<style scoped>\n",
       "    .dataframe tbody tr th:only-of-type {\n",
       "        vertical-align: middle;\n",
       "    }\n",
       "\n",
       "    .dataframe tbody tr th {\n",
       "        vertical-align: top;\n",
       "    }\n",
       "\n",
       "    .dataframe thead th {\n",
       "        text-align: right;\n",
       "    }\n",
       "</style>\n",
       "<table border=\"1\" class=\"dataframe\">\n",
       "  <thead>\n",
       "    <tr style=\"text-align: right;\">\n",
       "      <th></th>\n",
       "      <th>Brand</th>\n",
       "      <th>Description</th>\n",
       "      <th>Price</th>\n",
       "    </tr>\n",
       "  </thead>\n",
       "  <tbody>\n",
       "    <tr>\n",
       "      <th>0</th>\n",
       "      <td>Echor</td>\n",
       "      <td>Echor\\nMen's casual shoe Black sneaker shoe fo...</td>\n",
       "      <td>₹449₹1,49970% off</td>\n",
       "    </tr>\n",
       "    <tr>\n",
       "      <th>1</th>\n",
       "      <td>BRUTON</td>\n",
       "      <td>BRUTON\\nCombo Pack Of 3 Latest Casual Shoes Sn...</td>\n",
       "      <td>₹423₹2,99985% off</td>\n",
       "    </tr>\n",
       "    <tr>\n",
       "      <th>2</th>\n",
       "      <td>BRUTON</td>\n",
       "      <td>BRUTON\\nModern Trendy Sneakers Shoes Sneakers ...</td>\n",
       "      <td>₹209₹1,29983% off</td>\n",
       "    </tr>\n",
       "    <tr>\n",
       "      <th>3</th>\n",
       "      <td>Elevarse</td>\n",
       "      <td>Elevarse\\nSneakers For Men\\n₹299₹99970% off</td>\n",
       "      <td>₹299₹99970% off</td>\n",
       "    </tr>\n",
       "    <tr>\n",
       "      <th>4</th>\n",
       "      <td>BRUTON</td>\n",
       "      <td>BRUTON\\nCombo Pack Of 4 Casual Shoes Loafer Sh...</td>\n",
       "      <td>₹449₹3,49987% off</td>\n",
       "    </tr>\n",
       "    <tr>\n",
       "      <th>...</th>\n",
       "      <td>...</td>\n",
       "      <td>...</td>\n",
       "      <td>...</td>\n",
       "    </tr>\n",
       "    <tr>\n",
       "      <th>15</th>\n",
       "      <td>Strollin</td>\n",
       "      <td>Strollin\\nSneakers For Men\\n₹348₹99965% off</td>\n",
       "      <td>₹348</td>\n",
       "    </tr>\n",
       "    <tr>\n",
       "      <th>16</th>\n",
       "      <td>SCATCHITE</td>\n",
       "      <td>SCATCHITE\\nSneakers Sneakers For Men\\n₹327₹999...</td>\n",
       "      <td>₹327</td>\n",
       "    </tr>\n",
       "    <tr>\n",
       "      <th>17</th>\n",
       "      <td>World Wear Footwear</td>\n",
       "      <td>World Wear Footwear\\nSneakers For Men\\n₹199₹49...</td>\n",
       "      <td>₹199</td>\n",
       "    </tr>\n",
       "    <tr>\n",
       "      <th>18</th>\n",
       "      <td>Chevit</td>\n",
       "      <td>Chevit\\nSuper Stylish &amp; Trendy Combo Pack of 0...</td>\n",
       "      <td>₹599</td>\n",
       "    </tr>\n",
       "    <tr>\n",
       "      <th>19</th>\n",
       "      <td>Airland</td>\n",
       "      <td>Airland\\nsneaker men red 1258 - 8 Sneakers For...</td>\n",
       "      <td>₹188</td>\n",
       "    </tr>\n",
       "  </tbody>\n",
       "</table>\n",
       "<p>100 rows × 3 columns</p>\n",
       "</div>"
      ],
      "text/plain": [
       "                  Brand                                        Description  \\\n",
       "0                 Echor  Echor\\nMen's casual shoe Black sneaker shoe fo...   \n",
       "1                BRUTON  BRUTON\\nCombo Pack Of 3 Latest Casual Shoes Sn...   \n",
       "2                BRUTON  BRUTON\\nModern Trendy Sneakers Shoes Sneakers ...   \n",
       "3              Elevarse        Elevarse\\nSneakers For Men\\n₹299₹99970% off   \n",
       "4                BRUTON  BRUTON\\nCombo Pack Of 4 Casual Shoes Loafer Sh...   \n",
       "..                  ...                                                ...   \n",
       "15             Strollin        Strollin\\nSneakers For Men\\n₹348₹99965% off   \n",
       "16            SCATCHITE  SCATCHITE\\nSneakers Sneakers For Men\\n₹327₹999...   \n",
       "17  World Wear Footwear  World Wear Footwear\\nSneakers For Men\\n₹199₹49...   \n",
       "18               Chevit  Chevit\\nSuper Stylish & Trendy Combo Pack of 0...   \n",
       "19              Airland  Airland\\nsneaker men red 1258 - 8 Sneakers For...   \n",
       "\n",
       "                Price  \n",
       "0   ₹449₹1,49970% off  \n",
       "1   ₹423₹2,99985% off  \n",
       "2   ₹209₹1,29983% off  \n",
       "3     ₹299₹99970% off  \n",
       "4   ₹449₹3,49987% off  \n",
       "..                ...  \n",
       "15               ₹348  \n",
       "16               ₹327  \n",
       "17               ₹199  \n",
       "18               ₹599  \n",
       "19               ₹188  \n",
       "\n",
       "[100 rows x 3 columns]"
      ]
     },
     "execution_count": 99,
     "metadata": {},
     "output_type": "execute_result"
    }
   ],
   "source": [
    "## now we will merge all the 3 dataframes and create one dataframe with 100 Sunglasses details.\n",
    "df3 = pd.concat([df, df1, df2], axis=0)\n",
    "df3.head(100)"
   ]
  },
  {
   "cell_type": "markdown",
   "id": "4b365e68",
   "metadata": {},
   "source": [
    "#### 7) Go to the link - https://www.myntra.com/shoes\n",
    "Set Price filter to “Rs. 7149 to Rs. 14099 ” , Color filter to “Black”, as shown inthe below image.\n",
    "And then scrape First 100 shoes data you get. The data should include “Brand” of the shoes , Short Shoe\n",
    "description, price of the shoe as shown in the below image."
   ]
  },
  {
   "cell_type": "code",
   "execution_count": 100,
   "id": "52721943",
   "metadata": {},
   "outputs": [],
   "source": [
    "import selenium\n",
    "from selenium import webdriver\n",
    "import pandas as pd\n",
    "import warnings\n",
    "warnings.filterwarnings(\"ignore\")\n",
    "\n",
    "from selenium import webdriver\n",
    "driver=webdriver.Chrome(r'C:\\Users\\kunda\\OneDrive\\Desktop\\chromedriver.exe')"
   ]
  },
  {
   "cell_type": "code",
   "execution_count": 101,
   "id": "bebc063f",
   "metadata": {},
   "outputs": [],
   "source": [
    "url = \"https://www.myntra.com/shoes\"\n",
    "driver.get(url)"
   ]
  },
  {
   "cell_type": "code",
   "execution_count": 102,
   "id": "23d9a78b",
   "metadata": {},
   "outputs": [
    {
     "data": {
      "text/plain": [
       "5"
      ]
     },
     "execution_count": 102,
     "metadata": {},
     "output_type": "execute_result"
    }
   ],
   "source": [
    "## Now we will scrape 100 shoes data  1. Brand 2.Description 3. Price\n",
    "brand_tags = driver.find_elements_by_xpath('//h3[@class=\"product-brand\"]')\n",
    "len(brand_tags)\n",
    "\n",
    "brand= []\n",
    "for i in brand_tags:\n",
    "    brand.append(i.text)\n",
    "len('brand')\n"
   ]
  },
  {
   "cell_type": "code",
   "execution_count": 103,
   "id": "e76fb75b",
   "metadata": {},
   "outputs": [
    {
     "data": {
      "text/plain": [
       "11"
      ]
     },
     "execution_count": 103,
     "metadata": {},
     "output_type": "execute_result"
    }
   ],
   "source": [
    "\n",
    "price_tags = driver.find_elements_by_xpath('//div[@class=\"product-price\"]')\n",
    "len(price_tags)\n",
    "\n",
    "price = []\n",
    "for i in price_tags:\n",
    "    price.append(i.text)\n",
    "len('price')\n",
    "\n",
    "description_tags = driver.find_elements_by_xpath('//h4[@class=\"product-product\"]')\n",
    "len(description_tags)\n",
    "\n",
    "description = []\n",
    "for i in description_tags:\n",
    "    description.append(i.text)\n",
    "len('description')\n"
   ]
  },
  {
   "cell_type": "code",
   "execution_count": 104,
   "id": "24b27e0f",
   "metadata": {},
   "outputs": [
    {
     "data": {
      "text/html": [
       "<div>\n",
       "<style scoped>\n",
       "    .dataframe tbody tr th:only-of-type {\n",
       "        vertical-align: middle;\n",
       "    }\n",
       "\n",
       "    .dataframe tbody tr th {\n",
       "        vertical-align: top;\n",
       "    }\n",
       "\n",
       "    .dataframe thead th {\n",
       "        text-align: right;\n",
       "    }\n",
       "</style>\n",
       "<table border=\"1\" class=\"dataframe\">\n",
       "  <thead>\n",
       "    <tr style=\"text-align: right;\">\n",
       "      <th></th>\n",
       "      <th>Brand</th>\n",
       "      <th>Description</th>\n",
       "      <th>Price</th>\n",
       "    </tr>\n",
       "  </thead>\n",
       "  <tbody>\n",
       "    <tr>\n",
       "      <th>0</th>\n",
       "      <td>U.S. Polo Assn.</td>\n",
       "      <td>Men Sneakers</td>\n",
       "      <td>Rs. 1949Rs. 2999(35% OFF)</td>\n",
       "    </tr>\n",
       "    <tr>\n",
       "      <th>1</th>\n",
       "      <td>Nike</td>\n",
       "      <td>Men Downshifter 10 Running</td>\n",
       "      <td>Rs. 3595Rs. 3995(10% OFF)</td>\n",
       "    </tr>\n",
       "    <tr>\n",
       "      <th>2</th>\n",
       "      <td>Newfeel By Decathlon</td>\n",
       "      <td>Men Walking Shoes</td>\n",
       "      <td>Rs. 899</td>\n",
       "    </tr>\n",
       "    <tr>\n",
       "      <th>3</th>\n",
       "      <td>Roadster</td>\n",
       "      <td>Men Suede Finish Sneakers</td>\n",
       "      <td>Rs. 1154Rs. 3299(65% OFF)</td>\n",
       "    </tr>\n",
       "    <tr>\n",
       "      <th>4</th>\n",
       "      <td>Red Tape</td>\n",
       "      <td>Men Walking Shoes</td>\n",
       "      <td>Rs. 1469Rs. 4899(70% OFF)</td>\n",
       "    </tr>\n",
       "    <tr>\n",
       "      <th>5</th>\n",
       "      <td>Mactree</td>\n",
       "      <td>Men Suede Loafers</td>\n",
       "      <td>Rs. 898Rs. 4490(80% OFF)</td>\n",
       "    </tr>\n",
       "    <tr>\n",
       "      <th>6</th>\n",
       "      <td>HIGHLANDER</td>\n",
       "      <td>Men Sneakers</td>\n",
       "      <td>Rs. 995Rs. 1990(50% OFF)</td>\n",
       "    </tr>\n",
       "    <tr>\n",
       "      <th>7</th>\n",
       "      <td>HRX by Hrithik Roshan</td>\n",
       "      <td>Men Running Shoes</td>\n",
       "      <td>Rs. 2499Rs. 4999(50% OFF)</td>\n",
       "    </tr>\n",
       "    <tr>\n",
       "      <th>8</th>\n",
       "      <td>Nike</td>\n",
       "      <td>Men Running Shoes</td>\n",
       "      <td>Rs. 7645Rs. 8495(10% OFF)</td>\n",
       "    </tr>\n",
       "    <tr>\n",
       "      <th>9</th>\n",
       "      <td>HRX by Hrithik Roshan</td>\n",
       "      <td>Women Running Shoes</td>\n",
       "      <td>Rs. 1639Rs. 4099(60% OFF)</td>\n",
       "    </tr>\n",
       "    <tr>\n",
       "      <th>10</th>\n",
       "      <td>U.S. Polo Assn.</td>\n",
       "      <td>Men LEBRON 2.0 Walking Shoes</td>\n",
       "      <td>Rs. 2159Rs. 3999(46% OFF)</td>\n",
       "    </tr>\n",
       "    <tr>\n",
       "      <th>11</th>\n",
       "      <td>ALDO</td>\n",
       "      <td>Men Leather Driving Shoes</td>\n",
       "      <td>Rs. 12999</td>\n",
       "    </tr>\n",
       "    <tr>\n",
       "      <th>12</th>\n",
       "      <td>Roadster</td>\n",
       "      <td>Men Sneakers</td>\n",
       "      <td>Rs. 872Rs. 3795(77% OFF)</td>\n",
       "    </tr>\n",
       "    <tr>\n",
       "      <th>13</th>\n",
       "      <td>HIGHLANDER</td>\n",
       "      <td>Men Woven Design Sneakers</td>\n",
       "      <td>Rs. 658Rs. 1198(45% OFF)</td>\n",
       "    </tr>\n",
       "    <tr>\n",
       "      <th>14</th>\n",
       "      <td>TWIN TOES</td>\n",
       "      <td>Women Colourblocked Sneakers</td>\n",
       "      <td>Rs. 799Rs. 999(20% OFF)</td>\n",
       "    </tr>\n",
       "    <tr>\n",
       "      <th>15</th>\n",
       "      <td>HRX by Hrithik Roshan</td>\n",
       "      <td>Men Propulsion Running Shoes</td>\n",
       "      <td>Rs. 4199Rs. 6999(40% OFF)</td>\n",
       "    </tr>\n",
       "    <tr>\n",
       "      <th>16</th>\n",
       "      <td>Puma</td>\n",
       "      <td>Women Platinum Training Shoes</td>\n",
       "      <td>Rs. 2749Rs. 4999(45% OFF)</td>\n",
       "    </tr>\n",
       "    <tr>\n",
       "      <th>17</th>\n",
       "      <td>U.S. Polo Assn.</td>\n",
       "      <td>Men Solid Sneakers</td>\n",
       "      <td>Rs. 2099Rs. 2999(30% OFF)</td>\n",
       "    </tr>\n",
       "    <tr>\n",
       "      <th>18</th>\n",
       "      <td>MENGLER</td>\n",
       "      <td>Men Walking Shoes</td>\n",
       "      <td>Rs. 799Rs. 3999(80% OFF)</td>\n",
       "    </tr>\n",
       "    <tr>\n",
       "      <th>19</th>\n",
       "      <td>U.S. Polo Assn.</td>\n",
       "      <td>Men LEBRON 2.0 Walking Shoes</td>\n",
       "      <td>Rs. 2399Rs. 3999(40% OFF)</td>\n",
       "    </tr>\n",
       "    <tr>\n",
       "      <th>20</th>\n",
       "      <td>Red Tape</td>\n",
       "      <td>Men Walking Shoes</td>\n",
       "      <td>Rs. 1679Rs. 5599(70% OFF)</td>\n",
       "    </tr>\n",
       "    <tr>\n",
       "      <th>21</th>\n",
       "      <td>HRX by Hrithik Roshan</td>\n",
       "      <td>Men Chunky Sneakers</td>\n",
       "      <td>Rs. 2804Rs. 5099(45% OFF)</td>\n",
       "    </tr>\n",
       "    <tr>\n",
       "      <th>22</th>\n",
       "      <td>HIGHLANDER</td>\n",
       "      <td>Men Sneakers</td>\n",
       "      <td>Rs. 995Rs. 1990(50% OFF)</td>\n",
       "    </tr>\n",
       "    <tr>\n",
       "      <th>23</th>\n",
       "      <td>Nike</td>\n",
       "      <td>Men Flex Control Training</td>\n",
       "      <td>Rs. 4945Rs. 5495(10% OFF)</td>\n",
       "    </tr>\n",
       "    <tr>\n",
       "      <th>24</th>\n",
       "      <td>Reebok</td>\n",
       "      <td>Men Voyager 1.0 Running Shoes</td>\n",
       "      <td>Rs. 1724Rs. 2299(25% OFF)</td>\n",
       "    </tr>\n",
       "    <tr>\n",
       "      <th>25</th>\n",
       "      <td>Puma</td>\n",
       "      <td>Men Corode IDP Running Shoes</td>\n",
       "      <td>Rs. 1999Rs. 3999(50% OFF)</td>\n",
       "    </tr>\n",
       "    <tr>\n",
       "      <th>26</th>\n",
       "      <td>Roadster</td>\n",
       "      <td>Men Sneakers</td>\n",
       "      <td>Rs. 1499Rs. 2999(50% OFF)</td>\n",
       "    </tr>\n",
       "    <tr>\n",
       "      <th>27</th>\n",
       "      <td>Red Tape</td>\n",
       "      <td>Women Walking Shoes</td>\n",
       "      <td>Rs. 1679Rs. 5599(70% OFF)</td>\n",
       "    </tr>\n",
       "    <tr>\n",
       "      <th>28</th>\n",
       "      <td>Red Tape</td>\n",
       "      <td>Men Walking Shoes</td>\n",
       "      <td>Rs. 1679Rs. 5599(70% OFF)</td>\n",
       "    </tr>\n",
       "    <tr>\n",
       "      <th>29</th>\n",
       "      <td>Campus</td>\n",
       "      <td>Mesh Running Shoes</td>\n",
       "      <td>Rs. 1049</td>\n",
       "    </tr>\n",
       "    <tr>\n",
       "      <th>30</th>\n",
       "      <td>Nike</td>\n",
       "      <td>LEGEND ESSENTIAL Training Shoe</td>\n",
       "      <td>Rs. 3820Rs. 4495(15% OFF)</td>\n",
       "    </tr>\n",
       "    <tr>\n",
       "      <th>31</th>\n",
       "      <td>Sparx</td>\n",
       "      <td>Men Running Shoes</td>\n",
       "      <td>Rs. 1111Rs. 1249(11% OFF)</td>\n",
       "    </tr>\n",
       "    <tr>\n",
       "      <th>32</th>\n",
       "      <td>Red Tape</td>\n",
       "      <td>Men Walking Shoes</td>\n",
       "      <td>Rs. 1739Rs. 5799(70% OFF)</td>\n",
       "    </tr>\n",
       "    <tr>\n",
       "      <th>33</th>\n",
       "      <td>U.S. Polo Assn.</td>\n",
       "      <td>Men Textured Loafers</td>\n",
       "      <td>Rs. 2159Rs. 3599(40% OFF)</td>\n",
       "    </tr>\n",
       "    <tr>\n",
       "      <th>34</th>\n",
       "      <td>Alishtezia</td>\n",
       "      <td>Women Colourblocked PU Sneakers</td>\n",
       "      <td>Rs. 799Rs. 1599(50% OFF)</td>\n",
       "    </tr>\n",
       "    <tr>\n",
       "      <th>35</th>\n",
       "      <td>ALBERTO MORENO</td>\n",
       "      <td>Men Perforations Loafers</td>\n",
       "      <td>Rs. 899Rs. 2999(Rs. 2100 OFF)</td>\n",
       "    </tr>\n",
       "    <tr>\n",
       "      <th>36</th>\n",
       "      <td>Newfeel By Decathlon</td>\n",
       "      <td>Women Walking Shoes</td>\n",
       "      <td>Rs. 899</td>\n",
       "    </tr>\n",
       "    <tr>\n",
       "      <th>37</th>\n",
       "      <td>Nike</td>\n",
       "      <td>Women RIR FK2 PR Running Shoes</td>\n",
       "      <td>Rs. 13170Rs. 15495(15% OFF)</td>\n",
       "    </tr>\n",
       "    <tr>\n",
       "      <th>38</th>\n",
       "      <td>HIGHLANDER</td>\n",
       "      <td>Men Solid Sneakers</td>\n",
       "      <td>Rs. 995Rs. 1990(50% OFF)</td>\n",
       "    </tr>\n",
       "    <tr>\n",
       "      <th>39</th>\n",
       "      <td>Campus</td>\n",
       "      <td>BARLEY Black Running Shoes</td>\n",
       "      <td>Rs. 1039Rs. 1299(20% OFF)</td>\n",
       "    </tr>\n",
       "    <tr>\n",
       "      <th>40</th>\n",
       "      <td>Red Tape</td>\n",
       "      <td>Men Colourblocked Sneakers</td>\n",
       "      <td>Rs. 1499Rs. 4999(70% OFF)</td>\n",
       "    </tr>\n",
       "    <tr>\n",
       "      <th>41</th>\n",
       "      <td>Eego Italy</td>\n",
       "      <td>Men Trekking Shoes</td>\n",
       "      <td>Rs. 999Rs. 2599(Rs. 1600 OFF)</td>\n",
       "    </tr>\n",
       "    <tr>\n",
       "      <th>42</th>\n",
       "      <td>Puma</td>\n",
       "      <td>Men Sneakers</td>\n",
       "      <td>Rs. 2149Rs. 4299(50% OFF)</td>\n",
       "    </tr>\n",
       "    <tr>\n",
       "      <th>43</th>\n",
       "      <td>HIGHLANDER</td>\n",
       "      <td>Men Solid Leather Sneakers</td>\n",
       "      <td>Rs. 995Rs. 1990(50% OFF)</td>\n",
       "    </tr>\n",
       "    <tr>\n",
       "      <th>44</th>\n",
       "      <td>DEAS</td>\n",
       "      <td>Women Mules Flats</td>\n",
       "      <td>Rs. 599Rs. 999(40% OFF)</td>\n",
       "    </tr>\n",
       "    <tr>\n",
       "      <th>45</th>\n",
       "      <td>DressBerry</td>\n",
       "      <td>Women T-Strap Flats</td>\n",
       "      <td>Rs. 629Rs. 1799(65% OFF)</td>\n",
       "    </tr>\n",
       "    <tr>\n",
       "      <th>46</th>\n",
       "      <td>AfroJack</td>\n",
       "      <td>Men Woven Design Sneakers</td>\n",
       "      <td>Rs. 799Rs. 3995(80% OFF)</td>\n",
       "    </tr>\n",
       "    <tr>\n",
       "      <th>47</th>\n",
       "      <td>Red Tape</td>\n",
       "      <td>Men Chelsea Flat Boots</td>\n",
       "      <td>Rs. 2189Rs. 7299(70% OFF)</td>\n",
       "    </tr>\n",
       "    <tr>\n",
       "      <th>48</th>\n",
       "      <td>HRX by Hrithik Roshan</td>\n",
       "      <td>Men Urban Outdoor Running Shoe</td>\n",
       "      <td>Rs. 2749Rs. 5499(50% OFF)</td>\n",
       "    </tr>\n",
       "    <tr>\n",
       "      <th>49</th>\n",
       "      <td>TWIN TOES</td>\n",
       "      <td>Women Solid Sneakers</td>\n",
       "      <td>Rs. 599Rs. 999(40% OFF)</td>\n",
       "    </tr>\n",
       "  </tbody>\n",
       "</table>\n",
       "</div>"
      ],
      "text/plain": [
       "                    Brand                      Description  \\\n",
       "0         U.S. Polo Assn.                     Men Sneakers   \n",
       "1                    Nike       Men Downshifter 10 Running   \n",
       "2    Newfeel By Decathlon                Men Walking Shoes   \n",
       "3                Roadster        Men Suede Finish Sneakers   \n",
       "4                Red Tape                Men Walking Shoes   \n",
       "5                 Mactree                Men Suede Loafers   \n",
       "6              HIGHLANDER                     Men Sneakers   \n",
       "7   HRX by Hrithik Roshan                Men Running Shoes   \n",
       "8                    Nike                Men Running Shoes   \n",
       "9   HRX by Hrithik Roshan              Women Running Shoes   \n",
       "10        U.S. Polo Assn.     Men LEBRON 2.0 Walking Shoes   \n",
       "11                   ALDO        Men Leather Driving Shoes   \n",
       "12               Roadster                     Men Sneakers   \n",
       "13             HIGHLANDER        Men Woven Design Sneakers   \n",
       "14              TWIN TOES     Women Colourblocked Sneakers   \n",
       "15  HRX by Hrithik Roshan     Men Propulsion Running Shoes   \n",
       "16                   Puma    Women Platinum Training Shoes   \n",
       "17        U.S. Polo Assn.               Men Solid Sneakers   \n",
       "18                MENGLER                Men Walking Shoes   \n",
       "19        U.S. Polo Assn.     Men LEBRON 2.0 Walking Shoes   \n",
       "20               Red Tape                Men Walking Shoes   \n",
       "21  HRX by Hrithik Roshan              Men Chunky Sneakers   \n",
       "22             HIGHLANDER                     Men Sneakers   \n",
       "23                   Nike        Men Flex Control Training   \n",
       "24                 Reebok    Men Voyager 1.0 Running Shoes   \n",
       "25                   Puma     Men Corode IDP Running Shoes   \n",
       "26               Roadster                     Men Sneakers   \n",
       "27               Red Tape              Women Walking Shoes   \n",
       "28               Red Tape                Men Walking Shoes   \n",
       "29                 Campus               Mesh Running Shoes   \n",
       "30                   Nike   LEGEND ESSENTIAL Training Shoe   \n",
       "31                  Sparx                Men Running Shoes   \n",
       "32               Red Tape                Men Walking Shoes   \n",
       "33        U.S. Polo Assn.             Men Textured Loafers   \n",
       "34             Alishtezia  Women Colourblocked PU Sneakers   \n",
       "35         ALBERTO MORENO         Men Perforations Loafers   \n",
       "36   Newfeel By Decathlon              Women Walking Shoes   \n",
       "37                   Nike   Women RIR FK2 PR Running Shoes   \n",
       "38             HIGHLANDER               Men Solid Sneakers   \n",
       "39                 Campus       BARLEY Black Running Shoes   \n",
       "40               Red Tape       Men Colourblocked Sneakers   \n",
       "41             Eego Italy               Men Trekking Shoes   \n",
       "42                   Puma                     Men Sneakers   \n",
       "43             HIGHLANDER       Men Solid Leather Sneakers   \n",
       "44                   DEAS                Women Mules Flats   \n",
       "45             DressBerry              Women T-Strap Flats   \n",
       "46               AfroJack        Men Woven Design Sneakers   \n",
       "47               Red Tape           Men Chelsea Flat Boots   \n",
       "48  HRX by Hrithik Roshan   Men Urban Outdoor Running Shoe   \n",
       "49              TWIN TOES             Women Solid Sneakers   \n",
       "\n",
       "                            Price  \n",
       "0       Rs. 1949Rs. 2999(35% OFF)  \n",
       "1       Rs. 3595Rs. 3995(10% OFF)  \n",
       "2                         Rs. 899  \n",
       "3       Rs. 1154Rs. 3299(65% OFF)  \n",
       "4       Rs. 1469Rs. 4899(70% OFF)  \n",
       "5        Rs. 898Rs. 4490(80% OFF)  \n",
       "6        Rs. 995Rs. 1990(50% OFF)  \n",
       "7       Rs. 2499Rs. 4999(50% OFF)  \n",
       "8       Rs. 7645Rs. 8495(10% OFF)  \n",
       "9       Rs. 1639Rs. 4099(60% OFF)  \n",
       "10      Rs. 2159Rs. 3999(46% OFF)  \n",
       "11                      Rs. 12999  \n",
       "12       Rs. 872Rs. 3795(77% OFF)  \n",
       "13       Rs. 658Rs. 1198(45% OFF)  \n",
       "14        Rs. 799Rs. 999(20% OFF)  \n",
       "15      Rs. 4199Rs. 6999(40% OFF)  \n",
       "16      Rs. 2749Rs. 4999(45% OFF)  \n",
       "17      Rs. 2099Rs. 2999(30% OFF)  \n",
       "18       Rs. 799Rs. 3999(80% OFF)  \n",
       "19      Rs. 2399Rs. 3999(40% OFF)  \n",
       "20      Rs. 1679Rs. 5599(70% OFF)  \n",
       "21      Rs. 2804Rs. 5099(45% OFF)  \n",
       "22       Rs. 995Rs. 1990(50% OFF)  \n",
       "23      Rs. 4945Rs. 5495(10% OFF)  \n",
       "24      Rs. 1724Rs. 2299(25% OFF)  \n",
       "25      Rs. 1999Rs. 3999(50% OFF)  \n",
       "26      Rs. 1499Rs. 2999(50% OFF)  \n",
       "27      Rs. 1679Rs. 5599(70% OFF)  \n",
       "28      Rs. 1679Rs. 5599(70% OFF)  \n",
       "29                       Rs. 1049  \n",
       "30      Rs. 3820Rs. 4495(15% OFF)  \n",
       "31      Rs. 1111Rs. 1249(11% OFF)  \n",
       "32      Rs. 1739Rs. 5799(70% OFF)  \n",
       "33      Rs. 2159Rs. 3599(40% OFF)  \n",
       "34       Rs. 799Rs. 1599(50% OFF)  \n",
       "35  Rs. 899Rs. 2999(Rs. 2100 OFF)  \n",
       "36                        Rs. 899  \n",
       "37    Rs. 13170Rs. 15495(15% OFF)  \n",
       "38       Rs. 995Rs. 1990(50% OFF)  \n",
       "39      Rs. 1039Rs. 1299(20% OFF)  \n",
       "40      Rs. 1499Rs. 4999(70% OFF)  \n",
       "41  Rs. 999Rs. 2599(Rs. 1600 OFF)  \n",
       "42      Rs. 2149Rs. 4299(50% OFF)  \n",
       "43       Rs. 995Rs. 1990(50% OFF)  \n",
       "44        Rs. 599Rs. 999(40% OFF)  \n",
       "45       Rs. 629Rs. 1799(65% OFF)  \n",
       "46       Rs. 799Rs. 3995(80% OFF)  \n",
       "47      Rs. 2189Rs. 7299(70% OFF)  \n",
       "48      Rs. 2749Rs. 5499(50% OFF)  \n",
       "49        Rs. 599Rs. 999(40% OFF)  "
      ]
     },
     "execution_count": 104,
     "metadata": {},
     "output_type": "execute_result"
    }
   ],
   "source": [
    "## Creating DataFrame:\n",
    "df = pd.DataFrame()\n",
    "df['Brand'] = brand\n",
    "df['Description'] = description\n",
    "df['Price'] = price\n",
    "df"
   ]
  },
  {
   "cell_type": "code",
   "execution_count": 108,
   "id": "38980285",
   "metadata": {},
   "outputs": [
    {
     "data": {
      "text/plain": [
       "<selenium.webdriver.remote.webelement.WebElement (session=\"b69a36b90da0ceaa6ed391fad418780a\", element=\"7d3ada46-e7b4-4e2c-999e-c1e88b65493d\")>"
      ]
     },
     "execution_count": 108,
     "metadata": {},
     "output_type": "execute_result"
    }
   ],
   "source": [
    "## scraping data from 2nd page.from 51 to 100. \n",
    "next_btn = driver.find_element_by_class_name(\"pagination-next\")\n",
    "next_btn "
   ]
  },
  {
   "cell_type": "code",
   "execution_count": 109,
   "id": "b267b42a",
   "metadata": {},
   "outputs": [],
   "source": [
    "next_btn.click()"
   ]
  },
  {
   "cell_type": "code",
   "execution_count": 110,
   "id": "34b893ce",
   "metadata": {},
   "outputs": [
    {
     "data": {
      "text/plain": [
       "11"
      ]
     },
     "execution_count": 110,
     "metadata": {},
     "output_type": "execute_result"
    }
   ],
   "source": [
    "brand_tags = driver.find_elements_by_xpath('//h3[@class=\"product-brand\"]')\n",
    "len(brand_tags)\n",
    "\n",
    "brand= []\n",
    "for i in brand_tags:\n",
    "    brand.append(i.text)\n",
    "len('brand')\n",
    "\n",
    "price_tags = driver.find_elements_by_xpath('//div[@class=\"product-price\"]')\n",
    "len(price_tags)\n",
    "\n",
    "price = []\n",
    "for i in price_tags:\n",
    "    price.append(i.text)\n",
    "len('price')\n",
    "\n",
    "description_tags = driver.find_elements_by_xpath('//h4[@class=\"product-product\"]')\n",
    "len(description_tags)\n",
    "\n",
    "description = []\n",
    "for i in description_tags:\n",
    "    description.append(i.text)\n",
    "len('description')\n",
    "\n"
   ]
  },
  {
   "cell_type": "code",
   "execution_count": 111,
   "id": "e517168f",
   "metadata": {},
   "outputs": [
    {
     "data": {
      "text/html": [
       "<div>\n",
       "<style scoped>\n",
       "    .dataframe tbody tr th:only-of-type {\n",
       "        vertical-align: middle;\n",
       "    }\n",
       "\n",
       "    .dataframe tbody tr th {\n",
       "        vertical-align: top;\n",
       "    }\n",
       "\n",
       "    .dataframe thead th {\n",
       "        text-align: right;\n",
       "    }\n",
       "</style>\n",
       "<table border=\"1\" class=\"dataframe\">\n",
       "  <thead>\n",
       "    <tr style=\"text-align: right;\">\n",
       "      <th></th>\n",
       "      <th>Brand</th>\n",
       "      <th>Description</th>\n",
       "      <th>Price</th>\n",
       "    </tr>\n",
       "  </thead>\n",
       "  <tbody>\n",
       "    <tr>\n",
       "      <th>0</th>\n",
       "      <td>Reebok</td>\n",
       "      <td>Men Ultrafit Running Shoes</td>\n",
       "      <td>Rs. 3199Rs. 3999(20% OFF)</td>\n",
       "    </tr>\n",
       "    <tr>\n",
       "      <th>1</th>\n",
       "      <td>HRX by Hrithik Roshan</td>\n",
       "      <td></td>\n",
       "      <td>Rs. 1679Rs. 4799(65% OFF)</td>\n",
       "    </tr>\n",
       "    <tr>\n",
       "      <th>2</th>\n",
       "      <td>HIGHLANDER</td>\n",
       "      <td>Men Solid Sneakers</td>\n",
       "      <td>Rs. 995Rs. 1990(50% OFF)</td>\n",
       "    </tr>\n",
       "    <tr>\n",
       "      <th>3</th>\n",
       "      <td>Campus</td>\n",
       "      <td>Men Running Shoes</td>\n",
       "      <td>Rs. 1709Rs. 1799(5% OFF)</td>\n",
       "    </tr>\n",
       "    <tr>\n",
       "      <th>4</th>\n",
       "      <td>Sir Corbett</td>\n",
       "      <td>Semi-Formal Shoes</td>\n",
       "      <td>Rs. 914Rs. 3049(70% OFF)</td>\n",
       "    </tr>\n",
       "    <tr>\n",
       "      <th>5</th>\n",
       "      <td>mr.wonker</td>\n",
       "      <td>Men Running Shoes</td>\n",
       "      <td>Rs. 739Rs. 3699(80% OFF)</td>\n",
       "    </tr>\n",
       "    <tr>\n",
       "      <th>6</th>\n",
       "      <td>Nike</td>\n",
       "      <td>Men QUEST 3 Running Shoes</td>\n",
       "      <td>Rs. 5095Rs. 5995(15% OFF)</td>\n",
       "    </tr>\n",
       "    <tr>\n",
       "      <th>7</th>\n",
       "      <td>HRX by Hrithik Roshan</td>\n",
       "      <td>Men Woven Design Fly Sneakers</td>\n",
       "      <td>Rs. 1399Rs. 3499(60% OFF)</td>\n",
       "    </tr>\n",
       "    <tr>\n",
       "      <th>8</th>\n",
       "      <td>INVICTUS</td>\n",
       "      <td>Men Solid Formal Oxford Shoes</td>\n",
       "      <td>Rs. 868Rs. 2995(71% OFF)</td>\n",
       "    </tr>\n",
       "    <tr>\n",
       "      <th>9</th>\n",
       "      <td>Roadster</td>\n",
       "      <td>Men Solid Sneakers</td>\n",
       "      <td>Rs. 1349Rs. 2999(55% OFF)</td>\n",
       "    </tr>\n",
       "    <tr>\n",
       "      <th>10</th>\n",
       "      <td>CLYMB</td>\n",
       "      <td>Men Running Shoes</td>\n",
       "      <td>Rs. 794Rs. 1499(47% OFF)</td>\n",
       "    </tr>\n",
       "    <tr>\n",
       "      <th>11</th>\n",
       "      <td>Provogue</td>\n",
       "      <td>Men Solid Formal Loafers</td>\n",
       "      <td>Rs. 879Rs. 4395(80% OFF)</td>\n",
       "    </tr>\n",
       "    <tr>\n",
       "      <th>12</th>\n",
       "      <td>Harrytech London</td>\n",
       "      <td>Men Formal Oxfords</td>\n",
       "      <td>Rs. 1850</td>\n",
       "    </tr>\n",
       "    <tr>\n",
       "      <th>13</th>\n",
       "      <td>HIGHLANDER</td>\n",
       "      <td>Men Sneakers</td>\n",
       "      <td>Rs. 995Rs. 1990(50% OFF)</td>\n",
       "    </tr>\n",
       "    <tr>\n",
       "      <th>14</th>\n",
       "      <td>Fentacia</td>\n",
       "      <td>Men Lightweight Flat Boots</td>\n",
       "      <td>Rs. 1259Rs. 5999(79% OFF)</td>\n",
       "    </tr>\n",
       "    <tr>\n",
       "      <th>15</th>\n",
       "      <td>Puma</td>\n",
       "      <td>Men Running Shoes</td>\n",
       "      <td>Rs. 3229Rs. 3799(15% OFF)</td>\n",
       "    </tr>\n",
       "    <tr>\n",
       "      <th>16</th>\n",
       "      <td>HRX by Hrithik Roshan</td>\n",
       "      <td>Men Metalite Running Shoe</td>\n",
       "      <td>Rs. 2519Rs. 5599(55% OFF)</td>\n",
       "    </tr>\n",
       "    <tr>\n",
       "      <th>17</th>\n",
       "      <td>Campus</td>\n",
       "      <td>Men Running Shoes</td>\n",
       "      <td>Rs. 1546Rs. 1699(9% OFF)</td>\n",
       "    </tr>\n",
       "    <tr>\n",
       "      <th>18</th>\n",
       "      <td>mr.wonker</td>\n",
       "      <td>Men Angry Birds Sneakers</td>\n",
       "      <td>Rs. 665Rs. 3329(80% OFF)</td>\n",
       "    </tr>\n",
       "    <tr>\n",
       "      <th>19</th>\n",
       "      <td>Nike</td>\n",
       "      <td>Men Court Lite 2 Tennis Shoes</td>\n",
       "      <td>Rs. 4995</td>\n",
       "    </tr>\n",
       "    <tr>\n",
       "      <th>20</th>\n",
       "      <td>ALBERTO MORENO</td>\n",
       "      <td>Men Printed Derbys</td>\n",
       "      <td>Rs. 899Rs. 2999(Rs. 2100 OFF)</td>\n",
       "    </tr>\n",
       "    <tr>\n",
       "      <th>21</th>\n",
       "      <td>Sparx</td>\n",
       "      <td>Men Running Shoes</td>\n",
       "      <td>Rs. 1111Rs. 1249(11% OFF)</td>\n",
       "    </tr>\n",
       "    <tr>\n",
       "      <th>22</th>\n",
       "      <td>Puma</td>\n",
       "      <td>Women Enzo 2 Metal Shoes</td>\n",
       "      <td>Rs. 2749Rs. 5499(50% OFF)</td>\n",
       "    </tr>\n",
       "    <tr>\n",
       "      <th>23</th>\n",
       "      <td>HIGHLANDER</td>\n",
       "      <td>Men Solid Sneakers</td>\n",
       "      <td>Rs. 995Rs. 1990(50% OFF)</td>\n",
       "    </tr>\n",
       "    <tr>\n",
       "      <th>24</th>\n",
       "      <td>Mactree</td>\n",
       "      <td>Men Colourblocked Sneakers</td>\n",
       "      <td>Rs. 744Rs. 3720(80% OFF)</td>\n",
       "    </tr>\n",
       "    <tr>\n",
       "      <th>25</th>\n",
       "      <td>Roadster</td>\n",
       "      <td>Women Solid Sneakers</td>\n",
       "      <td>Rs. 1559Rs. 3899(60% OFF)</td>\n",
       "    </tr>\n",
       "    <tr>\n",
       "      <th>26</th>\n",
       "      <td>Sir Corbett</td>\n",
       "      <td>Men Oxford Formal Shoes</td>\n",
       "      <td>Rs. 998Rs. 3329(70% OFF)</td>\n",
       "    </tr>\n",
       "    <tr>\n",
       "      <th>27</th>\n",
       "      <td>HRX by Hrithik Roshan</td>\n",
       "      <td>Women Running Shoes</td>\n",
       "      <td>Rs. 1999Rs. 3999(50% OFF)</td>\n",
       "    </tr>\n",
       "    <tr>\n",
       "      <th>28</th>\n",
       "      <td>Mactree</td>\n",
       "      <td>Men Solid Formal Derbys</td>\n",
       "      <td>Rs. 788Rs. 3940(80% OFF)</td>\n",
       "    </tr>\n",
       "    <tr>\n",
       "      <th>29</th>\n",
       "      <td>H&amp;M</td>\n",
       "      <td>Men Trainers</td>\n",
       "      <td>Rs. 1999</td>\n",
       "    </tr>\n",
       "    <tr>\n",
       "      <th>30</th>\n",
       "      <td>ADIDAS</td>\n",
       "      <td>Men Adi Chic Running Shoes</td>\n",
       "      <td>Rs. 2294Rs. 2699(15% OFF)</td>\n",
       "    </tr>\n",
       "    <tr>\n",
       "      <th>31</th>\n",
       "      <td>PUMA Motorsport</td>\n",
       "      <td>SF Kart Cat Mid III Sneakers</td>\n",
       "      <td>Rs. 3574Rs. 6499(45% OFF)</td>\n",
       "    </tr>\n",
       "    <tr>\n",
       "      <th>32</th>\n",
       "      <td>Puma</td>\n",
       "      <td>Flex Essential Running Shoes</td>\n",
       "      <td>Rs. 2399Rs. 2999(20% OFF)</td>\n",
       "    </tr>\n",
       "    <tr>\n",
       "      <th>33</th>\n",
       "      <td>Provogue</td>\n",
       "      <td>Men Solid Formal Derbys</td>\n",
       "      <td>Rs. 899Rs. 4495(80% OFF)</td>\n",
       "    </tr>\n",
       "    <tr>\n",
       "      <th>34</th>\n",
       "      <td>ASIAN</td>\n",
       "      <td>Men Running Shoes</td>\n",
       "      <td>Rs. 1199Rs. 1999(Rs. 800 OFF)</td>\n",
       "    </tr>\n",
       "    <tr>\n",
       "      <th>35</th>\n",
       "      <td>Sparx</td>\n",
       "      <td>Men Running Shoes</td>\n",
       "      <td>Rs. 1033Rs. 1099(6% OFF)</td>\n",
       "    </tr>\n",
       "    <tr>\n",
       "      <th>36</th>\n",
       "      <td>Mactree</td>\n",
       "      <td>Men Suede Loafers</td>\n",
       "      <td>Rs. 898Rs. 4490(80% OFF)</td>\n",
       "    </tr>\n",
       "    <tr>\n",
       "      <th>37</th>\n",
       "      <td>HRX by Hrithik Roshan</td>\n",
       "      <td>Men Street Run 2.0 Shoe</td>\n",
       "      <td>Rs. 2639Rs. 4799(45% OFF)</td>\n",
       "    </tr>\n",
       "    <tr>\n",
       "      <th>38</th>\n",
       "      <td>Red Tape</td>\n",
       "      <td>Men Walking Shoes</td>\n",
       "      <td>Rs. 1739Rs. 5799(70% OFF)</td>\n",
       "    </tr>\n",
       "    <tr>\n",
       "      <th>39</th>\n",
       "      <td>Skechers</td>\n",
       "      <td>Men BOUNDER-VERTVILLE Sneakers</td>\n",
       "      <td>Rs. 3349Rs. 4999(33% OFF)</td>\n",
       "    </tr>\n",
       "    <tr>\n",
       "      <th>40</th>\n",
       "      <td>HRX by Hrithik Roshan</td>\n",
       "      <td>Unisex Sneakers</td>\n",
       "      <td>Rs. 1799Rs. 2999(40% OFF)</td>\n",
       "    </tr>\n",
       "    <tr>\n",
       "      <th>41</th>\n",
       "      <td>Nike</td>\n",
       "      <td>Men City Rep TR Training Shoes</td>\n",
       "      <td>Rs. 4995</td>\n",
       "    </tr>\n",
       "    <tr>\n",
       "      <th>42</th>\n",
       "      <td>Jack &amp; Jones</td>\n",
       "      <td>Men Printed Slip-On Sneakers</td>\n",
       "      <td>Rs. 1999Rs. 2499(20% OFF)</td>\n",
       "    </tr>\n",
       "    <tr>\n",
       "      <th>43</th>\n",
       "      <td>HRX by Hrithik Roshan</td>\n",
       "      <td>Men Core Sports Shoe</td>\n",
       "      <td>Rs. 2159Rs. 4799(55% OFF)</td>\n",
       "    </tr>\n",
       "    <tr>\n",
       "      <th>44</th>\n",
       "      <td>Shezone</td>\n",
       "      <td>Women Ballerinas</td>\n",
       "      <td>Rs. 699Rs. 999(30% OFF)</td>\n",
       "    </tr>\n",
       "    <tr>\n",
       "      <th>45</th>\n",
       "      <td>HIGHLANDER</td>\n",
       "      <td>Men Solid Sneakers</td>\n",
       "      <td>Rs. 1094Rs. 1990(45% OFF)</td>\n",
       "    </tr>\n",
       "    <tr>\n",
       "      <th>46</th>\n",
       "      <td>DressBerry</td>\n",
       "      <td>Women Pointy-Toed Flats</td>\n",
       "      <td>Rs. 899Rs. 1799(50% OFF)</td>\n",
       "    </tr>\n",
       "    <tr>\n",
       "      <th>47</th>\n",
       "      <td>HRX by Hrithik Roshan</td>\n",
       "      <td>Men Fly Sneaker</td>\n",
       "      <td>Rs. 1719Rs. 4299(60% OFF)</td>\n",
       "    </tr>\n",
       "    <tr>\n",
       "      <th>48</th>\n",
       "      <td>Jack &amp; Jones</td>\n",
       "      <td>Men Slip-On Sneakers</td>\n",
       "      <td>Rs. 1999Rs. 2499(20% OFF)</td>\n",
       "    </tr>\n",
       "    <tr>\n",
       "      <th>49</th>\n",
       "      <td>Catwalk</td>\n",
       "      <td>Women Sandals</td>\n",
       "      <td>Rs. 1382Rs. 2095(34% OFF)</td>\n",
       "    </tr>\n",
       "  </tbody>\n",
       "</table>\n",
       "</div>"
      ],
      "text/plain": [
       "                    Brand                     Description  \\\n",
       "0                  Reebok      Men Ultrafit Running Shoes   \n",
       "1   HRX by Hrithik Roshan                                   \n",
       "2              HIGHLANDER              Men Solid Sneakers   \n",
       "3                  Campus               Men Running Shoes   \n",
       "4             Sir Corbett               Semi-Formal Shoes   \n",
       "5               mr.wonker               Men Running Shoes   \n",
       "6                    Nike       Men QUEST 3 Running Shoes   \n",
       "7   HRX by Hrithik Roshan   Men Woven Design Fly Sneakers   \n",
       "8                INVICTUS   Men Solid Formal Oxford Shoes   \n",
       "9                Roadster              Men Solid Sneakers   \n",
       "10                  CLYMB               Men Running Shoes   \n",
       "11               Provogue        Men Solid Formal Loafers   \n",
       "12       Harrytech London              Men Formal Oxfords   \n",
       "13             HIGHLANDER                    Men Sneakers   \n",
       "14               Fentacia      Men Lightweight Flat Boots   \n",
       "15                   Puma               Men Running Shoes   \n",
       "16  HRX by Hrithik Roshan       Men Metalite Running Shoe   \n",
       "17                 Campus               Men Running Shoes   \n",
       "18              mr.wonker        Men Angry Birds Sneakers   \n",
       "19                   Nike   Men Court Lite 2 Tennis Shoes   \n",
       "20         ALBERTO MORENO              Men Printed Derbys   \n",
       "21                  Sparx               Men Running Shoes   \n",
       "22                   Puma        Women Enzo 2 Metal Shoes   \n",
       "23             HIGHLANDER              Men Solid Sneakers   \n",
       "24                Mactree      Men Colourblocked Sneakers   \n",
       "25               Roadster            Women Solid Sneakers   \n",
       "26            Sir Corbett         Men Oxford Formal Shoes   \n",
       "27  HRX by Hrithik Roshan             Women Running Shoes   \n",
       "28                Mactree         Men Solid Formal Derbys   \n",
       "29                    H&M                    Men Trainers   \n",
       "30                 ADIDAS      Men Adi Chic Running Shoes   \n",
       "31        PUMA Motorsport    SF Kart Cat Mid III Sneakers   \n",
       "32                   Puma    Flex Essential Running Shoes   \n",
       "33               Provogue         Men Solid Formal Derbys   \n",
       "34                  ASIAN               Men Running Shoes   \n",
       "35                  Sparx               Men Running Shoes   \n",
       "36                Mactree               Men Suede Loafers   \n",
       "37  HRX by Hrithik Roshan         Men Street Run 2.0 Shoe   \n",
       "38               Red Tape               Men Walking Shoes   \n",
       "39               Skechers  Men BOUNDER-VERTVILLE Sneakers   \n",
       "40  HRX by Hrithik Roshan                 Unisex Sneakers   \n",
       "41                   Nike  Men City Rep TR Training Shoes   \n",
       "42           Jack & Jones    Men Printed Slip-On Sneakers   \n",
       "43  HRX by Hrithik Roshan            Men Core Sports Shoe   \n",
       "44                Shezone                Women Ballerinas   \n",
       "45             HIGHLANDER              Men Solid Sneakers   \n",
       "46             DressBerry         Women Pointy-Toed Flats   \n",
       "47  HRX by Hrithik Roshan                 Men Fly Sneaker   \n",
       "48           Jack & Jones            Men Slip-On Sneakers   \n",
       "49                Catwalk                   Women Sandals   \n",
       "\n",
       "                            Price  \n",
       "0       Rs. 3199Rs. 3999(20% OFF)  \n",
       "1       Rs. 1679Rs. 4799(65% OFF)  \n",
       "2        Rs. 995Rs. 1990(50% OFF)  \n",
       "3        Rs. 1709Rs. 1799(5% OFF)  \n",
       "4        Rs. 914Rs. 3049(70% OFF)  \n",
       "5        Rs. 739Rs. 3699(80% OFF)  \n",
       "6       Rs. 5095Rs. 5995(15% OFF)  \n",
       "7       Rs. 1399Rs. 3499(60% OFF)  \n",
       "8        Rs. 868Rs. 2995(71% OFF)  \n",
       "9       Rs. 1349Rs. 2999(55% OFF)  \n",
       "10       Rs. 794Rs. 1499(47% OFF)  \n",
       "11       Rs. 879Rs. 4395(80% OFF)  \n",
       "12                       Rs. 1850  \n",
       "13       Rs. 995Rs. 1990(50% OFF)  \n",
       "14      Rs. 1259Rs. 5999(79% OFF)  \n",
       "15      Rs. 3229Rs. 3799(15% OFF)  \n",
       "16      Rs. 2519Rs. 5599(55% OFF)  \n",
       "17       Rs. 1546Rs. 1699(9% OFF)  \n",
       "18       Rs. 665Rs. 3329(80% OFF)  \n",
       "19                       Rs. 4995  \n",
       "20  Rs. 899Rs. 2999(Rs. 2100 OFF)  \n",
       "21      Rs. 1111Rs. 1249(11% OFF)  \n",
       "22      Rs. 2749Rs. 5499(50% OFF)  \n",
       "23       Rs. 995Rs. 1990(50% OFF)  \n",
       "24       Rs. 744Rs. 3720(80% OFF)  \n",
       "25      Rs. 1559Rs. 3899(60% OFF)  \n",
       "26       Rs. 998Rs. 3329(70% OFF)  \n",
       "27      Rs. 1999Rs. 3999(50% OFF)  \n",
       "28       Rs. 788Rs. 3940(80% OFF)  \n",
       "29                       Rs. 1999  \n",
       "30      Rs. 2294Rs. 2699(15% OFF)  \n",
       "31      Rs. 3574Rs. 6499(45% OFF)  \n",
       "32      Rs. 2399Rs. 2999(20% OFF)  \n",
       "33       Rs. 899Rs. 4495(80% OFF)  \n",
       "34  Rs. 1199Rs. 1999(Rs. 800 OFF)  \n",
       "35       Rs. 1033Rs. 1099(6% OFF)  \n",
       "36       Rs. 898Rs. 4490(80% OFF)  \n",
       "37      Rs. 2639Rs. 4799(45% OFF)  \n",
       "38      Rs. 1739Rs. 5799(70% OFF)  \n",
       "39      Rs. 3349Rs. 4999(33% OFF)  \n",
       "40      Rs. 1799Rs. 2999(40% OFF)  \n",
       "41                       Rs. 4995  \n",
       "42      Rs. 1999Rs. 2499(20% OFF)  \n",
       "43      Rs. 2159Rs. 4799(55% OFF)  \n",
       "44        Rs. 699Rs. 999(30% OFF)  \n",
       "45      Rs. 1094Rs. 1990(45% OFF)  \n",
       "46       Rs. 899Rs. 1799(50% OFF)  \n",
       "47      Rs. 1719Rs. 4299(60% OFF)  \n",
       "48      Rs. 1999Rs. 2499(20% OFF)  \n",
       "49      Rs. 1382Rs. 2095(34% OFF)  "
      ]
     },
     "execution_count": 111,
     "metadata": {},
     "output_type": "execute_result"
    }
   ],
   "source": [
    "## Creating DataFrame:\n",
    "df1 = pd.DataFrame()\n",
    "df1['Brand'] = brand\n",
    "df1['Description'] = description\n",
    "df1['Price'] = price\n",
    "df1"
   ]
  },
  {
   "cell_type": "code",
   "execution_count": 112,
   "id": "fe8b753b",
   "metadata": {},
   "outputs": [
    {
     "data": {
      "text/html": [
       "<div>\n",
       "<style scoped>\n",
       "    .dataframe tbody tr th:only-of-type {\n",
       "        vertical-align: middle;\n",
       "    }\n",
       "\n",
       "    .dataframe tbody tr th {\n",
       "        vertical-align: top;\n",
       "    }\n",
       "\n",
       "    .dataframe thead th {\n",
       "        text-align: right;\n",
       "    }\n",
       "</style>\n",
       "<table border=\"1\" class=\"dataframe\">\n",
       "  <thead>\n",
       "    <tr style=\"text-align: right;\">\n",
       "      <th></th>\n",
       "      <th>Brand</th>\n",
       "      <th>Description</th>\n",
       "      <th>Price</th>\n",
       "    </tr>\n",
       "  </thead>\n",
       "  <tbody>\n",
       "    <tr>\n",
       "      <th>0</th>\n",
       "      <td>U.S. Polo Assn.</td>\n",
       "      <td>Men Sneakers</td>\n",
       "      <td>Rs. 1949Rs. 2999(35% OFF)</td>\n",
       "    </tr>\n",
       "    <tr>\n",
       "      <th>1</th>\n",
       "      <td>Nike</td>\n",
       "      <td>Men Downshifter 10 Running</td>\n",
       "      <td>Rs. 3595Rs. 3995(10% OFF)</td>\n",
       "    </tr>\n",
       "    <tr>\n",
       "      <th>2</th>\n",
       "      <td>Newfeel By Decathlon</td>\n",
       "      <td>Men Walking Shoes</td>\n",
       "      <td>Rs. 899</td>\n",
       "    </tr>\n",
       "    <tr>\n",
       "      <th>3</th>\n",
       "      <td>Roadster</td>\n",
       "      <td>Men Suede Finish Sneakers</td>\n",
       "      <td>Rs. 1154Rs. 3299(65% OFF)</td>\n",
       "    </tr>\n",
       "    <tr>\n",
       "      <th>4</th>\n",
       "      <td>Red Tape</td>\n",
       "      <td>Men Walking Shoes</td>\n",
       "      <td>Rs. 1469Rs. 4899(70% OFF)</td>\n",
       "    </tr>\n",
       "    <tr>\n",
       "      <th>...</th>\n",
       "      <td>...</td>\n",
       "      <td>...</td>\n",
       "      <td>...</td>\n",
       "    </tr>\n",
       "    <tr>\n",
       "      <th>45</th>\n",
       "      <td>HIGHLANDER</td>\n",
       "      <td>Men Solid Sneakers</td>\n",
       "      <td>Rs. 1094Rs. 1990(45% OFF)</td>\n",
       "    </tr>\n",
       "    <tr>\n",
       "      <th>46</th>\n",
       "      <td>DressBerry</td>\n",
       "      <td>Women Pointy-Toed Flats</td>\n",
       "      <td>Rs. 899Rs. 1799(50% OFF)</td>\n",
       "    </tr>\n",
       "    <tr>\n",
       "      <th>47</th>\n",
       "      <td>HRX by Hrithik Roshan</td>\n",
       "      <td>Men Fly Sneaker</td>\n",
       "      <td>Rs. 1719Rs. 4299(60% OFF)</td>\n",
       "    </tr>\n",
       "    <tr>\n",
       "      <th>48</th>\n",
       "      <td>Jack &amp; Jones</td>\n",
       "      <td>Men Slip-On Sneakers</td>\n",
       "      <td>Rs. 1999Rs. 2499(20% OFF)</td>\n",
       "    </tr>\n",
       "    <tr>\n",
       "      <th>49</th>\n",
       "      <td>Catwalk</td>\n",
       "      <td>Women Sandals</td>\n",
       "      <td>Rs. 1382Rs. 2095(34% OFF)</td>\n",
       "    </tr>\n",
       "  </tbody>\n",
       "</table>\n",
       "<p>100 rows × 3 columns</p>\n",
       "</div>"
      ],
      "text/plain": [
       "                    Brand                 Description  \\\n",
       "0         U.S. Polo Assn.                Men Sneakers   \n",
       "1                    Nike  Men Downshifter 10 Running   \n",
       "2    Newfeel By Decathlon           Men Walking Shoes   \n",
       "3                Roadster   Men Suede Finish Sneakers   \n",
       "4                Red Tape           Men Walking Shoes   \n",
       "..                    ...                         ...   \n",
       "45             HIGHLANDER          Men Solid Sneakers   \n",
       "46             DressBerry     Women Pointy-Toed Flats   \n",
       "47  HRX by Hrithik Roshan             Men Fly Sneaker   \n",
       "48           Jack & Jones        Men Slip-On Sneakers   \n",
       "49                Catwalk               Women Sandals   \n",
       "\n",
       "                        Price  \n",
       "0   Rs. 1949Rs. 2999(35% OFF)  \n",
       "1   Rs. 3595Rs. 3995(10% OFF)  \n",
       "2                     Rs. 899  \n",
       "3   Rs. 1154Rs. 3299(65% OFF)  \n",
       "4   Rs. 1469Rs. 4899(70% OFF)  \n",
       "..                        ...  \n",
       "45  Rs. 1094Rs. 1990(45% OFF)  \n",
       "46   Rs. 899Rs. 1799(50% OFF)  \n",
       "47  Rs. 1719Rs. 4299(60% OFF)  \n",
       "48  Rs. 1999Rs. 2499(20% OFF)  \n",
       "49  Rs. 1382Rs. 2095(34% OFF)  \n",
       "\n",
       "[100 rows x 3 columns]"
      ]
     },
     "execution_count": 112,
     "metadata": {},
     "output_type": "execute_result"
    }
   ],
   "source": [
    "## now we will merge all the 3 dataframes and create one dataframe with 100 Sunglasses details.\n",
    "df2 = pd.concat([df, df1 ], axis=0)\n",
    "df2.head(100)"
   ]
  },
  {
   "cell_type": "code",
   "execution_count": null,
   "id": "b045578c",
   "metadata": {},
   "outputs": [],
   "source": []
  },
  {
   "cell_type": "markdown",
   "id": "f86b9d20",
   "metadata": {},
   "source": [
    "#### 8) Go to webpage https://www.amazon.in/\n",
    "Enter “Laptop” in the search field and then click the search icon.\n",
    "Then set CPU Type filter to “Intel Core i7” and “Intel Core i9” as shown in the below image \n",
    "After setting the filters scrape first 10 laptops data. You have to scrape 3 attributesfor each laptop:\n",
    "1. Title\n",
    "2. Ratings\n",
    "3. Price\n",
    "As shown in the below image as the tick marked attributes\n"
   ]
  },
  {
   "cell_type": "code",
   "execution_count": 113,
   "id": "58dccacc",
   "metadata": {},
   "outputs": [],
   "source": [
    "import selenium\n",
    "from selenium import webdriver\n",
    "import pandas as pd\n",
    "import warnings\n",
    "warnings.filterwarnings(\"ignore\")\n",
    "\n",
    "from selenium import webdriver\n",
    "driver=webdriver.Chrome(r'C:\\Users\\kunda\\OneDrive\\Desktop\\chromedriver.exe')"
   ]
  },
  {
   "cell_type": "code",
   "execution_count": 114,
   "id": "a1f69dba",
   "metadata": {},
   "outputs": [],
   "source": [
    "url = \"https://www.amazon.in/\"\n",
    "driver.get(url)"
   ]
  },
  {
   "cell_type": "code",
   "execution_count": 115,
   "id": "9fbb3e69",
   "metadata": {},
   "outputs": [
    {
     "data": {
      "text/plain": [
       "<selenium.webdriver.remote.webelement.WebElement (session=\"5256377ea9634b4217af342b1bf028eb\", element=\"1d527701-4ae7-4982-bb47-f47dccc95ce4\")>"
      ]
     },
     "execution_count": 115,
     "metadata": {},
     "output_type": "execute_result"
    }
   ],
   "source": [
    "## finding web element for search job bar using class name\n",
    "search_product = driver.find_element_by_xpath(\"/html/body/div[1]/header/div/div[1]/div[2]/div/form/div[2]/div[1]/input\")\n",
    "search_product"
   ]
  },
  {
   "cell_type": "code",
   "execution_count": 116,
   "id": "e08b32da",
   "metadata": {},
   "outputs": [],
   "source": [
    "# write on search bar \n",
    "search_product.send_keys(\"Laptop\")"
   ]
  },
  {
   "cell_type": "code",
   "execution_count": 117,
   "id": "e0d502d2",
   "metadata": {},
   "outputs": [
    {
     "data": {
      "text/plain": [
       "<selenium.webdriver.remote.webelement.WebElement (session=\"5256377ea9634b4217af342b1bf028eb\", element=\"ce9caaf5-bd1a-4c8a-9398-1f4f4a24721a\")>"
      ]
     },
     "execution_count": 117,
     "metadata": {},
     "output_type": "execute_result"
    }
   ],
   "source": [
    "search_product = driver.find_element_by_class_name(\"nav-right\")\n",
    "search_product "
   ]
  },
  {
   "cell_type": "code",
   "execution_count": 118,
   "id": "fcb026a0",
   "metadata": {},
   "outputs": [],
   "source": [
    "search_product.click()"
   ]
  },
  {
   "cell_type": "code",
   "execution_count": 119,
   "id": "bb15a1a5",
   "metadata": {},
   "outputs": [
    {
     "data": {
      "text/plain": [
       "6"
      ]
     },
     "execution_count": 119,
     "metadata": {},
     "output_type": "execute_result"
    }
   ],
   "source": [
    "## Now we will scrape  Title .Ratings .Price\n",
    "title_tags = driver.find_elements_by_xpath('//h2[@class=\"a-size-mini a-spacing-none a-color-base s-line-clamp-2\"]')\n",
    "len(title_tags)\n",
    "\n",
    "title= []\n",
    "for i in title_tags:\n",
    "    title.append(i.text)\n",
    "len('title')\n",
    "\n",
    "price_tags = driver.find_elements_by_xpath('//span[@class=\"a-price\"]')\n",
    "len(price_tags)\n",
    "\n",
    "price = []\n",
    "for i in price_tags:\n",
    "    price.append(i.text)\n",
    "len('price')\n",
    "\n",
    "\n",
    "rating_tags = driver.find_elements_by_xpath('//i[@class=\"a-icon a-icon-popover\"]')\n",
    "len(rating_tags)\n",
    "\n",
    "rating = []\n",
    "for i in rating_tags:\n",
    "    rating.append(i.text)\n",
    "len('rating')\n"
   ]
  },
  {
   "cell_type": "code",
   "execution_count": 120,
   "id": "0cb4daac",
   "metadata": {},
   "outputs": [
    {
     "data": {
      "text/html": [
       "<div>\n",
       "<style scoped>\n",
       "    .dataframe tbody tr th:only-of-type {\n",
       "        vertical-align: middle;\n",
       "    }\n",
       "\n",
       "    .dataframe tbody tr th {\n",
       "        vertical-align: top;\n",
       "    }\n",
       "\n",
       "    .dataframe thead th {\n",
       "        text-align: right;\n",
       "    }\n",
       "</style>\n",
       "<table border=\"1\" class=\"dataframe\">\n",
       "  <thead>\n",
       "    <tr style=\"text-align: right;\">\n",
       "      <th></th>\n",
       "      <th>Title</th>\n",
       "      <th>Price</th>\n",
       "    </tr>\n",
       "  </thead>\n",
       "  <tbody>\n",
       "    <tr>\n",
       "      <th>0</th>\n",
       "      <td>HP 14s, 5th Gen Ryzen 3- 8GB RAM/512GB SSD 14i...</td>\n",
       "      <td>₹42,890</td>\n",
       "    </tr>\n",
       "    <tr>\n",
       "      <th>1</th>\n",
       "      <td>RedmiBook 15 e-Learning Edition Core i3 11th G...</td>\n",
       "      <td>₹38,990</td>\n",
       "    </tr>\n",
       "    <tr>\n",
       "      <th>2</th>\n",
       "      <td>Lenovo Chromebook 14e 14.0\" FHD Business Lapto...</td>\n",
       "      <td>₹20,990</td>\n",
       "    </tr>\n",
       "    <tr>\n",
       "      <th>3</th>\n",
       "      <td>Dell 15 (2021) Athlon Silver 3050U, 4GB, 256GB...</td>\n",
       "      <td>₹29,490</td>\n",
       "    </tr>\n",
       "    <tr>\n",
       "      <th>4</th>\n",
       "      <td>HP Chromebook 14 Intel Celeron N4020-4GB SDRAM...</td>\n",
       "      <td>₹26,490</td>\n",
       "    </tr>\n",
       "    <tr>\n",
       "      <th>5</th>\n",
       "      <td>ASUS ZenBook 14 (2020) Intel Core i5-1135G7 11...</td>\n",
       "      <td>₹81,990</td>\n",
       "    </tr>\n",
       "    <tr>\n",
       "      <th>6</th>\n",
       "      <td>HP 14 10th Gen Intel Core i5-10210U 14 inches ...</td>\n",
       "      <td>₹90,990</td>\n",
       "    </tr>\n",
       "    <tr>\n",
       "      <th>7</th>\n",
       "      <td></td>\n",
       "      <td>₹55,000</td>\n",
       "    </tr>\n",
       "    <tr>\n",
       "      <th>8</th>\n",
       "      <td>HP Chromebook 14 Intel Celeron N4020-4GB SDRAM...</td>\n",
       "      <td></td>\n",
       "    </tr>\n",
       "    <tr>\n",
       "      <th>9</th>\n",
       "      <td>Lenovo IdeaPad Slim 3 10th Gen Intel Core i3 1...</td>\n",
       "      <td>₹26,470</td>\n",
       "    </tr>\n",
       "  </tbody>\n",
       "</table>\n",
       "</div>"
      ],
      "text/plain": [
       "                                               Title    Price\n",
       "0  HP 14s, 5th Gen Ryzen 3- 8GB RAM/512GB SSD 14i...  ₹42,890\n",
       "1  RedmiBook 15 e-Learning Edition Core i3 11th G...  ₹38,990\n",
       "2  Lenovo Chromebook 14e 14.0\" FHD Business Lapto...  ₹20,990\n",
       "3  Dell 15 (2021) Athlon Silver 3050U, 4GB, 256GB...  ₹29,490\n",
       "4  HP Chromebook 14 Intel Celeron N4020-4GB SDRAM...  ₹26,490\n",
       "5  ASUS ZenBook 14 (2020) Intel Core i5-1135G7 11...  ₹81,990\n",
       "6  HP 14 10th Gen Intel Core i5-10210U 14 inches ...  ₹90,990\n",
       "7                                                     ₹55,000\n",
       "8  HP Chromebook 14 Intel Celeron N4020-4GB SDRAM...         \n",
       "9  Lenovo IdeaPad Slim 3 10th Gen Intel Core i3 1...  ₹26,470"
      ]
     },
     "execution_count": 120,
     "metadata": {},
     "output_type": "execute_result"
    }
   ],
   "source": [
    "## Creating DataFrame:\n",
    "df = pd.DataFrame()\n",
    "df['Title'] = title\n",
    "df['Price'] = price\n",
    "df.head(10)"
   ]
  },
  {
   "cell_type": "markdown",
   "id": "ad85a592",
   "metadata": {},
   "source": [
    "#### 9): Write a python program to scrape data for first 10 job results for Data Scientist Designation in Noida\n",
    "location. You have to scrape company name, No. of days ago when job was posted, Rating of the company.\n",
    "This task will be done in following steps:\n",
    "1. First get the webpage https://www.ambitionbox.com/\n",
    "2. Click on the Job option as shown in the image\n",
    "After reaching to the next webpage, In place of “Search by Designations, Companies, Skills” enter\n",
    "“Data Scientist” and click on search button.\n",
    "4.You will reach to the following web page click on location and in place of “Search location” enter\n",
    "“Noida” and select location “Noida”.\n",
    "5. Then scrape the data for the first 10 jobs results you get on the above shown page.\n",
    "6. Finally create a dataframe of the scraped data.\n",
    "Note: All the steps required during scraping should be do\n"
   ]
  },
  {
   "cell_type": "code",
   "execution_count": 174,
   "id": "33da8de4",
   "metadata": {},
   "outputs": [],
   "source": [
    "import selenium\n",
    "from selenium import webdriver\n",
    "import pandas as pd\n",
    "import warnings\n",
    "warnings.filterwarnings(\"ignore\")\n",
    "\n",
    "from selenium import webdriver\n",
    "driver=webdriver.Chrome(r'C:\\Users\\kunda\\OneDrive\\Desktop\\chromedriver.exe')"
   ]
  },
  {
   "cell_type": "code",
   "execution_count": 175,
   "id": "3e5c7d42",
   "metadata": {},
   "outputs": [],
   "source": [
    "url = \"https://www.ambitionbox.com/\"\n",
    "driver.get(url)"
   ]
  },
  {
   "cell_type": "code",
   "execution_count": 176,
   "id": "3156ca06",
   "metadata": {},
   "outputs": [
    {
     "data": {
      "text/plain": [
       "<selenium.webdriver.remote.webelement.WebElement (session=\"e293ab6e3dadc26b2e795752aef3ca57\", element=\"80a97089-d92e-4590-ba67-61be9f09819f\")>"
      ]
     },
     "execution_count": 176,
     "metadata": {},
     "output_type": "execute_result"
    }
   ],
   "source": [
    "## finding web element for search job bar using xpath.\n",
    "search_job = driver.find_element_by_xpath(\"/html/body/div/div/div/div[2]/div[1]/div/div/div/div/span/input\")\n",
    "search_job "
   ]
  },
  {
   "cell_type": "code",
   "execution_count": 163,
   "id": "5b27c623",
   "metadata": {},
   "outputs": [
    {
     "data": {
      "text/plain": [
       "<selenium.webdriver.remote.webelement.WebElement (session=\"bab8c28535d4196228b45321fac33e93\", element=\"a2397e7a-e065-412b-b4bb-d7b752d4d616\")>"
      ]
     },
     "execution_count": 163,
     "metadata": {},
     "output_type": "execute_result"
    }
   ],
   "source": [
    "search_job = driver.find_element_by_xpath(\"/html/body/section[1]/div/div[2]/form/span/input\")\n",
    "search_job "
   ]
  },
  {
   "cell_type": "code",
   "execution_count": 177,
   "id": "9594a66f",
   "metadata": {},
   "outputs": [],
   "source": [
    "search_job.send_keys(\"Data Scientist\")"
   ]
  },
  {
   "cell_type": "code",
   "execution_count": 178,
   "id": "649c4f04",
   "metadata": {},
   "outputs": [
    {
     "data": {
      "text/plain": [
       "<selenium.webdriver.remote.webelement.WebElement (session=\"e293ab6e3dadc26b2e795752aef3ca57\", element=\"c972d4b7-3209-47c4-bec0-cebac7fdd38e\")>"
      ]
     },
     "execution_count": 178,
     "metadata": {},
     "output_type": "execute_result"
    }
   ],
   "source": [
    "## Finding web element for search location bar using absolute xpath\n",
    "search_loc = driver.find_element_by_xpath('/html/body/div/div/div/div[2]/div[1]/div/div/div/button/span')\n",
    "search_loc"
   ]
  },
  {
   "cell_type": "code",
   "execution_count": 179,
   "id": "5b0dc1aa",
   "metadata": {},
   "outputs": [],
   "source": [
    "search_loc.click()"
   ]
  },
  {
   "cell_type": "code",
   "execution_count": 183,
   "id": "d929cb7f",
   "metadata": {},
   "outputs": [],
   "source": [
    "search_loc = driver.find_element_by_xpath('/html/body/div/div/div/div[2]/div[2]/div[1]/div/div/div/div[2]/div[1]/i')\n",
    "search_loc.click()"
   ]
  },
  {
   "cell_type": "code",
   "execution_count": 184,
   "id": "c43336be",
   "metadata": {},
   "outputs": [
    {
     "data": {
      "text/plain": [
       "<selenium.webdriver.remote.webelement.WebElement (session=\"e293ab6e3dadc26b2e795752aef3ca57\", element=\"9fa1285d-ff15-4d5b-932d-6c795f2bec2f\")>"
      ]
     },
     "execution_count": 184,
     "metadata": {},
     "output_type": "execute_result"
    }
   ],
   "source": [
    "search_loc = driver.find_element_by_xpath('/html/body/div/div/div/div[2]/div[2]/div[1]/div/div/div/div[2]/div[2]/div/div[2]/input')\n",
    "search_loc"
   ]
  },
  {
   "cell_type": "code",
   "execution_count": 185,
   "id": "7417221f",
   "metadata": {},
   "outputs": [],
   "source": [
    "search_loc.send_keys(\"Noida\")"
   ]
  },
  {
   "cell_type": "code",
   "execution_count": 186,
   "id": "9aea8c34",
   "metadata": {},
   "outputs": [
    {
     "data": {
      "text/plain": [
       "['Jubilant Foodworks Limited',\n",
       " 'HCL Technologies',\n",
       " 'EY GDS',\n",
       " 'Tavant Technologies India Pvt. Ltd.',\n",
       " 'Denave India Pvt Ltd.',\n",
       " 'EXL Service',\n",
       " 'CHT Sapiense',\n",
       " 'Pitney Bowes India Pvt ltd',\n",
       " 'Zyoin',\n",
       " 'Ameriprise Financial']"
      ]
     },
     "execution_count": 186,
     "metadata": {},
     "output_type": "execute_result"
    }
   ],
   "source": [
    "## Now we will scrape  title .Ratings .job date\n",
    "title_tags = driver.find_elements_by_xpath('//p[@class=\"company body-medium\" ]')\n",
    "len(title_tags)\n",
    "\n",
    "title= []\n",
    "for i in title_tags:\n",
    "    title.append(i.text)\n",
    "len('title')\n",
    "\n",
    "title"
   ]
  },
  {
   "cell_type": "code",
   "execution_count": 187,
   "id": "9562e851",
   "metadata": {},
   "outputs": [
    {
     "data": {
      "text/plain": [
       "['3.9', '3.8', '3.7', '4.0', '4.0', '3.8', '3.8', '4.2', '4.1', '4.0']"
      ]
     },
     "execution_count": 187,
     "metadata": {},
     "output_type": "execute_result"
    }
   ],
   "source": [
    "rating_tags = driver.find_elements_by_xpath('//span[@class=\"body-small\"]')\n",
    "len(rating_tags)\n",
    "\n",
    "rating = []\n",
    "for i in rating_tags:\n",
    "    rating.append(i.text)\n",
    "len('rating')\n",
    "\n",
    "rating"
   ]
  },
  {
   "cell_type": "code",
   "execution_count": 191,
   "id": "2a24bde1",
   "metadata": {},
   "outputs": [
    {
     "data": {
      "text/plain": [
       "[]"
      ]
     },
     "execution_count": 191,
     "metadata": {},
     "output_type": "execute_result"
    }
   ],
   "source": [
    "\n",
    "job_tags = driver.find_elements_by_xpath('//*[contains(@title,\"ago\")]')\n",
    "len(job_tags)\n",
    "\n",
    "job_date = []\n",
    "for i in job_tags:\n",
    "    job_date.append(i.text)\n",
    "len('job_date')\n",
    "\n",
    "job_date\n"
   ]
  },
  {
   "cell_type": "code",
   "execution_count": 225,
   "id": "5bf20253",
   "metadata": {},
   "outputs": [
    {
     "data": {
      "text/html": [
       "<div>\n",
       "<style scoped>\n",
       "    .dataframe tbody tr th:only-of-type {\n",
       "        vertical-align: middle;\n",
       "    }\n",
       "\n",
       "    .dataframe tbody tr th {\n",
       "        vertical-align: top;\n",
       "    }\n",
       "\n",
       "    .dataframe thead th {\n",
       "        text-align: right;\n",
       "    }\n",
       "</style>\n",
       "<table border=\"1\" class=\"dataframe\">\n",
       "  <thead>\n",
       "    <tr style=\"text-align: right;\">\n",
       "      <th></th>\n",
       "      <th>Title</th>\n",
       "      <th>Rating</th>\n",
       "    </tr>\n",
       "  </thead>\n",
       "  <tbody>\n",
       "    <tr>\n",
       "      <th>0</th>\n",
       "      <td>Jubilant Foodworks Limited</td>\n",
       "      <td>3.9</td>\n",
       "    </tr>\n",
       "    <tr>\n",
       "      <th>1</th>\n",
       "      <td>HCL Technologies</td>\n",
       "      <td>3.8</td>\n",
       "    </tr>\n",
       "    <tr>\n",
       "      <th>2</th>\n",
       "      <td>EY GDS</td>\n",
       "      <td>3.7</td>\n",
       "    </tr>\n",
       "    <tr>\n",
       "      <th>3</th>\n",
       "      <td>Tavant Technologies India Pvt. Ltd.</td>\n",
       "      <td>4.0</td>\n",
       "    </tr>\n",
       "    <tr>\n",
       "      <th>4</th>\n",
       "      <td>Denave India Pvt Ltd.</td>\n",
       "      <td>4.0</td>\n",
       "    </tr>\n",
       "    <tr>\n",
       "      <th>5</th>\n",
       "      <td>EXL Service</td>\n",
       "      <td>3.8</td>\n",
       "    </tr>\n",
       "    <tr>\n",
       "      <th>6</th>\n",
       "      <td>CHT Sapiense</td>\n",
       "      <td>3.8</td>\n",
       "    </tr>\n",
       "    <tr>\n",
       "      <th>7</th>\n",
       "      <td>Pitney Bowes India Pvt ltd</td>\n",
       "      <td>4.2</td>\n",
       "    </tr>\n",
       "    <tr>\n",
       "      <th>8</th>\n",
       "      <td>Zyoin</td>\n",
       "      <td>4.1</td>\n",
       "    </tr>\n",
       "    <tr>\n",
       "      <th>9</th>\n",
       "      <td>Ameriprise Financial</td>\n",
       "      <td>4.0</td>\n",
       "    </tr>\n",
       "  </tbody>\n",
       "</table>\n",
       "</div>"
      ],
      "text/plain": [
       "                                 Title Rating\n",
       "0           Jubilant Foodworks Limited    3.9\n",
       "1                     HCL Technologies    3.8\n",
       "2                               EY GDS    3.7\n",
       "3  Tavant Technologies India Pvt. Ltd.    4.0\n",
       "4                Denave India Pvt Ltd.    4.0\n",
       "5                          EXL Service    3.8\n",
       "6                         CHT Sapiense    3.8\n",
       "7           Pitney Bowes India Pvt ltd    4.2\n",
       "8                                Zyoin    4.1\n",
       "9                 Ameriprise Financial    4.0"
      ]
     },
     "execution_count": 225,
     "metadata": {},
     "output_type": "execute_result"
    }
   ],
   "source": [
    "## Creating DataFrame:\n",
    "df = pd.DataFrame()\n",
    "df['Title'] = title\n",
    "df['Rating'] = rating\n",
    "\n",
    "df.head(10)"
   ]
  },
  {
   "cell_type": "markdown",
   "id": "239ae839",
   "metadata": {},
   "source": [
    "### 10) Write a python program to scrape the salary data for Data Scientist designation.\n",
    "You have to scrape Company name, Number of salaries, Average salary, Minsalary, Max Salary.\n",
    "The above task will be, done as shown in the below steps:\n",
    "1. First get the webpage https://www.ambitionbox.com/\n",
    "2. Click on the salaries option as shown in the image.\n",
    "3. After reaching to the following webpage, In place of “Search Job Profile” enters “Data Scientist” and\n",
    "then click on “Data Scientist”.\n",
    "You have to scrape the data ticked in the above image.\n",
    "4. Scrape the data for the first 10 companies. Scrape the company name, total salary record, average\n",
    "salary, minimum salary, maximum salary, experience required.\n",
    "5. Store the data in a dataframe."
   ]
  },
  {
   "cell_type": "code",
   "execution_count": 201,
   "id": "aa47bdc5",
   "metadata": {},
   "outputs": [],
   "source": [
    "import selenium\n",
    "from selenium import webdriver\n",
    "import pandas as pd\n",
    "import warnings\n",
    "warnings.filterwarnings(\"ignore\")\n",
    "\n",
    "from selenium import webdriver\n",
    "driver=webdriver.Chrome(r'C:\\Users\\kunda\\OneDrive\\Desktop\\chromedriver.exe')"
   ]
  },
  {
   "cell_type": "code",
   "execution_count": 202,
   "id": "130cf18c",
   "metadata": {},
   "outputs": [],
   "source": [
    "url = \"https://www.ambitionbox.com/\"\n",
    "driver.get(url)"
   ]
  },
  {
   "cell_type": "code",
   "execution_count": 203,
   "id": "3bfc1cb7",
   "metadata": {},
   "outputs": [
    {
     "data": {
      "text/plain": [
       "<selenium.webdriver.remote.webelement.WebElement (session=\"8fc9d807dc0e19cb7999fdaacfddff4b\", element=\"d7b78d9c-c6b6-4e78-8f77-d9f30d053ba7\")>"
      ]
     },
     "execution_count": 203,
     "metadata": {},
     "output_type": "execute_result"
    }
   ],
   "source": [
    "## finding web element for search job bar using xpath.\n",
    "search_salaries = driver.find_element_by_xpath(\"/html/body/div[1]/nav/nav/a[4]\")\n",
    "search_salaries "
   ]
  },
  {
   "cell_type": "code",
   "execution_count": 204,
   "id": "a42fff45",
   "metadata": {},
   "outputs": [],
   "source": [
    "search_salaries.click()"
   ]
  },
  {
   "cell_type": "code",
   "execution_count": 205,
   "id": "835808ce",
   "metadata": {},
   "outputs": [
    {
     "data": {
      "text/plain": [
       "<selenium.webdriver.remote.webelement.WebElement (session=\"8fc9d807dc0e19cb7999fdaacfddff4b\", element=\"1c65b4e7-488c-4c23-9936-93892bcf8e01\")>"
      ]
     },
     "execution_count": 205,
     "metadata": {},
     "output_type": "execute_result"
    }
   ],
   "source": [
    "search_job = driver.find_element_by_xpath('/html/body/div/div/div/div[2]/div/div/div/div[1]/span/input')\n",
    "search_job"
   ]
  },
  {
   "cell_type": "code",
   "execution_count": 206,
   "id": "d2579247",
   "metadata": {},
   "outputs": [],
   "source": [
    "search_job.send_keys(\"Data Scientist\")"
   ]
  },
  {
   "cell_type": "code",
   "execution_count": 208,
   "id": "96caebc8",
   "metadata": {},
   "outputs": [
    {
     "data": {
      "text/plain": [
       "<selenium.webdriver.remote.webelement.WebElement (session=\"8fc9d807dc0e19cb7999fdaacfddff4b\", element=\"c82b34e6-00cd-4b8a-8d48-6fddafa10e16\")>"
      ]
     },
     "execution_count": 208,
     "metadata": {},
     "output_type": "execute_result"
    }
   ],
   "source": [
    "search_bar = driver.find_element_by_xpath('/html/body/div/div/div/main/section[1]/div[2]/div[1]/span/input')\n",
    "search_bar"
   ]
  },
  {
   "cell_type": "code",
   "execution_count": 209,
   "id": "13498358",
   "metadata": {},
   "outputs": [],
   "source": [
    "search_bar.send_keys(\"Data Scientist\")"
   ]
  },
  {
   "cell_type": "code",
   "execution_count": 212,
   "id": "709ddec2",
   "metadata": {},
   "outputs": [
    {
     "data": {
      "text/plain": [
       "['Walmartbased on 10 salaries',\n",
       " 'Ab Inbevbased on 25 salaries',\n",
       " 'ZSbased on 13 salaries',\n",
       " 'Optumbased on 25 salaries',\n",
       " 'Fractal Analyticsbased on 75 salaries',\n",
       " 'Tiger Analyticsbased on 30 salaries',\n",
       " 'UnitedHealthbased on 51 salaries',\n",
       " 'Verizonbased on 14 salaries',\n",
       " 'Ganit Business Solutionsbased on 13 salaries',\n",
       " 'Ericssonbased on 43 salaries']"
      ]
     },
     "execution_count": 212,
     "metadata": {},
     "output_type": "execute_result"
    }
   ],
   "source": [
    "## Now we will scrape  company name, total salary record, average salary, minimum salary, maximum salary, experience\n",
    "name_tags = driver.find_elements_by_xpath('//div[@class=\"name\"]')\n",
    "len(name_tags)\n",
    "\n",
    "name= []\n",
    "for i in name_tags:\n",
    "    name.append(i.text.replace('\\n',''))\n",
    "len('name')\n",
    "\n",
    "name"
   ]
  },
  {
   "cell_type": "code",
   "execution_count": 213,
   "id": "d8177690",
   "metadata": {},
   "outputs": [
    {
     "data": {
      "text/plain": [
       "10"
      ]
     },
     "execution_count": 213,
     "metadata": {},
     "output_type": "execute_result"
    }
   ],
   "source": [
    "Avg_sal = driver.find_elements_by_xpath('//p[@class=\"averageCtc\"]')\n",
    "len(Avg_sal)\n",
    "\n",
    "Avg_salary= []\n",
    "for i in Avg_sal:\n",
    "    Avg_salary.append(i.text.replace('\\n',''))\n",
    "len('Avg_salary')"
   ]
  },
  {
   "cell_type": "code",
   "execution_count": 214,
   "id": "4062fb87",
   "metadata": {},
   "outputs": [
    {
     "data": {
      "text/plain": [
       "['₹ 28.7L',\n",
       " '₹ 20.2L',\n",
       " '₹ 15.5L',\n",
       " '₹ 15.1L',\n",
       " '₹ 15.1L',\n",
       " '₹ 14.2L',\n",
       " '₹ 13.8L',\n",
       " '₹ 12.7L',\n",
       " '₹ 12.4L',\n",
       " '₹ 11.9L']"
      ]
     },
     "execution_count": 214,
     "metadata": {},
     "output_type": "execute_result"
    }
   ],
   "source": [
    "Avg_salary"
   ]
  },
  {
   "cell_type": "code",
   "execution_count": 221,
   "id": "7692579b",
   "metadata": {},
   "outputs": [
    {
     "data": {
      "text/plain": [
       "10"
      ]
     },
     "execution_count": 221,
     "metadata": {},
     "output_type": "execute_result"
    }
   ],
   "source": [
    "min_sal = driver.find_elements_by_xpath('//div[@class=\"value body-medium\"]')\n",
    "len(min_sal)\n",
    "\n",
    "min_salary= []\n",
    "for i in min_sal:\n",
    "    min_salary.append(i.text)\n",
    "len('min_salary')"
   ]
  },
  {
   "cell_type": "code",
   "execution_count": null,
   "id": "6a331b02",
   "metadata": {},
   "outputs": [],
   "source": []
  },
  {
   "cell_type": "code",
   "execution_count": null,
   "id": "f3f78748",
   "metadata": {},
   "outputs": [],
   "source": []
  }
 ],
 "metadata": {
  "kernelspec": {
   "display_name": "Python 3",
   "language": "python",
   "name": "python3"
  },
  "language_info": {
   "codemirror_mode": {
    "name": "ipython",
    "version": 3
   },
   "file_extension": ".py",
   "mimetype": "text/x-python",
   "name": "python",
   "nbconvert_exporter": "python",
   "pygments_lexer": "ipython3",
   "version": "3.8.8"
  }
 },
 "nbformat": 4,
 "nbformat_minor": 5
}
